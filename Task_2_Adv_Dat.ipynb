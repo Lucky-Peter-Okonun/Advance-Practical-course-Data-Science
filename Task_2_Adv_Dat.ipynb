{
  "nbformat": 4,
  "nbformat_minor": 0,
  "metadata": {
    "colab": {
      "name": "Task_2_Adv_Dat.ipynb",
      "provenance": [],
      "collapsed_sections": [],
      "authorship_tag": "ABX9TyNxTuraAOuo2ogJza/jUaE1",
      "include_colab_link": true
    },
    "kernelspec": {
      "name": "python3",
      "display_name": "Python 3"
    }
  },
  "cells": [
    {
      "cell_type": "markdown",
      "metadata": {
        "id": "view-in-github",
        "colab_type": "text"
      },
      "source": [
        "<a href=\"https://colab.research.google.com/github/Lucky-Peter-Okonun/Advance-Practical-course-Data-Science/blob/main/Task_2_Adv_Dat.ipynb\" target=\"_parent\"><img src=\"https://colab.research.google.com/assets/colab-badge.svg\" alt=\"Open In Colab\"/></a>"
      ]
    },
    {
      "cell_type": "code",
      "metadata": {
        "colab": {
          "base_uri": "https://localhost:8080/"
        },
        "id": "UxZR1VdBGDB7",
        "outputId": "afee043c-d4b3-4527-f111-0377033d0136"
      },
      "source": [
        " ! git clone https://github.com/Lucky-Peter-Okonun/DNNTSP.git\r\n"
      ],
      "execution_count": null,
      "outputs": [
        {
          "output_type": "stream",
          "text": [
            "Cloning into 'DNNTSP'...\n",
            "remote: Enumerating objects: 76, done.\u001b[K\n",
            "remote: Counting objects: 100% (76/76), done.\u001b[K\n",
            "remote: Compressing objects: 100% (49/49), done.\u001b[K\n",
            "remote: Total 76 (delta 30), reused 64 (delta 19), pack-reused 0\u001b[K\n",
            "Unpacking objects: 100% (76/76), done.\n"
          ],
          "name": "stdout"
        }
      ]
    },
    {
      "cell_type": "code",
      "metadata": {
        "colab": {
          "base_uri": "https://localhost:8080/"
        },
        "id": "b_MHQGRIOoIX",
        "outputId": "d77258d1-95bc-40a5-9105-2329a065387b"
      },
      "source": [
        "ls"
      ],
      "execution_count": null,
      "outputs": [
        {
          "output_type": "stream",
          "text": [
            "\u001b[0m\u001b[01;34mDNNTSP\u001b[0m/  \u001b[01;34msample_data\u001b[0m/\n"
          ],
          "name": "stdout"
        }
      ]
    },
    {
      "cell_type": "code",
      "metadata": {
        "id": "SPNp05s7OuYq"
      },
      "source": [
        "! rm -r sample_data\r\n",
        "!mv /content/DNNTSP/*   /content/\r\n",
        "!rm -r DNNTSP"
      ],
      "execution_count": null,
      "outputs": []
    },
    {
      "cell_type": "code",
      "metadata": {
        "colab": {
          "base_uri": "https://localhost:8080/"
        },
        "id": "IjPWb4TPPQEk",
        "outputId": "f03e35b7-0d6b-4db5-988c-7b4c5e54db64"
      },
      "source": [
        "!ls"
      ],
      "execution_count": null,
      "outputs": [
        {
          "output_type": "stream",
          "text": [
            "data  model  README.md\tresults  runs  save_model_folder  test\ttrain  utils\n"
          ],
          "name": "stdout"
        }
      ]
    },
    {
      "cell_type": "code",
      "metadata": {
        "colab": {
          "base_uri": "https://localhost:8080/"
        },
        "id": "t0g9rxN8PtCW",
        "outputId": "fc4f179f-df4a-4b45-8afc-3f2bdf04edff"
      },
      "source": [
        "cat utils/config.json"
      ],
      "execution_count": null,
      "outputs": [
        {
          "output_type": "stream",
          "text": [
            "{\n",
            "    \"data\": \"TaFeng\",\n",
            "    \"save_model_folder\": \"DNNTSP\",\n",
            "\n",
            "    \"item_embed_dim\": 32,\n",
            "\n",
            "    \"cuda\": 0,\n",
            "    \"loss_function\": \"multi_label_soft_loss\",\n",
            "    \"epochs\": 100,\n",
            "    \"batch_size\": 64,\n",
            "    \"learning_rate\": 0.001,\n",
            "    \"optim\": \"Adam\",\n",
            "    \"weight_decay\": 0\n",
            "}"
          ],
          "name": "stdout"
        }
      ]
    },
    {
      "cell_type": "code",
      "metadata": {
        "colab": {
          "base_uri": "https://localhost:8080/"
        },
        "id": "RPN1N9EQQFgj",
        "outputId": "2533f9eb-577e-4066-e424-018fe3f5f9f0"
      },
      "source": [
        "from google.colab import drive\r\n",
        "drive.mount('/content/gdrive')"
      ],
      "execution_count": null,
      "outputs": [
        {
          "output_type": "stream",
          "text": [
            "Mounted at /content/gdrive\n"
          ],
          "name": "stdout"
        }
      ]
    },
    {
      "cell_type": "code",
      "metadata": {
        "id": "86WN5CCpQ-Iq"
      },
      "source": [
        "import sys\r\n",
        "sys.path.append('/content/gdrive/MyDrive/DNNTSP-master/')"
      ],
      "execution_count": null,
      "outputs": []
    },
    {
      "cell_type": "code",
      "metadata": {
        "colab": {
          "base_uri": "https://localhost:8080/"
        },
        "id": "PP9-8gWDRHXp",
        "outputId": "44f4df17-7b49-482c-8e44-9545d443dd88"
      },
      "source": [
        "# cat gdrive/MyDrive/DNNTSP/utils/config.json"
      ],
      "execution_count": null,
      "outputs": [
        {
          "output_type": "stream",
          "text": [
            "cat: gdrive/MyDrive/DNNTSP/utils/config.json: No such file or directory\n"
          ],
          "name": "stdout"
        }
      ]
    },
    {
      "cell_type": "code",
      "metadata": {
        "colab": {
          "base_uri": "https://localhost:8080/"
        },
        "id": "ZSFYwrtPTmuC",
        "outputId": "031f941a-308d-4184-8dd0-7f3374747e70"
      },
      "source": [
        "cat utils/config.json"
      ],
      "execution_count": null,
      "outputs": [
        {
          "output_type": "stream",
          "text": [
            "{\n",
            "    \"data\": \"TaFeng\",\n",
            "    \"save_model_folder\": \"DNNTSP\",\n",
            "\n",
            "    \"item_embed_dim\": 32,\n",
            "\n",
            "    \"cuda\": 0,\n",
            "    \"loss_function\": \"multi_label_soft_loss\",\n",
            "    \"epochs\": 100,\n",
            "    \"batch_size\": 64,\n",
            "    \"learning_rate\": 0.001,\n",
            "    \"optim\": \"Adam\",\n",
            "    \"weight_decay\": 0\n",
            "}"
          ],
          "name": "stdout"
        }
      ]
    },
    {
      "cell_type": "code",
      "metadata": {
        "colab": {
          "base_uri": "https://localhost:8080/"
        },
        "id": "Lov2EylXT4-D",
        "outputId": "083171f2-0bca-4b00-aa6a-b2dd1fe324d6"
      },
      "source": [
        "! cat  README.md"
      ],
      "execution_count": null,
      "outputs": [
        {
          "output_type": "stream",
          "text": [
            "# Predicting Temporal Sets with Deep Neural Networks (DNNTSP)\n",
            "\n",
            "DNNTSP is a general neural network architecture that could make prediction on temporal sets.\n",
            "\n",
            "Please refer to our KDD 2020 paper [“**Predicting Temporal Sets with Deep Neural Networks**”](https://dl.acm.org/doi/pdf/10.1145/3394486.3403152) for more details.\n",
            "\n",
            "## Project Structure\n",
            "The descriptions of principal files in this project are explained as follows:\n",
            "- ./model/\n",
            "    - `weighted_graph_conv.py`: codes for the Element Relationship Learning component (i.e. weighted GCN on dynamic graphs)\n",
            "    - `masked_self_attention.py` and `aggregate_nodes_temporal_feature.py`: codes for the Attention-based Temporal Dependency Learning component (i.e. masked self-attention and weighted aggregation of temporal information)\n",
            "    - `global_gated_update.py`: codes for the Gated Information Fusing component (i.e. gated updating mechanism)\n",
            "- ./train/\n",
            "  - `train_model.py` and `train_main.py`: codes for training models\n",
            "- ./test/\n",
            "  - `testing_model.py`: codes for evaluating models\n",
            "- ./utils/: containing useful files that are required in the project (e.g. data loader, metrics calculation, loss function, configurations) \n",
            "- ./data/: processed datasets are under in this folder. Original datasets could be downloaded as follows:\n",
            "  - [TaFeng](https://www.kaggle.com/chiranjivdas09/ta-feng-grocery-dataset)  \n",
            "  - [DC](https://www.dunnhumby.com/careers/engineering/sourcefiles)  \n",
            "  - [TaoBao](https://tianchi.aliyun.com/dataset/dataDetail?dataId=649)  \n",
            "  - [TMS](https://math.stackexchange.com)\n",
            "- ./save_model_folder/ and ./runs/: folders to save models and outputs of tensorboardX respectively\n",
            "- ./results/: folders to save the evaluation metrics for models. \n",
            "\n",
            "## Parameter Settings\n",
            "Please refer to our paper for more details of parameter settings. \n",
            "Hyperparameters could be found in ./utils/config.json and you can adjust them when running the model.\n",
            "\n",
            "## How to use\n",
            "- Training: after setting the parameters, run ```train_main.py``` file to train models. \n",
            "- Testing: figure out the path of the specific saved model (i.e. variable ```model_path``` in ./test/testing_model.py) and then run ```testing_model.py``` file to evaluate models.\n",
            "\n",
            "Principal environmental dependencies as follows:\n",
            "- [PyTorch 1.5.0](https://pytorch.org/)\n",
            "- [dgl 0.5.2](https://www.dgl.ai/)\n",
            "- [tqdm](https://github.com/tqdm/tqdm)\n",
            "- [numpy](https://github.com/numpy/numpy)\n",
            "- [pandas](https://github.com/pandas-dev/pandas)\n",
            "- [sklearn](https://scikit-learn.org/stable/)\n",
            "- [tensorboardX](https://github.com/lanpa/tensorboardX)\n",
            "\n",
            "## Citation\n",
            "Please consider citing the following paper when using our code.\n",
            "\n",
            "```bibtex\n",
            "@inproceedings{DBLP:conf/kdd/YuSDL0L20,\n",
            "  author    = {Le Yu and\n",
            "               Leilei Sun and\n",
            "               Bowen Du and\n",
            "               Chuanren Liu and\n",
            "               Hui Xiong and\n",
            "               Weifeng Lv},\n",
            "  title     = {Predicting Temporal Sets with Deep Neural Networks},\n",
            "  booktitle = {{KDD} '20: The 26th {ACM} {SIGKDD} Conference on Knowledge Discovery\n",
            "               and Data Mining, Virtual Event, CA, USA, August 23-27, 2020},\n",
            "  pages     = {1083--1091},\n",
            "  year      = {2020}\n",
            "}\n",
            "```\n"
          ],
          "name": "stdout"
        }
      ]
    },
    {
      "cell_type": "code",
      "metadata": {
        "colab": {
          "base_uri": "https://localhost:8080/"
        },
        "id": "1rxDdVDIULwT",
        "outputId": "befb4f99-1797-46c8-ba17-605ef1f6e035"
      },
      "source": [
        "pip install torch==1.5.0+cu101 torchvision torchaudio -f https://download.pytorch.org/whl/torch_stable.html"
      ],
      "execution_count": null,
      "outputs": [
        {
          "output_type": "stream",
          "text": [
            "Looking in links: https://download.pytorch.org/whl/torch_stable.html\n",
            "Collecting torch==1.5.0+cu101\n",
            "\u001b[?25l  Downloading https://download.pytorch.org/whl/cu101/torch-1.5.0%2Bcu101-cp36-cp36m-linux_x86_64.whl (703.8MB)\n",
            "\u001b[K     |████████████████████████████████| 703.8MB 26kB/s \n",
            "\u001b[?25hRequirement already satisfied: torchvision in /usr/local/lib/python3.6/dist-packages (0.8.1+cu101)\n",
            "Collecting torchaudio\n",
            "\u001b[?25l  Downloading https://files.pythonhosted.org/packages/2a/f9/618434cf4e46dc975871e1516f5499abef6564ab4366f9b2321ee536be14/torchaudio-0.7.2-cp36-cp36m-manylinux1_x86_64.whl (7.6MB)\n",
            "\u001b[K     |████████████████████████████████| 7.6MB 4.3MB/s \n",
            "\u001b[?25hRequirement already satisfied: future in /usr/local/lib/python3.6/dist-packages (from torch==1.5.0+cu101) (0.16.0)\n",
            "Requirement already satisfied: numpy in /usr/local/lib/python3.6/dist-packages (from torch==1.5.0+cu101) (1.19.4)\n",
            "Requirement already satisfied: pillow>=4.1.1 in /usr/local/lib/python3.6/dist-packages (from torchvision) (7.0.0)\n",
            "\u001b[31mERROR: torchvision 0.8.1+cu101 has requirement torch==1.7.0, but you'll have torch 1.5.0+cu101 which is incompatible.\u001b[0m\n",
            "\u001b[31mERROR: torchaudio 0.7.2 has requirement torch==1.7.1, but you'll have torch 1.5.0+cu101 which is incompatible.\u001b[0m\n",
            "Installing collected packages: torch, torchaudio\n",
            "  Found existing installation: torch 1.7.0+cu101\n",
            "    Uninstalling torch-1.7.0+cu101:\n",
            "      Successfully uninstalled torch-1.7.0+cu101\n",
            "Successfully installed torch-1.5.0+cu101 torchaudio-0.7.2\n"
          ],
          "name": "stdout"
        }
      ]
    },
    {
      "cell_type": "code",
      "metadata": {
        "colab": {
          "base_uri": "https://localhost:8080/"
        },
        "id": "qJM-NDDLVKAK",
        "outputId": "ba049e29-65ba-4d03-a7d2-3bf0afa70066"
      },
      "source": [
        "pip install  tqdm numpy pandas sklearn tensorboardX  dgl-cu101"
      ],
      "execution_count": null,
      "outputs": [
        {
          "output_type": "stream",
          "text": [
            "Requirement already satisfied: tqdm in /usr/local/lib/python3.6/dist-packages (4.41.1)\n",
            "Requirement already satisfied: numpy in /usr/local/lib/python3.6/dist-packages (1.19.4)\n",
            "Requirement already satisfied: pandas in /usr/local/lib/python3.6/dist-packages (1.1.5)\n",
            "Requirement already satisfied: sklearn in /usr/local/lib/python3.6/dist-packages (0.0)\n",
            "Collecting tensorboardX\n",
            "\u001b[?25l  Downloading https://files.pythonhosted.org/packages/af/0c/4f41bcd45db376e6fe5c619c01100e9b7531c55791b7244815bac6eac32c/tensorboardX-2.1-py2.py3-none-any.whl (308kB)\n",
            "\u001b[K     |████████████████████████████████| 317kB 5.4MB/s \n",
            "\u001b[?25hCollecting dgl-cu101\n",
            "\u001b[?25l  Downloading https://files.pythonhosted.org/packages/77/08/ea2d56e85eba1c22a14fa0f9b3c4ca8b43bf07de34e454d4e23632b376ea/dgl_cu101-0.5.3-cp36-cp36m-manylinux1_x86_64.whl (25.0MB)\n",
            "\u001b[K     |████████████████████████████████| 25.0MB 43.0MB/s \n",
            "\u001b[?25hRequirement already satisfied: python-dateutil>=2.7.3 in /usr/local/lib/python3.6/dist-packages (from pandas) (2.8.1)\n",
            "Requirement already satisfied: pytz>=2017.2 in /usr/local/lib/python3.6/dist-packages (from pandas) (2018.9)\n",
            "Requirement already satisfied: scikit-learn in /usr/local/lib/python3.6/dist-packages (from sklearn) (0.22.2.post1)\n",
            "Requirement already satisfied: protobuf>=3.8.0 in /usr/local/lib/python3.6/dist-packages (from tensorboardX) (3.12.4)\n",
            "Requirement already satisfied: six in /usr/local/lib/python3.6/dist-packages (from tensorboardX) (1.15.0)\n",
            "Requirement already satisfied: networkx>=2.1 in /usr/local/lib/python3.6/dist-packages (from dgl-cu101) (2.5)\n",
            "Requirement already satisfied: requests>=2.19.0 in /usr/local/lib/python3.6/dist-packages (from dgl-cu101) (2.23.0)\n",
            "Requirement already satisfied: scipy>=1.1.0 in /usr/local/lib/python3.6/dist-packages (from dgl-cu101) (1.4.1)\n",
            "Requirement already satisfied: joblib>=0.11 in /usr/local/lib/python3.6/dist-packages (from scikit-learn->sklearn) (1.0.0)\n",
            "Requirement already satisfied: setuptools in /usr/local/lib/python3.6/dist-packages (from protobuf>=3.8.0->tensorboardX) (50.3.2)\n",
            "Requirement already satisfied: decorator>=4.3.0 in /usr/local/lib/python3.6/dist-packages (from networkx>=2.1->dgl-cu101) (4.4.2)\n",
            "Requirement already satisfied: urllib3!=1.25.0,!=1.25.1,<1.26,>=1.21.1 in /usr/local/lib/python3.6/dist-packages (from requests>=2.19.0->dgl-cu101) (1.24.3)\n",
            "Requirement already satisfied: idna<3,>=2.5 in /usr/local/lib/python3.6/dist-packages (from requests>=2.19.0->dgl-cu101) (2.10)\n",
            "Requirement already satisfied: certifi>=2017.4.17 in /usr/local/lib/python3.6/dist-packages (from requests>=2.19.0->dgl-cu101) (2020.12.5)\n",
            "Requirement already satisfied: chardet<4,>=3.0.2 in /usr/local/lib/python3.6/dist-packages (from requests>=2.19.0->dgl-cu101) (3.0.4)\n",
            "Installing collected packages: tensorboardX, dgl-cu101\n",
            "Successfully installed dgl-cu101-0.5.3 tensorboardX-2.1\n"
          ],
          "name": "stdout"
        }
      ]
    },
    {
      "cell_type": "code",
      "metadata": {
        "colab": {
          "base_uri": "https://localhost:8080/"
        },
        "id": "CDdmx4xCVbQP",
        "outputId": "223ddbe3-b72f-4b0c-d59c-d332dda35050"
      },
      "source": [
        "!ls train"
      ],
      "execution_count": null,
      "outputs": [
        {
          "output_type": "stream",
          "text": [
            "train_main.py  train_model.py\n"
          ],
          "name": "stdout"
        }
      ]
    },
    {
      "cell_type": "code",
      "metadata": {
        "colab": {
          "base_uri": "https://localhost:8080/"
        },
        "id": "rbrmjeb8Ve2u",
        "outputId": "3f183590-551b-44ce-b32d-7256c6abef99"
      },
      "source": [
        "! cat train/train_main.py"
      ],
      "execution_count": null,
      "outputs": [
        {
          "output_type": "stream",
          "text": [
            "import torch\n",
            "import torch.nn as nn\n",
            "import sys\n",
            "import os\n",
            "import shutil\n",
            "\n",
            "from utils.load_config import get_attribute\n",
            "from utils.data_container import get_data_loader\n",
            "from utils.loss import BPRLoss, WeightMSELoss\n",
            "from utils.util import get_class_weights\n",
            "\n",
            "from model.temporal_set_prediction import temporal_set_prediction\n",
            "from train.train_model import train_model\n",
            "\n",
            "\n",
            "def create_model():\n",
            "\n",
            "    print(f\"{get_attribute('data')}/{get_attribute('save_model_folder')}\")\n",
            "\n",
            "    model = temporal_set_prediction(items_total=get_attribute('items_total'),\n",
            "                                    item_embedding_dim=get_attribute('item_embed_dim'))\n",
            "\n",
            "    return model\n",
            "\n",
            "\n",
            "def create_loss(loss_type):\n",
            "    if loss_type == 'bpr_loss':\n",
            "        loss_func = BPRLoss()\n",
            "    elif loss_type == 'mse_loss':\n",
            "        loss_func = WeightMSELoss()\n",
            "    elif loss_type == 'weight_mse_loss':\n",
            "        loss_func = WeightMSELoss(weights=get_class_weights(get_attribute('data_path')))\n",
            "    elif loss_type == \"multi_label_soft_loss\":\n",
            "        loss_func = nn.MultiLabelSoftMarginLoss(reduction=\"mean\")\n",
            "    else:\n",
            "        raise ValueError(\"Unknown loss function.\")\n",
            "    return loss_func\n",
            "\n",
            "\n",
            "def train():\n",
            "    model = create_model()\n",
            "    # 创建data_loader\n",
            "    train_data_loader = get_data_loader(data_path=get_attribute('data_path'),\n",
            "                                        data_type='train',\n",
            "                                        batch_size=get_attribute('batch_size'),\n",
            "                                        item_embedding_matrix=model.item_embedding)\n",
            "    valid_data_loader = get_data_loader(data_path=get_attribute('data_path'),\n",
            "                                        data_type='validate',\n",
            "                                        batch_size=get_attribute('batch_size'),\n",
            "                                        item_embedding_matrix=model.item_embedding)\n",
            "    loss_func = create_loss(loss_type=get_attribute('loss_function'))\n",
            "\n",
            "    # 训练\n",
            "    model_folder = f\"../save_model_folder/{get_attribute('data')}/{get_attribute('save_model_folder')}\"\n",
            "    tensorboard_folder = f\"../runs/{get_attribute('data')}/{get_attribute('save_model_folder')}\"\n",
            "\n",
            "    shutil.rmtree(model_folder, ignore_errors=True)\n",
            "    os.makedirs(model_folder, exist_ok=True)\n",
            "    shutil.rmtree(tensorboard_folder, ignore_errors=True)\n",
            "    os.makedirs(tensorboard_folder, exist_ok=True)\n",
            "\n",
            "    if get_attribute(\"optim\") == \"Adam\":\n",
            "        optimizer = torch.optim.Adam(model.parameters(),\n",
            "                                     lr=get_attribute(\"learning_rate\"),\n",
            "                                     weight_decay=get_attribute(\"weight_decay\"))\n",
            "    elif get_attribute(\"optim\") == \"SGD\":\n",
            "        optimizer = torch.optim.SGD(model.parameters(),\n",
            "                                    lr=get_attribute(\"learning_rate\"),\n",
            "                                    momentum=0.9)\n",
            "    else:\n",
            "        raise NotImplementedError()\n",
            "\n",
            "    train_model(model=model,\n",
            "                train_data_loader=train_data_loader,\n",
            "                valid_data_loader=valid_data_loader,\n",
            "                loss_func=loss_func,\n",
            "                epochs=get_attribute('epochs'),\n",
            "                optimizer=optimizer,\n",
            "                model_folder=model_folder,\n",
            "                tensorboard_folder=tensorboard_folder)\n",
            "\n",
            "\n",
            "if __name__ == '__main__':\n",
            "    train()\n",
            "    sys.exit()\n"
          ],
          "name": "stdout"
        }
      ]
    },
    {
      "cell_type": "code",
      "metadata": {
        "id": "m3COiha-pqs5"
      },
      "source": [
        ""
      ],
      "execution_count": null,
      "outputs": []
    },
    {
      "cell_type": "code",
      "metadata": {
        "colab": {
          "base_uri": "https://localhost:8080/"
        },
        "id": "gH7k1-1jV8Gq",
        "outputId": "45006ba9-3f28-4310-b75c-50a811ec1f31"
      },
      "source": [
        "!ls /content/gdrive/MyDrive/DNNTSP-master"
      ],
      "execution_count": null,
      "outputs": [
        {
          "output_type": "stream",
          "text": [
            "data  model  README.md\tresults  runs  save_model_folder  test\ttrain  utils\n"
          ],
          "name": "stdout"
        }
      ]
    },
    {
      "cell_type": "code",
      "metadata": {
        "colab": {
          "base_uri": "https://localhost:8080/"
        },
        "id": "OPu5c4jLWpQd",
        "outputId": "473ad628-310f-424f-f102-1ecc4b9af075"
      },
      "source": [
        "import torch\r\n",
        "import torch.nn as nn\r\n",
        "import sys\r\n",
        "import os\r\n",
        "import shutil\r\n",
        "\r\n",
        "from utils.load_config import get_attribute\r\n",
        "from utils.data_container import get_data_loader\r\n",
        "from utils.loss import BPRLoss, WeightMSELoss\r\n",
        "from utils.util import get_class_weights\r\n",
        "\r\n",
        "from model.temporal_set_prediction import temporal_set_prediction\r\n",
        "from train.train_model import train_model\r\n",
        "\r\n",
        "\r\n",
        "def create_model():\r\n",
        "\r\n",
        "    print(f\"{get_attribute('data')}/{get_attribute('save_model_folder')}\")\r\n",
        "\r\n",
        "    model = temporal_set_prediction(items_total=get_attribute('items_total'),\r\n",
        "                                    item_embedding_dim=get_attribute('item_embed_dim'))\r\n",
        "\r\n",
        "    return model\r\n",
        "\r\n",
        "\r\n",
        "def create_loss(loss_type):\r\n",
        "    if loss_type == 'bpr_loss':\r\n",
        "        loss_func = BPRLoss()\r\n",
        "    elif loss_type == 'mse_loss':\r\n",
        "        loss_func = WeightMSELoss()\r\n",
        "    elif loss_type == 'weight_mse_loss':\r\n",
        "        loss_func = WeightMSELoss(weights=get_class_weights(get_attribute('data_path')))\r\n",
        "    elif loss_type == \"multi_label_soft_loss\":\r\n",
        "        loss_func = nn.MultiLabelSoftMarginLoss(reduction=\"mean\")\r\n",
        "    else:\r\n",
        "        raise ValueError(\"Unknown loss function.\")\r\n",
        "    return loss_func\r\n",
        "\r\n",
        "\r\n",
        "def train():\r\n",
        "    model = create_model()\r\n",
        "    # 创建data_loader\r\n",
        "    train_data_loader = get_data_loader(data_path=get_attribute('data_path'),\r\n",
        "                                        data_type='train',\r\n",
        "                                        batch_size=get_attribute('batch_size'),\r\n",
        "                                        item_embedding_matrix=model.item_embedding)\r\n",
        "    valid_data_loader = get_data_loader(data_path=get_attribute('data_path'),\r\n",
        "                                        data_type='validate',\r\n",
        "                                        batch_size=get_attribute('batch_size'),\r\n",
        "                                        item_embedding_matrix=model.item_embedding)\r\n",
        "    loss_func = create_loss(loss_type=get_attribute('loss_function'))\r\n",
        "\r\n",
        "    # 训练\r\n",
        "    model_folder = f\"../save_model_folder/{get_attribute('data')}/{get_attribute('save_model_folder')}\"\r\n",
        "    tensorboard_folder = f\"../runs/{get_attribute('data')}/{get_attribute('save_model_folder')}\"\r\n",
        "\r\n",
        "    shutil.rmtree(model_folder, ignore_errors=True)\r\n",
        "    os.makedirs(model_folder, exist_ok=True)\r\n",
        "    shutil.rmtree(tensorboard_folder, ignore_errors=True)\r\n",
        "    os.makedirs(tensorboard_folder, exist_ok=True)\r\n",
        "\r\n",
        "    if get_attribute(\"optim\") == \"Adam\":\r\n",
        "        optimizer = torch.optim.Adam(model.parameters(),\r\n",
        "                                     lr=get_attribute(\"learning_rate\"),\r\n",
        "                                     weight_decay=get_attribute(\"weight_decay\"))\r\n",
        "    elif get_attribute(\"optim\") == \"SGD\":\r\n",
        "        optimizer = torch.optim.SGD(model.parameters(),\r\n",
        "                                    lr=get_attribute(\"learning_rate\"),\r\n",
        "                                    momentum=0.9)\r\n",
        "    else:\r\n",
        "        raise NotImplementedError()\r\n",
        "\r\n",
        "    train_model(model=model,\r\n",
        "                train_data_loader=train_data_loader,\r\n",
        "                valid_data_loader=valid_data_loader,\r\n",
        "                loss_func=loss_func,\r\n",
        "                epochs=get_attribute('epochs'),\r\n",
        "                optimizer=optimizer,\r\n",
        "                model_folder=model_folder,\r\n",
        "                tensorboard_folder=tensorboard_folder)\r\n"
      ],
      "execution_count": null,
      "outputs": [
        {
          "output_type": "stream",
          "text": [
            "DGL backend not selected or invalid.  Assuming PyTorch for now.\n",
            "Using backend: pytorch\n"
          ],
          "name": "stderr"
        },
        {
          "output_type": "stream",
          "text": [
            "Setting the default backend to \"pytorch\". You can change it in the ~/.dgl/config.json file or export the DGLBACKEND environment variable.  Valid options are: pytorch, mxnet, tensorflow (all lowercase)\n"
          ],
          "name": "stdout"
        }
      ]
    },
    {
      "cell_type": "code",
      "metadata": {
        "colab": {
          "base_uri": "https://localhost:8080/"
        },
        "id": "g_Nq7H3rW7Ux",
        "outputId": "6e198fd2-331e-4639-8e87-7e33dbd6a2a8"
      },
      "source": [
        "train()"
      ],
      "execution_count": null,
      "outputs": [
        {
          "output_type": "stream",
          "text": [
            "TaFeng/DNNTSP\n",
            "train data length -> 6888\n"
          ],
          "name": "stdout"
        },
        {
          "output_type": "stream",
          "text": [
            "\r  0%|          | 0/108 [00:00<?, ?it/s]"
          ],
          "name": "stderr"
        },
        {
          "output_type": "stream",
          "text": [
            "validate data length -> 984\n",
            "temporal_set_prediction(\n",
            "  (item_embedding): Embedding(4935, 32)\n",
            "  (stacked_gcn): stacked_weighted_GCN_blocks(\n",
            "    (0): weighted_GCN(\n",
            "      (gcns): ModuleList(\n",
            "        (0): weighted_graph_conv(\n",
            "          (linear): Linear(in_features=32, out_features=32, bias=True)\n",
            "        )\n",
            "        (1): weighted_graph_conv(\n",
            "          (linear): Linear(in_features=32, out_features=32, bias=True)\n",
            "        )\n",
            "      )\n",
            "      (relus): ModuleList(\n",
            "        (0): ReLU()\n",
            "        (1): ReLU()\n",
            "      )\n",
            "      (bns): ModuleList(\n",
            "        (0): BatchNorm1d(32, eps=1e-05, momentum=0.1, affine=True, track_running_stats=True)\n",
            "        (1): BatchNorm1d(32, eps=1e-05, momentum=0.1, affine=True, track_running_stats=True)\n",
            "      )\n",
            "    )\n",
            "  )\n",
            "  (masked_self_attention): masked_self_attention(\n",
            "    (Wq): Linear(in_features=32, out_features=32, bias=False)\n",
            "    (Wk): Linear(in_features=32, out_features=32, bias=False)\n",
            "    (Wv): Linear(in_features=32, out_features=32, bias=False)\n",
            "  )\n",
            "  (aggregate_nodes_temporal_feature): aggregate_nodes_temporal_feature(\n",
            "    (Wq): Linear(in_features=32, out_features=1, bias=False)\n",
            "  )\n",
            "  (global_gated_update): global_gated_update(\n",
            "    (item_embedding): Embedding(4935, 32)\n",
            "  )\n",
            "  (fc_output): Linear(in_features=32, out_features=1, bias=True)\n",
            ")\n",
            "Adam (\n",
            "Parameter Group 0\n",
            "    amsgrad: False\n",
            "    betas: (0.9, 0.999)\n",
            "    eps: 1e-08\n",
            "    lr: 0.001\n",
            "    weight_decay: 0\n",
            ")\n"
          ],
          "name": "stdout"
        },
        {
          "output_type": "stream",
          "text": [
            "train epoch: 0, train loss: 0.7029649046836076: 100%|██████████| 108/108 [02:34<00:00,  1.43s/it]\n"
          ],
          "name": "stderr"
        },
        {
          "output_type": "stream",
          "text": [
            "train metric ...\n"
          ],
          "name": "stdout"
        },
        {
          "output_type": "stream",
          "text": [
            "\r  0%|          | 0/16 [00:00<?, ?it/s]"
          ],
          "name": "stderr"
        },
        {
          "output_type": "stream",
          "text": [
            "{\n",
            "    \"PHR_10\": 0.014082462253193961,\n",
            "    \"PHR_20\": 0.027584204413472705,\n",
            "    \"PHR_30\": 0.041085946573751454,\n",
            "    \"PHR_40\": 0.05110336817653891,\n",
            "    \"ndcg_10\": 0.0017039644299075007,\n",
            "    \"ndcg_20\": 0.0026700010057538748,\n",
            "    \"ndcg_30\": 0.0034846605267375708,\n",
            "    \"ndcg_40\": 0.004029011353850365,\n",
            "    \"recall_10\": 0.0024067191407084465,\n",
            "    \"recall_20\": 0.004928612150251865,\n",
            "    \"recall_30\": 0.007213134318590164,\n",
            "    \"recall_40\": 0.00882677175104618\n",
            "}\n"
          ],
          "name": "stdout"
        },
        {
          "output_type": "stream",
          "text": [
            "validate epoch: 0, validate loss: 0.5669396258890629: 100%|██████████| 16/16 [00:12<00:00,  1.33it/s]\n"
          ],
          "name": "stderr"
        },
        {
          "output_type": "stream",
          "text": [
            "validate metric ...\n"
          ],
          "name": "stdout"
        },
        {
          "output_type": "stream",
          "text": [
            "\r  0%|          | 0/108 [00:00<?, ?it/s]"
          ],
          "name": "stderr"
        },
        {
          "output_type": "stream",
          "text": [
            "{\n",
            "    \"PHR_10\": 0.01016260162601626,\n",
            "    \"PHR_20\": 0.023373983739837397,\n",
            "    \"PHR_30\": 0.03048780487804878,\n",
            "    \"PHR_40\": 0.03556910569105691,\n",
            "    \"ndcg_10\": 0.0013596677454188466,\n",
            "    \"ndcg_20\": 0.0023133479990065098,\n",
            "    \"ndcg_30\": 0.0026161244604736567,\n",
            "    \"ndcg_40\": 0.0028683191630989313,\n",
            "    \"recall_10\": 0.0014567975886166096,\n",
            "    \"recall_20\": 0.0037704971618950367,\n",
            "    \"recall_30\": 0.004508533980697393,\n",
            "    \"recall_40\": 0.005146667826920748\n",
            "}\n",
            "model save as ../save_model_folder/TaFeng/DNNTSP/model_epoch_0.pkl\n"
          ],
          "name": "stdout"
        },
        {
          "output_type": "stream",
          "text": [
            "train epoch: 1, train loss: 0.39838561277698586: 100%|██████████| 108/108 [02:36<00:00,  1.45s/it]\n"
          ],
          "name": "stderr"
        },
        {
          "output_type": "stream",
          "text": [
            "train metric ...\n"
          ],
          "name": "stdout"
        },
        {
          "output_type": "stream",
          "text": [
            "\r  0%|          | 0/16 [00:00<?, ?it/s]"
          ],
          "name": "stderr"
        },
        {
          "output_type": "stream",
          "text": [
            "{\n",
            "    \"PHR_10\": 0.013066202090592335,\n",
            "    \"PHR_20\": 0.02656794425087108,\n",
            "    \"PHR_30\": 0.03193960511033682,\n",
            "    \"PHR_40\": 0.03934378629500581,\n",
            "    \"ndcg_10\": 0.0016653419006615877,\n",
            "    \"ndcg_20\": 0.0025679569225758314,\n",
            "    \"ndcg_30\": 0.002909364877268672,\n",
            "    \"ndcg_40\": 0.003396193962544203,\n",
            "    \"recall_10\": 0.002219812013208866,\n",
            "    \"recall_20\": 0.004472734872251749,\n",
            "    \"recall_30\": 0.005534380674362183,\n",
            "    \"recall_40\": 0.007203119341284037\n",
            "}\n"
          ],
          "name": "stdout"
        },
        {
          "output_type": "stream",
          "text": [
            "validate epoch: 1, validate loss: 0.24152765702456236: 100%|██████████| 16/16 [00:12<00:00,  1.32it/s]\n"
          ],
          "name": "stderr"
        },
        {
          "output_type": "stream",
          "text": [
            "validate metric ...\n"
          ],
          "name": "stdout"
        },
        {
          "output_type": "stream",
          "text": [
            "\r  0%|          | 0/108 [00:00<?, ?it/s]"
          ],
          "name": "stderr"
        },
        {
          "output_type": "stream",
          "text": [
            "{\n",
            "    \"PHR_10\": 0.018292682926829267,\n",
            "    \"PHR_20\": 0.024390243902439025,\n",
            "    \"PHR_30\": 0.029471544715447155,\n",
            "    \"PHR_40\": 0.03556910569105691,\n",
            "    \"ndcg_10\": 0.002229592064395547,\n",
            "    \"ndcg_20\": 0.002489709062501788,\n",
            "    \"ndcg_30\": 0.0026916994247585535,\n",
            "    \"ndcg_40\": 0.0029542436823248863,\n",
            "    \"recall_10\": 0.0029908663127571344,\n",
            "    \"recall_20\": 0.0037982610519975424,\n",
            "    \"recall_30\": 0.0043391576036810875,\n",
            "    \"recall_40\": 0.005029771011322737\n",
            "}\n",
            "model save as ../save_model_folder/TaFeng/DNNTSP/model_epoch_1.pkl\n"
          ],
          "name": "stdout"
        },
        {
          "output_type": "stream",
          "text": [
            "train epoch: 2, train loss: 0.14878694250903748: 100%|██████████| 108/108 [02:36<00:00,  1.45s/it]\n"
          ],
          "name": "stderr"
        },
        {
          "output_type": "stream",
          "text": [
            "train metric ...\n"
          ],
          "name": "stdout"
        },
        {
          "output_type": "stream",
          "text": [
            "\r  0%|          | 0/16 [00:00<?, ?it/s]"
          ],
          "name": "stderr"
        },
        {
          "output_type": "stream",
          "text": [
            "{\n",
            "    \"PHR_10\": 0.018292682926829267,\n",
            "    \"PHR_20\": 0.027874564459930314,\n",
            "    \"PHR_30\": 0.03266550522648084,\n",
            "    \"PHR_40\": 0.040360046457607435,\n",
            "    \"ndcg_10\": 0.0021559603046625853,\n",
            "    \"ndcg_20\": 0.0026852511800825596,\n",
            "    \"ndcg_30\": 0.0030233697034418583,\n",
            "    \"ndcg_40\": 0.0034428774379193783,\n",
            "    \"recall_10\": 0.003105354029685259,\n",
            "    \"recall_20\": 0.004676958546042442,\n",
            "    \"recall_30\": 0.0058486582711339,\n",
            "    \"recall_40\": 0.007137720473110676\n",
            "}\n"
          ],
          "name": "stdout"
        },
        {
          "output_type": "stream",
          "text": [
            "validate epoch: 2, validate loss: 0.08341880002990365: 100%|██████████| 16/16 [00:12<00:00,  1.32it/s]\n"
          ],
          "name": "stderr"
        },
        {
          "output_type": "stream",
          "text": [
            "validate metric ...\n"
          ],
          "name": "stdout"
        },
        {
          "output_type": "stream",
          "text": [
            "\r  0%|          | 0/108 [00:00<?, ?it/s]"
          ],
          "name": "stderr"
        },
        {
          "output_type": "stream",
          "text": [
            "{\n",
            "    \"PHR_10\": 0.01524390243902439,\n",
            "    \"PHR_20\": 0.024390243902439025,\n",
            "    \"PHR_30\": 0.028455284552845527,\n",
            "    \"PHR_40\": 0.034552845528455285,\n",
            "    \"ndcg_10\": 0.0022485500667244196,\n",
            "    \"ndcg_20\": 0.0026897802017629147,\n",
            "    \"ndcg_30\": 0.002807044889777899,\n",
            "    \"ndcg_40\": 0.003119491273537278,\n",
            "    \"recall_10\": 0.002727918094024062,\n",
            "    \"recall_20\": 0.0037982610519975424,\n",
            "    \"recall_30\": 0.004070977680385113,\n",
            "    \"recall_40\": 0.004942057654261589\n",
            "}\n",
            "model save as ../save_model_folder/TaFeng/DNNTSP/model_epoch_2.pkl\n"
          ],
          "name": "stdout"
        },
        {
          "output_type": "stream",
          "text": [
            "train epoch: 3, train loss: 0.055013442067084486: 100%|██████████| 108/108 [02:36<00:00,  1.45s/it]\n"
          ],
          "name": "stderr"
        },
        {
          "output_type": "stream",
          "text": [
            "train metric ...\n"
          ],
          "name": "stdout"
        },
        {
          "output_type": "stream",
          "text": [
            "\r  0%|          | 0/16 [00:00<?, ?it/s]"
          ],
          "name": "stderr"
        },
        {
          "output_type": "stream",
          "text": [
            "{\n",
            "    \"PHR_10\": 0.015098722415795587,\n",
            "    \"PHR_20\": 0.028455284552845527,\n",
            "    \"PHR_30\": 0.036004645760743324,\n",
            "    \"PHR_40\": 0.04369918699186992,\n",
            "    \"ndcg_10\": 0.0021541290916502476,\n",
            "    \"ndcg_20\": 0.002952900715172291,\n",
            "    \"ndcg_30\": 0.003429196309298277,\n",
            "    \"ndcg_40\": 0.0038691547233611345,\n",
            "    \"recall_10\": 0.0025793423410505056,\n",
            "    \"recall_20\": 0.004744345787912607,\n",
            "    \"recall_30\": 0.006175606045871973,\n",
            "    \"recall_40\": 0.007602888159453869\n",
            "}\n"
          ],
          "name": "stdout"
        },
        {
          "output_type": "stream",
          "text": [
            "validate epoch: 3, validate loss: 0.035900400253012776: 100%|██████████| 16/16 [00:12<00:00,  1.31it/s]\n"
          ],
          "name": "stderr"
        },
        {
          "output_type": "stream",
          "text": [
            "validate metric ...\n"
          ],
          "name": "stdout"
        },
        {
          "output_type": "stream",
          "text": [
            "\r  0%|          | 0/108 [00:00<?, ?it/s]"
          ],
          "name": "stderr"
        },
        {
          "output_type": "stream",
          "text": [
            "{\n",
            "    \"PHR_10\": 0.01524390243902439,\n",
            "    \"PHR_20\": 0.028455284552845527,\n",
            "    \"PHR_30\": 0.04369918699186992,\n",
            "    \"PHR_40\": 0.056910569105691054,\n",
            "    \"ndcg_10\": 0.002513470593839884,\n",
            "    \"ndcg_20\": 0.0031681787222623825,\n",
            "    \"ndcg_30\": 0.004244920797646046,\n",
            "    \"ndcg_40\": 0.005620323121547699,\n",
            "    \"recall_10\": 0.002727918094024062,\n",
            "    \"recall_20\": 0.004282194655388594,\n",
            "    \"recall_30\": 0.007779876235872507,\n",
            "    \"recall_40\": 0.013875558041036129\n",
            "}\n",
            "model save as ../save_model_folder/TaFeng/DNNTSP/model_epoch_3.pkl\n"
          ],
          "name": "stdout"
        },
        {
          "output_type": "stream",
          "text": [
            "train epoch: 4, train loss: 0.027186370747922746: 100%|██████████| 108/108 [02:36<00:00,  1.45s/it]\n"
          ],
          "name": "stderr"
        },
        {
          "output_type": "stream",
          "text": [
            "train metric ...\n"
          ],
          "name": "stdout"
        },
        {
          "output_type": "stream",
          "text": [
            "\r  0%|          | 0/16 [00:00<?, ?it/s]"
          ],
          "name": "stderr"
        },
        {
          "output_type": "stream",
          "text": [
            "{\n",
            "    \"PHR_10\": 0.0312137049941928,\n",
            "    \"PHR_20\": 0.059959349593495935,\n",
            "    \"PHR_30\": 0.0859465737514518,\n",
            "    \"PHR_40\": 0.11236933797909408,\n",
            "    \"ndcg_10\": 0.005099513567984104,\n",
            "    \"ndcg_20\": 0.007417078595608473,\n",
            "    \"ndcg_30\": 0.010027915239334106,\n",
            "    \"ndcg_40\": 0.012316696345806122,\n",
            "    \"recall_10\": 0.00690974248573184,\n",
            "    \"recall_20\": 0.014134399592876434,\n",
            "    \"recall_30\": 0.0229681134223938,\n",
            "    \"recall_40\": 0.03162313625216484\n",
            "}\n"
          ],
          "name": "stdout"
        },
        {
          "output_type": "stream",
          "text": [
            "validate epoch: 4, validate loss: 0.021038960316218436: 100%|██████████| 16/16 [00:12<00:00,  1.32it/s]\n"
          ],
          "name": "stderr"
        },
        {
          "output_type": "stream",
          "text": [
            "validate metric ...\n"
          ],
          "name": "stdout"
        },
        {
          "output_type": "stream",
          "text": [
            "\r  0%|          | 0/108 [00:00<?, ?it/s]"
          ],
          "name": "stderr"
        },
        {
          "output_type": "stream",
          "text": [
            "{\n",
            "    \"PHR_10\": 0.08434959349593496,\n",
            "    \"PHR_20\": 0.09959349593495935,\n",
            "    \"PHR_30\": 0.13821138211382114,\n",
            "    \"PHR_40\": 0.21951219512195122,\n",
            "    \"ndcg_10\": 0.018291380256414413,\n",
            "    \"ndcg_20\": 0.019263824447989464,\n",
            "    \"ndcg_30\": 0.022189220413565636,\n",
            "    \"ndcg_40\": 0.02944772131741047,\n",
            "    \"recall_10\": 0.027936497703194618,\n",
            "    \"recall_20\": 0.03167756274342537,\n",
            "    \"recall_30\": 0.040071580559015274,\n",
            "    \"recall_40\": 0.06741882115602493\n",
            "}\n",
            "model save as ../save_model_folder/TaFeng/DNNTSP/model_epoch_4.pkl\n"
          ],
          "name": "stdout"
        },
        {
          "output_type": "stream",
          "text": [
            "train epoch: 5, train loss: 0.017654895618626917: 100%|██████████| 108/108 [02:36<00:00,  1.45s/it]\n"
          ],
          "name": "stderr"
        },
        {
          "output_type": "stream",
          "text": [
            "train metric ...\n"
          ],
          "name": "stdout"
        },
        {
          "output_type": "stream",
          "text": [
            "\r  0%|          | 0/16 [00:00<?, ?it/s]"
          ],
          "name": "stderr"
        },
        {
          "output_type": "stream",
          "text": [
            "{\n",
            "    \"PHR_10\": 0.13138792102206737,\n",
            "    \"PHR_20\": 0.19221835075493612,\n",
            "    \"PHR_30\": 0.2494192799070848,\n",
            "    \"PHR_40\": 0.2697444831591173,\n",
            "    \"ndcg_10\": 0.03514666482806206,\n",
            "    \"ndcg_20\": 0.04067587852478027,\n",
            "    \"ndcg_30\": 0.04654707387089729,\n",
            "    \"ndcg_40\": 0.04853129759430885,\n",
            "    \"recall_10\": 0.041781164705753326,\n",
            "    \"recall_20\": 0.06089291721582413,\n",
            "    \"recall_30\": 0.08072272688150406,\n",
            "    \"recall_40\": 0.08710069209337234\n",
            "}\n"
          ],
          "name": "stdout"
        },
        {
          "output_type": "stream",
          "text": [
            "validate epoch: 5, validate loss: 0.015186213422566652: 100%|██████████| 16/16 [00:12<00:00,  1.33it/s]\n"
          ],
          "name": "stderr"
        },
        {
          "output_type": "stream",
          "text": [
            "validate metric ...\n"
          ],
          "name": "stdout"
        },
        {
          "output_type": "stream",
          "text": [
            "\r  0%|          | 0/108 [00:00<?, ?it/s]"
          ],
          "name": "stderr"
        },
        {
          "output_type": "stream",
          "text": [
            "{\n",
            "    \"PHR_10\": 0.23373983739837398,\n",
            "    \"PHR_20\": 0.27439024390243905,\n",
            "    \"PHR_30\": 0.3119918699186992,\n",
            "    \"PHR_40\": 0.3353658536585366,\n",
            "    \"ndcg_10\": 0.06445514410734177,\n",
            "    \"ndcg_20\": 0.0677894800901413,\n",
            "    \"ndcg_30\": 0.07126648724079132,\n",
            "    \"ndcg_40\": 0.07362037152051926,\n",
            "    \"recall_10\": 0.07123864442110062,\n",
            "    \"recall_20\": 0.08193786442279816,\n",
            "    \"recall_30\": 0.09209726750850677,\n",
            "    \"recall_40\": 0.09987124055624008\n",
            "}\n",
            "model save as ../save_model_folder/TaFeng/DNNTSP/model_epoch_5.pkl\n"
          ],
          "name": "stdout"
        },
        {
          "output_type": "stream",
          "text": [
            "train epoch: 6, train loss: 0.013526911321268589: 100%|██████████| 108/108 [02:35<00:00,  1.44s/it]\n"
          ],
          "name": "stderr"
        },
        {
          "output_type": "stream",
          "text": [
            "train metric ...\n"
          ],
          "name": "stdout"
        },
        {
          "output_type": "stream",
          "text": [
            "\r  0%|          | 0/16 [00:00<?, ?it/s]"
          ],
          "name": "stderr"
        },
        {
          "output_type": "stream",
          "text": [
            "{\n",
            "    \"PHR_10\": 0.2590011614401858,\n",
            "    \"PHR_20\": 0.2913763066202091,\n",
            "    \"PHR_30\": 0.32621951219512196,\n",
            "    \"PHR_40\": 0.34306039488966317,\n",
            "    \"ndcg_10\": 0.08358284085988998,\n",
            "    \"ndcg_20\": 0.08557375520467758,\n",
            "    \"ndcg_30\": 0.08961093425750732,\n",
            "    \"ndcg_40\": 0.09170977771282196,\n",
            "    \"recall_10\": 0.08542867004871368,\n",
            "    \"recall_20\": 0.09538555890321732,\n",
            "    \"recall_30\": 0.10824073851108551,\n",
            "    \"recall_40\": 0.11466589570045471\n",
            "}\n"
          ],
          "name": "stdout"
        },
        {
          "output_type": "stream",
          "text": [
            "validate epoch: 6, validate loss: 0.012366256618406624: 100%|██████████| 16/16 [00:12<00:00,  1.31it/s]\n"
          ],
          "name": "stderr"
        },
        {
          "output_type": "stream",
          "text": [
            "validate metric ...\n"
          ],
          "name": "stdout"
        },
        {
          "output_type": "stream",
          "text": [
            "\r  0%|          | 0/108 [00:00<?, ?it/s]"
          ],
          "name": "stderr"
        },
        {
          "output_type": "stream",
          "text": [
            "{\n",
            "    \"PHR_10\": 0.3048780487804878,\n",
            "    \"PHR_20\": 0.3445121951219512,\n",
            "    \"PHR_30\": 0.36585365853658536,\n",
            "    \"PHR_40\": 0.3932926829268293,\n",
            "    \"ndcg_10\": 0.09079206734895706,\n",
            "    \"ndcg_20\": 0.09345777332782745,\n",
            "    \"ndcg_30\": 0.09693288058042526,\n",
            "    \"ndcg_40\": 0.0996234193444252,\n",
            "    \"recall_10\": 0.09260031580924988,\n",
            "    \"recall_20\": 0.1029931902885437,\n",
            "    \"recall_30\": 0.1131061315536499,\n",
            "    \"recall_40\": 0.12073658406734467\n",
            "}\n",
            "model save as ../save_model_folder/TaFeng/DNNTSP/model_epoch_6.pkl\n"
          ],
          "name": "stdout"
        },
        {
          "output_type": "stream",
          "text": [
            "train epoch: 7, train loss: 0.01140644021021823: 100%|██████████| 108/108 [02:36<00:00,  1.45s/it]\n"
          ],
          "name": "stderr"
        },
        {
          "output_type": "stream",
          "text": [
            "train metric ...\n"
          ],
          "name": "stdout"
        },
        {
          "output_type": "stream",
          "text": [
            "\r  0%|          | 0/16 [00:00<?, ?it/s]"
          ],
          "name": "stderr"
        },
        {
          "output_type": "stream",
          "text": [
            "{\n",
            "    \"PHR_10\": 0.3108304297328688,\n",
            "    \"PHR_20\": 0.3564169570267131,\n",
            "    \"PHR_30\": 0.39880952380952384,\n",
            "    \"PHR_40\": 0.42639372822299654,\n",
            "    \"ndcg_10\": 0.10398170351982117,\n",
            "    \"ndcg_20\": 0.10855764150619507,\n",
            "    \"ndcg_30\": 0.11412359029054642,\n",
            "    \"ndcg_40\": 0.1179962307214737,\n",
            "    \"recall_10\": 0.10370510071516037,\n",
            "    \"recall_20\": 0.12123605608940125,\n",
            "    \"recall_30\": 0.1397533416748047,\n",
            "    \"recall_40\": 0.1528424173593521\n",
            "}\n"
          ],
          "name": "stdout"
        },
        {
          "output_type": "stream",
          "text": [
            "validate epoch: 7, validate loss: 0.010803939250763506: 100%|██████████| 16/16 [00:12<00:00,  1.32it/s]\n"
          ],
          "name": "stderr"
        },
        {
          "output_type": "stream",
          "text": [
            "validate metric ...\n"
          ],
          "name": "stdout"
        },
        {
          "output_type": "stream",
          "text": [
            "\r  0%|          | 0/108 [00:00<?, ?it/s]"
          ],
          "name": "stderr"
        },
        {
          "output_type": "stream",
          "text": [
            "{\n",
            "    \"PHR_10\": 0.3384146341463415,\n",
            "    \"PHR_20\": 0.4054878048780488,\n",
            "    \"PHR_30\": 0.44410569105691056,\n",
            "    \"PHR_40\": 0.4644308943089431,\n",
            "    \"ndcg_10\": 0.10061939805746078,\n",
            "    \"ndcg_20\": 0.10838736593723297,\n",
            "    \"ndcg_30\": 0.11388971656560898,\n",
            "    \"ndcg_40\": 0.11701084673404694,\n",
            "    \"recall_10\": 0.10248225927352905,\n",
            "    \"recall_20\": 0.12652157247066498,\n",
            "    \"recall_30\": 0.14432038366794586,\n",
            "    \"recall_40\": 0.15366533398628235\n",
            "}\n",
            "model save as ../save_model_folder/TaFeng/DNNTSP/model_epoch_7.pkl\n"
          ],
          "name": "stdout"
        },
        {
          "output_type": "stream",
          "text": [
            "train epoch: 8, train loss: 0.010164177355666956: 100%|██████████| 108/108 [02:36<00:00,  1.45s/it]\n"
          ],
          "name": "stderr"
        },
        {
          "output_type": "stream",
          "text": [
            "train metric ...\n"
          ],
          "name": "stdout"
        },
        {
          "output_type": "stream",
          "text": [
            "\r  0%|          | 0/16 [00:00<?, ?it/s]"
          ],
          "name": "stderr"
        },
        {
          "output_type": "stream",
          "text": [
            "{\n",
            "    \"PHR_10\": 0.3693379790940767,\n",
            "    \"PHR_20\": 0.4310394889663182,\n",
            "    \"PHR_30\": 0.46631823461091754,\n",
            "    \"PHR_40\": 0.4921602787456446,\n",
            "    \"ndcg_10\": 0.12085318565368652,\n",
            "    \"ndcg_20\": 0.1286025494337082,\n",
            "    \"ndcg_30\": 0.13422848284244537,\n",
            "    \"ndcg_40\": 0.1385791152715683,\n",
            "    \"recall_10\": 0.12931756675243378,\n",
            "    \"recall_20\": 0.1554272621870041,\n",
            "    \"recall_30\": 0.17334777116775513,\n",
            "    \"recall_40\": 0.18815478682518005\n",
            "}\n"
          ],
          "name": "stdout"
        },
        {
          "output_type": "stream",
          "text": [
            "validate epoch: 8, validate loss: 0.009857040247879922: 100%|██████████| 16/16 [00:12<00:00,  1.31it/s]\n"
          ],
          "name": "stderr"
        },
        {
          "output_type": "stream",
          "text": [
            "validate metric ...\n"
          ],
          "name": "stdout"
        },
        {
          "output_type": "stream",
          "text": [
            "\r  0%|          | 0/108 [00:00<?, ?it/s]"
          ],
          "name": "stderr"
        },
        {
          "output_type": "stream",
          "text": [
            "{\n",
            "    \"PHR_10\": 0.3851626016260163,\n",
            "    \"PHR_20\": 0.44715447154471544,\n",
            "    \"PHR_30\": 0.4888211382113821,\n",
            "    \"PHR_40\": 0.5121951219512195,\n",
            "    \"ndcg_10\": 0.11223354935646057,\n",
            "    \"ndcg_20\": 0.12130562216043472,\n",
            "    \"ndcg_30\": 0.12820416688919067,\n",
            "    \"ndcg_40\": 0.13278019428253174,\n",
            "    \"recall_10\": 0.12237124145030975,\n",
            "    \"recall_20\": 0.1489662528038025,\n",
            "    \"recall_30\": 0.1712714433670044,\n",
            "    \"recall_40\": 0.18790298700332642\n",
            "}\n",
            "model save as ../save_model_folder/TaFeng/DNNTSP/model_epoch_8.pkl\n"
          ],
          "name": "stdout"
        },
        {
          "output_type": "stream",
          "text": [
            "train epoch: 9, train loss: 0.00938504092671253: 100%|██████████| 108/108 [02:36<00:00,  1.45s/it]\n"
          ],
          "name": "stderr"
        },
        {
          "output_type": "stream",
          "text": [
            "train metric ...\n"
          ],
          "name": "stdout"
        },
        {
          "output_type": "stream",
          "text": [
            "\r  0%|          | 0/16 [00:00<?, ?it/s]"
          ],
          "name": "stderr"
        },
        {
          "output_type": "stream",
          "text": [
            "{\n",
            "    \"PHR_10\": 0.40693960511033683,\n",
            "    \"PHR_20\": 0.4843205574912892,\n",
            "    \"PHR_30\": 0.5200348432055749,\n",
            "    \"PHR_40\": 0.5471835075493612,\n",
            "    \"ndcg_10\": 0.13305796682834625,\n",
            "    \"ndcg_20\": 0.14465409517288208,\n",
            "    \"ndcg_30\": 0.15124662220478058,\n",
            "    \"ndcg_40\": 0.15647399425506592,\n",
            "    \"recall_10\": 0.1463121622800827,\n",
            "    \"recall_20\": 0.1838284283876419,\n",
            "    \"recall_30\": 0.20455549657344818,\n",
            "    \"recall_40\": 0.2225152552127838\n",
            "}\n"
          ],
          "name": "stdout"
        },
        {
          "output_type": "stream",
          "text": [
            "validate epoch: 9, validate loss: 0.009243254055036232: 100%|██████████| 16/16 [00:12<00:00,  1.31it/s]\n"
          ],
          "name": "stderr"
        },
        {
          "output_type": "stream",
          "text": [
            "validate metric ...\n"
          ],
          "name": "stdout"
        },
        {
          "output_type": "stream",
          "text": [
            "\r  0%|          | 0/108 [00:00<?, ?it/s]"
          ],
          "name": "stderr"
        },
        {
          "output_type": "stream",
          "text": [
            "{\n",
            "    \"PHR_10\": 0.39634146341463417,\n",
            "    \"PHR_20\": 0.49085365853658536,\n",
            "    \"PHR_30\": 0.5233739837398373,\n",
            "    \"PHR_40\": 0.551829268292683,\n",
            "    \"ndcg_10\": 0.11764348298311234,\n",
            "    \"ndcg_20\": 0.13258463144302368,\n",
            "    \"ndcg_30\": 0.13888278603553772,\n",
            "    \"ndcg_40\": 0.14448761940002441,\n",
            "    \"recall_10\": 0.13132309913635254,\n",
            "    \"recall_20\": 0.1758851706981659,\n",
            "    \"recall_30\": 0.1945037692785263,\n",
            "    \"recall_40\": 0.21432749927043915\n",
            "}\n",
            "model save as ../save_model_folder/TaFeng/DNNTSP/model_epoch_9.pkl\n"
          ],
          "name": "stdout"
        },
        {
          "output_type": "stream",
          "text": [
            "train epoch: 10, train loss: 0.008862442250742956: 100%|██████████| 108/108 [02:36<00:00,  1.45s/it]\n"
          ],
          "name": "stderr"
        },
        {
          "output_type": "stream",
          "text": [
            "train metric ...\n"
          ],
          "name": "stdout"
        },
        {
          "output_type": "stream",
          "text": [
            "\r  0%|          | 0/16 [00:00<?, ?it/s]"
          ],
          "name": "stderr"
        },
        {
          "output_type": "stream",
          "text": [
            "{\n",
            "    \"PHR_10\": 0.4332171893147503,\n",
            "    \"PHR_20\": 0.5245354239256679,\n",
            "    \"PHR_30\": 0.5638792102206737,\n",
            "    \"PHR_40\": 0.5855110336817654,\n",
            "    \"ndcg_10\": 0.1409650295972824,\n",
            "    \"ndcg_20\": 0.15623106062412262,\n",
            "    \"ndcg_30\": 0.1643551141023636,\n",
            "    \"ndcg_40\": 0.1690344512462616,\n",
            "    \"recall_10\": 0.15961778163909912,\n",
            "    \"recall_20\": 0.20858187973499298,\n",
            "    \"recall_30\": 0.23345741629600525,\n",
            "    \"recall_40\": 0.24887070059776306\n",
            "}\n"
          ],
          "name": "stdout"
        },
        {
          "output_type": "stream",
          "text": [
            "validate epoch: 10, validate loss: 0.008824503456708044: 100%|██████████| 16/16 [00:12<00:00,  1.32it/s]\n"
          ],
          "name": "stderr"
        },
        {
          "output_type": "stream",
          "text": [
            "validate metric ...\n"
          ],
          "name": "stdout"
        },
        {
          "output_type": "stream",
          "text": [
            "\r  0%|          | 0/108 [00:00<?, ?it/s]"
          ],
          "name": "stderr"
        },
        {
          "output_type": "stream",
          "text": [
            "{\n",
            "    \"PHR_10\": 0.4136178861788618,\n",
            "    \"PHR_20\": 0.5121951219512195,\n",
            "    \"PHR_30\": 0.5589430894308943,\n",
            "    \"PHR_40\": 0.584349593495935,\n",
            "    \"ndcg_10\": 0.12128562480211258,\n",
            "    \"ndcg_20\": 0.13957937061786652,\n",
            "    \"ndcg_30\": 0.14782297611236572,\n",
            "    \"ndcg_40\": 0.15307992696762085,\n",
            "    \"recall_10\": 0.13854749500751495,\n",
            "    \"recall_20\": 0.19390249252319336,\n",
            "    \"recall_30\": 0.21870414912700653,\n",
            "    \"recall_40\": 0.23559309542179108\n",
            "}\n",
            "model save as ../save_model_folder/TaFeng/DNNTSP/model_epoch_10.pkl\n"
          ],
          "name": "stdout"
        },
        {
          "output_type": "stream",
          "text": [
            "train epoch: 11, train loss: 0.008496787489598824: 100%|██████████| 108/108 [02:36<00:00,  1.45s/it]\n"
          ],
          "name": "stderr"
        },
        {
          "output_type": "stream",
          "text": [
            "train metric ...\n"
          ],
          "name": "stdout"
        },
        {
          "output_type": "stream",
          "text": [
            "\r  0%|          | 0/16 [00:00<?, ?it/s]"
          ],
          "name": "stderr"
        },
        {
          "output_type": "stream",
          "text": [
            "{\n",
            "    \"PHR_10\": 0.45165505226480834,\n",
            "    \"PHR_20\": 0.5527003484320557,\n",
            "    \"PHR_30\": 0.5927700348432056,\n",
            "    \"PHR_40\": 0.6191927990708479,\n",
            "    \"ndcg_10\": 0.14619752764701843,\n",
            "    \"ndcg_20\": 0.16459771990776062,\n",
            "    \"ndcg_30\": 0.17325656116008759,\n",
            "    \"ndcg_40\": 0.17909683287143707,\n",
            "    \"recall_10\": 0.1689756214618683,\n",
            "    \"recall_20\": 0.22711622714996338,\n",
            "    \"recall_30\": 0.2529894709587097,\n",
            "    \"recall_40\": 0.2720036804676056\n",
            "}\n"
          ],
          "name": "stdout"
        },
        {
          "output_type": "stream",
          "text": [
            "validate epoch: 11, validate loss: 0.008531285362550989: 100%|██████████| 16/16 [00:12<00:00,  1.33it/s]\n"
          ],
          "name": "stderr"
        },
        {
          "output_type": "stream",
          "text": [
            "validate metric ...\n"
          ],
          "name": "stdout"
        },
        {
          "output_type": "stream",
          "text": [
            "\r  0%|          | 0/108 [00:00<?, ?it/s]"
          ],
          "name": "stderr"
        },
        {
          "output_type": "stream",
          "text": [
            "{\n",
            "    \"PHR_10\": 0.4268292682926829,\n",
            "    \"PHR_20\": 0.5233739837398373,\n",
            "    \"PHR_30\": 0.5884146341463414,\n",
            "    \"PHR_40\": 0.6097560975609756,\n",
            "    \"ndcg_10\": 0.12309858947992325,\n",
            "    \"ndcg_20\": 0.14388835430145264,\n",
            "    \"ndcg_30\": 0.1540893018245697,\n",
            "    \"ndcg_40\": 0.15958477556705475,\n",
            "    \"recall_10\": 0.14276960492134094,\n",
            "    \"recall_20\": 0.20511271059513092,\n",
            "    \"recall_30\": 0.23554660379886627,\n",
            "    \"recall_40\": 0.2524852156639099\n",
            "}\n",
            "model save as ../save_model_folder/TaFeng/DNNTSP/model_epoch_11.pkl\n"
          ],
          "name": "stdout"
        },
        {
          "output_type": "stream",
          "text": [
            "train epoch: 12, train loss: 0.008231841911630774: 100%|██████████| 108/108 [02:35<00:00,  1.44s/it]\n"
          ],
          "name": "stderr"
        },
        {
          "output_type": "stream",
          "text": [
            "train metric ...\n"
          ],
          "name": "stdout"
        },
        {
          "output_type": "stream",
          "text": [
            "\r  0%|          | 0/16 [00:00<?, ?it/s]"
          ],
          "name": "stderr"
        },
        {
          "output_type": "stream",
          "text": [
            "{\n",
            "    \"PHR_10\": 0.4637049941927991,\n",
            "    \"PHR_20\": 0.5701219512195121,\n",
            "    \"PHR_30\": 0.618321718931475,\n",
            "    \"PHR_40\": 0.640534262485482,\n",
            "    \"ndcg_10\": 0.15063290297985077,\n",
            "    \"ndcg_20\": 0.17079311609268188,\n",
            "    \"ndcg_30\": 0.1812247633934021,\n",
            "    \"ndcg_40\": 0.1868751347064972,\n",
            "    \"recall_10\": 0.1752106100320816,\n",
            "    \"recall_20\": 0.23811960220336914,\n",
            "    \"recall_30\": 0.2696846127510071,\n",
            "    \"recall_40\": 0.2873247265815735\n",
            "}\n"
          ],
          "name": "stdout"
        },
        {
          "output_type": "stream",
          "text": [
            "validate epoch: 12, validate loss: 0.008315080136526376: 100%|██████████| 16/16 [00:12<00:00,  1.32it/s]\n"
          ],
          "name": "stderr"
        },
        {
          "output_type": "stream",
          "text": [
            "validate metric ...\n"
          ],
          "name": "stdout"
        },
        {
          "output_type": "stream",
          "text": [
            "\r  0%|          | 0/108 [00:00<?, ?it/s]"
          ],
          "name": "stderr"
        },
        {
          "output_type": "stream",
          "text": [
            "{\n",
            "    \"PHR_10\": 0.43089430894308944,\n",
            "    \"PHR_20\": 0.5376016260162602,\n",
            "    \"PHR_30\": 0.6107723577235772,\n",
            "    \"PHR_40\": 0.6219512195121951,\n",
            "    \"ndcg_10\": 0.12507329881191254,\n",
            "    \"ndcg_20\": 0.14687873423099518,\n",
            "    \"ndcg_30\": 0.15830431878566742,\n",
            "    \"ndcg_40\": 0.1634015142917633,\n",
            "    \"recall_10\": 0.1473907232284546,\n",
            "    \"recall_20\": 0.2129071205854416,\n",
            "    \"recall_30\": 0.2469438910484314,\n",
            "    \"recall_40\": 0.2620619237422943\n",
            "}\n",
            "model save as ../save_model_folder/TaFeng/DNNTSP/model_epoch_12.pkl\n"
          ],
          "name": "stdout"
        },
        {
          "output_type": "stream",
          "text": [
            "train epoch: 13, train loss: 0.008032417429300645: 100%|██████████| 108/108 [02:35<00:00,  1.44s/it]\n"
          ],
          "name": "stderr"
        },
        {
          "output_type": "stream",
          "text": [
            "train metric ...\n"
          ],
          "name": "stdout"
        },
        {
          "output_type": "stream",
          "text": [
            "\r  0%|          | 0/16 [00:00<?, ?it/s]"
          ],
          "name": "stderr"
        },
        {
          "output_type": "stream",
          "text": [
            "{\n",
            "    \"PHR_10\": 0.47110917537746805,\n",
            "    \"PHR_20\": 0.5839140534262486,\n",
            "    \"PHR_30\": 0.6292102206736353,\n",
            "    \"PHR_40\": 0.6541811846689896,\n",
            "    \"ndcg_10\": 0.15413083136081696,\n",
            "    \"ndcg_20\": 0.17592653632164001,\n",
            "    \"ndcg_30\": 0.18643397092819214,\n",
            "    \"ndcg_40\": 0.19278383255004883,\n",
            "    \"recall_10\": 0.17904451489448547,\n",
            "    \"recall_20\": 0.24695880711078644,\n",
            "    \"recall_30\": 0.2786548137664795,\n",
            "    \"recall_40\": 0.29820412397384644\n",
            "}\n"
          ],
          "name": "stdout"
        },
        {
          "output_type": "stream",
          "text": [
            "validate epoch: 13, validate loss: 0.008154053910402581: 100%|██████████| 16/16 [00:12<00:00,  1.32it/s]\n"
          ],
          "name": "stderr"
        },
        {
          "output_type": "stream",
          "text": [
            "validate metric ...\n"
          ],
          "name": "stdout"
        },
        {
          "output_type": "stream",
          "text": [
            "\r  0%|          | 0/108 [00:00<?, ?it/s]"
          ],
          "name": "stderr"
        },
        {
          "output_type": "stream",
          "text": [
            "{\n",
            "    \"PHR_10\": 0.4349593495934959,\n",
            "    \"PHR_20\": 0.5528455284552846,\n",
            "    \"PHR_30\": 0.6138211382113821,\n",
            "    \"PHR_40\": 0.6392276422764228,\n",
            "    \"ndcg_10\": 0.12695568799972534,\n",
            "    \"ndcg_20\": 0.14954990148544312,\n",
            "    \"ndcg_30\": 0.160743847489357,\n",
            "    \"ndcg_40\": 0.168243408203125,\n",
            "    \"recall_10\": 0.15010298788547516,\n",
            "    \"recall_20\": 0.21820612251758575,\n",
            "    \"recall_30\": 0.2503208816051483,\n",
            "    \"recall_40\": 0.2738517224788666\n",
            "}\n",
            "model save as ../save_model_folder/TaFeng/DNNTSP/model_epoch_13.pkl\n"
          ],
          "name": "stdout"
        },
        {
          "output_type": "stream",
          "text": [
            "train epoch: 14, train loss: 0.0078796362116312: 100%|██████████| 108/108 [02:35<00:00,  1.44s/it]\n"
          ],
          "name": "stderr"
        },
        {
          "output_type": "stream",
          "text": [
            "train metric ...\n"
          ],
          "name": "stdout"
        },
        {
          "output_type": "stream",
          "text": [
            "\r  0%|          | 0/16 [00:00<?, ?it/s]"
          ],
          "name": "stderr"
        },
        {
          "output_type": "stream",
          "text": [
            "{\n",
            "    \"PHR_10\": 0.47952961672473865,\n",
            "    \"PHR_20\": 0.5933507549361208,\n",
            "    \"PHR_30\": 0.6408246225319396,\n",
            "    \"PHR_40\": 0.6681184668989547,\n",
            "    \"ndcg_10\": 0.1569654941558838,\n",
            "    \"ndcg_20\": 0.1791837364435196,\n",
            "    \"ndcg_30\": 0.19068564474582672,\n",
            "    \"ndcg_40\": 0.19815850257873535,\n",
            "    \"recall_10\": 0.18242153525352478,\n",
            "    \"recall_20\": 0.2520352005958557,\n",
            "    \"recall_30\": 0.28712302446365356,\n",
            "    \"recall_40\": 0.3111910820007324\n",
            "}\n"
          ],
          "name": "stdout"
        },
        {
          "output_type": "stream",
          "text": [
            "validate epoch: 14, validate loss: 0.008034940110519528: 100%|██████████| 16/16 [00:12<00:00,  1.33it/s]\n"
          ],
          "name": "stderr"
        },
        {
          "output_type": "stream",
          "text": [
            "validate metric ...\n"
          ],
          "name": "stdout"
        },
        {
          "output_type": "stream",
          "text": [
            "\r  0%|          | 0/108 [00:00<?, ?it/s]"
          ],
          "name": "stderr"
        },
        {
          "output_type": "stream",
          "text": [
            "{\n",
            "    \"PHR_10\": 0.4349593495934959,\n",
            "    \"PHR_20\": 0.5640243902439024,\n",
            "    \"PHR_30\": 0.6239837398373984,\n",
            "    \"PHR_40\": 0.6483739837398373,\n",
            "    \"ndcg_10\": 0.1283140927553177,\n",
            "    \"ndcg_20\": 0.15179277956485748,\n",
            "    \"ndcg_30\": 0.16455234587192535,\n",
            "    \"ndcg_40\": 0.17197497189044952,\n",
            "    \"recall_10\": 0.15105943381786346,\n",
            "    \"recall_20\": 0.22123590111732483,\n",
            "    \"recall_30\": 0.2585018575191498,\n",
            "    \"recall_40\": 0.2825412452220917\n",
            "}\n",
            "model save as ../save_model_folder/TaFeng/DNNTSP/model_epoch_14.pkl\n"
          ],
          "name": "stdout"
        },
        {
          "output_type": "stream",
          "text": [
            "train epoch: 15, train loss: 0.007762606061684589: 100%|██████████| 108/108 [02:37<00:00,  1.45s/it]\n"
          ],
          "name": "stderr"
        },
        {
          "output_type": "stream",
          "text": [
            "train metric ...\n"
          ],
          "name": "stdout"
        },
        {
          "output_type": "stream",
          "text": [
            "\r  0%|          | 0/16 [00:00<?, ?it/s]"
          ],
          "name": "stderr"
        },
        {
          "output_type": "stream",
          "text": [
            "{\n",
            "    \"PHR_10\": 0.48548199767711964,\n",
            "    \"PHR_20\": 0.5979965156794426,\n",
            "    \"PHR_30\": 0.6480836236933798,\n",
            "    \"PHR_40\": 0.6777003484320557,\n",
            "    \"ndcg_10\": 0.15881547331809998,\n",
            "    \"ndcg_20\": 0.1814788430929184,\n",
            "    \"ndcg_30\": 0.19377867877483368,\n",
            "    \"ndcg_40\": 0.202090322971344,\n",
            "    \"recall_10\": 0.18414589762687683,\n",
            "    \"recall_20\": 0.25504979491233826,\n",
            "    \"recall_30\": 0.2932388484477997,\n",
            "    \"recall_40\": 0.3200588524341583\n",
            "}\n"
          ],
          "name": "stdout"
        },
        {
          "output_type": "stream",
          "text": [
            "validate epoch: 15, validate loss: 0.007943857664940879: 100%|██████████| 16/16 [00:12<00:00,  1.30it/s]\n"
          ],
          "name": "stderr"
        },
        {
          "output_type": "stream",
          "text": [
            "validate metric ...\n"
          ],
          "name": "stdout"
        },
        {
          "output_type": "stream",
          "text": [
            "\r  0%|          | 0/108 [00:00<?, ?it/s]"
          ],
          "name": "stderr"
        },
        {
          "output_type": "stream",
          "text": [
            "{\n",
            "    \"PHR_10\": 0.4329268292682927,\n",
            "    \"PHR_20\": 0.5691056910569106,\n",
            "    \"PHR_30\": 0.6290650406504065,\n",
            "    \"PHR_40\": 0.6544715447154471,\n",
            "    \"ndcg_10\": 0.12854965031147003,\n",
            "    \"ndcg_20\": 0.15358424186706543,\n",
            "    \"ndcg_30\": 0.16697750985622406,\n",
            "    \"ndcg_40\": 0.17444151639938354,\n",
            "    \"recall_10\": 0.1495024561882019,\n",
            "    \"recall_20\": 0.22332873940467834,\n",
            "    \"recall_30\": 0.2639601230621338,\n",
            "    \"recall_40\": 0.286927729845047\n",
            "}\n",
            "model save as ../save_model_folder/TaFeng/DNNTSP/model_epoch_15.pkl\n"
          ],
          "name": "stdout"
        },
        {
          "output_type": "stream",
          "text": [
            "train epoch: 16, train loss: 0.00768456544244179: 100%|██████████| 108/108 [02:36<00:00,  1.45s/it]\n"
          ],
          "name": "stderr"
        },
        {
          "output_type": "stream",
          "text": [
            "train metric ...\n"
          ],
          "name": "stdout"
        },
        {
          "output_type": "stream",
          "text": [
            "\r  0%|          | 0/16 [00:00<?, ?it/s]"
          ],
          "name": "stderr"
        },
        {
          "output_type": "stream",
          "text": [
            "{\n",
            "    \"PHR_10\": 0.4882404181184669,\n",
            "    \"PHR_20\": 0.5987224157955865,\n",
            "    \"PHR_30\": 0.6537456445993032,\n",
            "    \"PHR_40\": 0.6822009291521487,\n",
            "    \"ndcg_10\": 0.160655215382576,\n",
            "    \"ndcg_20\": 0.18327596783638,\n",
            "    \"ndcg_30\": 0.1965913027524948,\n",
            "    \"ndcg_40\": 0.2045598030090332,\n",
            "    \"recall_10\": 0.1863681972026825,\n",
            "    \"recall_20\": 0.25736358761787415,\n",
            "    \"recall_30\": 0.2993403375148773,\n",
            "    \"recall_40\": 0.32413187623023987\n",
            "}\n"
          ],
          "name": "stdout"
        },
        {
          "output_type": "stream",
          "text": [
            "validate epoch: 16, validate loss: 0.007910065934993327: 100%|██████████| 16/16 [00:12<00:00,  1.32it/s]\n"
          ],
          "name": "stderr"
        },
        {
          "output_type": "stream",
          "text": [
            "validate metric ...\n"
          ],
          "name": "stdout"
        },
        {
          "output_type": "stream",
          "text": [
            "\r  0%|          | 0/108 [00:00<?, ?it/s]"
          ],
          "name": "stderr"
        },
        {
          "output_type": "stream",
          "text": [
            "{\n",
            "    \"PHR_10\": 0.4410569105691057,\n",
            "    \"PHR_20\": 0.5691056910569106,\n",
            "    \"PHR_30\": 0.6300813008130082,\n",
            "    \"PHR_40\": 0.6615853658536586,\n",
            "    \"ndcg_10\": 0.12947188317775726,\n",
            "    \"ndcg_20\": 0.153085857629776,\n",
            "    \"ndcg_30\": 0.16722899675369263,\n",
            "    \"ndcg_40\": 0.1752348095178604,\n",
            "    \"recall_10\": 0.15280577540397644,\n",
            "    \"recall_20\": 0.22239848971366882,\n",
            "    \"recall_30\": 0.26426267623901367,\n",
            "    \"recall_40\": 0.28930971026420593\n",
            "}\n",
            "model save as ../save_model_folder/TaFeng/DNNTSP/model_epoch_16.pkl\n"
          ],
          "name": "stdout"
        },
        {
          "output_type": "stream",
          "text": [
            "train epoch: 17, train loss: 0.007600775337778032: 100%|██████████| 108/108 [02:36<00:00,  1.45s/it]\n"
          ],
          "name": "stderr"
        },
        {
          "output_type": "stream",
          "text": [
            "train metric ...\n"
          ],
          "name": "stdout"
        },
        {
          "output_type": "stream",
          "text": [
            "\r  0%|          | 0/16 [00:00<?, ?it/s]"
          ],
          "name": "stderr"
        },
        {
          "output_type": "stream",
          "text": [
            "{\n",
            "    \"PHR_10\": 0.491869918699187,\n",
            "    \"PHR_20\": 0.6019163763066202,\n",
            "    \"PHR_30\": 0.65534262485482,\n",
            "    \"PHR_40\": 0.6881533101045296,\n",
            "    \"ndcg_10\": 0.1612062156200409,\n",
            "    \"ndcg_20\": 0.1841762661933899,\n",
            "    \"ndcg_30\": 0.19745217263698578,\n",
            "    \"ndcg_40\": 0.20621243119239807,\n",
            "    \"recall_10\": 0.18750464916229248,\n",
            "    \"recall_20\": 0.25915834307670593,\n",
            "    \"recall_30\": 0.30085134506225586,\n",
            "    \"recall_40\": 0.32851487398147583\n",
            "}\n"
          ],
          "name": "stdout"
        },
        {
          "output_type": "stream",
          "text": [
            "validate epoch: 17, validate loss: 0.007804711349308491: 100%|██████████| 16/16 [00:12<00:00,  1.32it/s]\n"
          ],
          "name": "stderr"
        },
        {
          "output_type": "stream",
          "text": [
            "validate metric ...\n"
          ],
          "name": "stdout"
        },
        {
          "output_type": "stream",
          "text": [
            "\r  0%|          | 0/108 [00:00<?, ?it/s]"
          ],
          "name": "stderr"
        },
        {
          "output_type": "stream",
          "text": [
            "{\n",
            "    \"PHR_10\": 0.44715447154471544,\n",
            "    \"PHR_20\": 0.5782520325203252,\n",
            "    \"PHR_30\": 0.6300813008130082,\n",
            "    \"PHR_40\": 0.6697154471544715,\n",
            "    \"ndcg_10\": 0.13248227536678314,\n",
            "    \"ndcg_20\": 0.1557299941778183,\n",
            "    \"ndcg_30\": 0.1686096042394638,\n",
            "    \"ndcg_40\": 0.1774851530790329,\n",
            "    \"recall_10\": 0.15690001845359802,\n",
            "    \"recall_20\": 0.225687175989151,\n",
            "    \"recall_30\": 0.264669269323349,\n",
            "    \"recall_40\": 0.29233449697494507\n",
            "}\n",
            "model save as ../save_model_folder/TaFeng/DNNTSP/model_epoch_17.pkl\n"
          ],
          "name": "stdout"
        },
        {
          "output_type": "stream",
          "text": [
            "train epoch: 18, train loss: 0.007533750867609073: 100%|██████████| 108/108 [02:36<00:00,  1.45s/it]\n"
          ],
          "name": "stderr"
        },
        {
          "output_type": "stream",
          "text": [
            "train metric ...\n"
          ],
          "name": "stdout"
        },
        {
          "output_type": "stream",
          "text": [
            "\r  0%|          | 0/16 [00:00<?, ?it/s]"
          ],
          "name": "stderr"
        },
        {
          "output_type": "stream",
          "text": [
            "{\n",
            "    \"PHR_10\": 0.49753193960511033,\n",
            "    \"PHR_20\": 0.6056910569105691,\n",
            "    \"PHR_30\": 0.6581010452961672,\n",
            "    \"PHR_40\": 0.6910569105691057,\n",
            "    \"ndcg_10\": 0.16410526633262634,\n",
            "    \"ndcg_20\": 0.18679292500019073,\n",
            "    \"ndcg_30\": 0.1998285949230194,\n",
            "    \"ndcg_40\": 0.20865485072135925,\n",
            "    \"recall_10\": 0.19117821753025055,\n",
            "    \"recall_20\": 0.26174813508987427,\n",
            "    \"recall_30\": 0.3025672435760498,\n",
            "    \"recall_40\": 0.3308688998222351\n",
            "}\n"
          ],
          "name": "stdout"
        },
        {
          "output_type": "stream",
          "text": [
            "validate epoch: 18, validate loss: 0.007759508531307802: 100%|██████████| 16/16 [00:12<00:00,  1.32it/s]\n"
          ],
          "name": "stderr"
        },
        {
          "output_type": "stream",
          "text": [
            "validate metric ...\n"
          ],
          "name": "stdout"
        },
        {
          "output_type": "stream",
          "text": [
            "\r  0%|          | 0/108 [00:00<?, ?it/s]"
          ],
          "name": "stderr"
        },
        {
          "output_type": "stream",
          "text": [
            "{\n",
            "    \"PHR_10\": 0.44613821138211385,\n",
            "    \"PHR_20\": 0.5802845528455285,\n",
            "    \"PHR_30\": 0.6310975609756098,\n",
            "    \"PHR_40\": 0.665650406504065,\n",
            "    \"ndcg_10\": 0.1324131339788437,\n",
            "    \"ndcg_20\": 0.15603229403495789,\n",
            "    \"ndcg_30\": 0.16885021328926086,\n",
            "    \"ndcg_40\": 0.17729809880256653,\n",
            "    \"recall_10\": 0.1554262936115265,\n",
            "    \"recall_20\": 0.22668878734111786,\n",
            "    \"recall_30\": 0.26468339562416077,\n",
            "    \"recall_40\": 0.2913368344306946\n",
            "}\n",
            "model save as ../save_model_folder/TaFeng/DNNTSP/model_epoch_18.pkl\n"
          ],
          "name": "stdout"
        },
        {
          "output_type": "stream",
          "text": [
            "train epoch: 19, train loss: 0.007482214084895396: 100%|██████████| 108/108 [02:36<00:00,  1.45s/it]\n"
          ],
          "name": "stderr"
        },
        {
          "output_type": "stream",
          "text": [
            "train metric ...\n"
          ],
          "name": "stdout"
        },
        {
          "output_type": "stream",
          "text": [
            "\r  0%|          | 0/16 [00:00<?, ?it/s]"
          ],
          "name": "stderr"
        },
        {
          "output_type": "stream",
          "text": [
            "{\n",
            "    \"PHR_10\": 0.502177700348432,\n",
            "    \"PHR_20\": 0.60801393728223,\n",
            "    \"PHR_30\": 0.6612950058072009,\n",
            "    \"PHR_40\": 0.6920731707317073,\n",
            "    \"ndcg_10\": 0.16594044864177704,\n",
            "    \"ndcg_20\": 0.18837720155715942,\n",
            "    \"ndcg_30\": 0.20166274905204773,\n",
            "    \"ndcg_40\": 0.2100834846496582,\n",
            "    \"recall_10\": 0.19283615052700043,\n",
            "    \"recall_20\": 0.2633969485759735,\n",
            "    \"recall_30\": 0.30488428473472595,\n",
            "    \"recall_40\": 0.3318876326084137\n",
            "}\n"
          ],
          "name": "stdout"
        },
        {
          "output_type": "stream",
          "text": [
            "validate epoch: 19, validate loss: 0.007722977199591696: 100%|██████████| 16/16 [00:12<00:00,  1.31it/s]\n"
          ],
          "name": "stderr"
        },
        {
          "output_type": "stream",
          "text": [
            "validate metric ...\n"
          ],
          "name": "stdout"
        },
        {
          "output_type": "stream",
          "text": [
            "\r  0%|          | 0/108 [00:00<?, ?it/s]"
          ],
          "name": "stderr"
        },
        {
          "output_type": "stream",
          "text": [
            "{\n",
            "    \"PHR_10\": 0.44308943089430897,\n",
            "    \"PHR_20\": 0.5782520325203252,\n",
            "    \"PHR_30\": 0.6300813008130082,\n",
            "    \"PHR_40\": 0.6626016260162602,\n",
            "    \"ndcg_10\": 0.1330440640449524,\n",
            "    \"ndcg_20\": 0.1570103019475937,\n",
            "    \"ndcg_30\": 0.16957737505435944,\n",
            "    \"ndcg_40\": 0.17760612070560455,\n",
            "    \"recall_10\": 0.15505295991897583,\n",
            "    \"recall_20\": 0.22762715816497803,\n",
            "    \"recall_30\": 0.2650546133518219,\n",
            "    \"recall_40\": 0.2902330756187439\n",
            "}\n",
            "model save as ../save_model_folder/TaFeng/DNNTSP/model_epoch_19.pkl\n"
          ],
          "name": "stdout"
        },
        {
          "output_type": "stream",
          "text": [
            "train epoch: 20, train loss: 0.007439434713753009: 100%|██████████| 108/108 [02:37<00:00,  1.45s/it]\n"
          ],
          "name": "stderr"
        },
        {
          "output_type": "stream",
          "text": [
            "train metric ...\n"
          ],
          "name": "stdout"
        },
        {
          "output_type": "stream",
          "text": [
            "\r  0%|          | 0/16 [00:00<?, ?it/s]"
          ],
          "name": "stderr"
        },
        {
          "output_type": "stream",
          "text": [
            "{\n",
            "    \"PHR_10\": 0.5063879210220673,\n",
            "    \"PHR_20\": 0.6100464576074333,\n",
            "    \"PHR_30\": 0.6630371660859465,\n",
            "    \"PHR_40\": 0.6958478513356562,\n",
            "    \"ndcg_10\": 0.16808336973190308,\n",
            "    \"ndcg_20\": 0.18997348845005035,\n",
            "    \"ndcg_30\": 0.2035180628299713,\n",
            "    \"ndcg_40\": 0.21188271045684814,\n",
            "    \"recall_10\": 0.19552278518676758,\n",
            "    \"recall_20\": 0.2645958662033081,\n",
            "    \"recall_30\": 0.3069134056568146,\n",
            "    \"recall_40\": 0.3339356482028961\n",
            "}\n"
          ],
          "name": "stdout"
        },
        {
          "output_type": "stream",
          "text": [
            "validate epoch: 20, validate loss: 0.0077144361566752195: 100%|██████████| 16/16 [00:12<00:00,  1.32it/s]\n"
          ],
          "name": "stderr"
        },
        {
          "output_type": "stream",
          "text": [
            "validate metric ...\n"
          ],
          "name": "stdout"
        },
        {
          "output_type": "stream",
          "text": [
            "\r  0%|          | 0/108 [00:00<?, ?it/s]"
          ],
          "name": "stderr"
        },
        {
          "output_type": "stream",
          "text": [
            "{\n",
            "    \"PHR_10\": 0.44308943089430897,\n",
            "    \"PHR_20\": 0.5792682926829268,\n",
            "    \"PHR_30\": 0.6300813008130082,\n",
            "    \"PHR_40\": 0.6646341463414634,\n",
            "    \"ndcg_10\": 0.13272736966609955,\n",
            "    \"ndcg_20\": 0.15734635293483734,\n",
            "    \"ndcg_30\": 0.16955751180648804,\n",
            "    \"ndcg_40\": 0.17789693176746368,\n",
            "    \"recall_10\": 0.15501122176647186,\n",
            "    \"recall_20\": 0.22891010344028473,\n",
            "    \"recall_30\": 0.26483845710754395,\n",
            "    \"recall_40\": 0.2914940416812897\n",
            "}\n",
            "model save as ../save_model_folder/TaFeng/DNNTSP/model_epoch_20.pkl\n"
          ],
          "name": "stdout"
        },
        {
          "output_type": "stream",
          "text": [
            "train epoch: 21, train loss: 0.0074077235724501036: 100%|██████████| 108/108 [02:36<00:00,  1.45s/it]\n"
          ],
          "name": "stderr"
        },
        {
          "output_type": "stream",
          "text": [
            "train metric ...\n"
          ],
          "name": "stdout"
        },
        {
          "output_type": "stream",
          "text": [
            "\r  0%|          | 0/16 [00:00<?, ?it/s]"
          ],
          "name": "stderr"
        },
        {
          "output_type": "stream",
          "text": [
            "{\n",
            "    \"PHR_10\": 0.5079849012775842,\n",
            "    \"PHR_20\": 0.6130952380952381,\n",
            "    \"PHR_30\": 0.6640534262485482,\n",
            "    \"PHR_40\": 0.6971544715447154,\n",
            "    \"ndcg_10\": 0.1690167337656021,\n",
            "    \"ndcg_20\": 0.19128116965293884,\n",
            "    \"ndcg_30\": 0.2046833336353302,\n",
            "    \"ndcg_40\": 0.21314021944999695,\n",
            "    \"recall_10\": 0.19565050303936005,\n",
            "    \"recall_20\": 0.26589831709861755,\n",
            "    \"recall_30\": 0.3079640865325928,\n",
            "    \"recall_40\": 0.3353211581707001\n",
            "}\n"
          ],
          "name": "stdout"
        },
        {
          "output_type": "stream",
          "text": [
            "validate epoch: 21, validate loss: 0.007692556595429778: 100%|██████████| 16/16 [00:12<00:00,  1.32it/s]\n"
          ],
          "name": "stderr"
        },
        {
          "output_type": "stream",
          "text": [
            "validate metric ...\n"
          ],
          "name": "stdout"
        },
        {
          "output_type": "stream",
          "text": [
            "\r  0%|          | 0/108 [00:00<?, ?it/s]"
          ],
          "name": "stderr"
        },
        {
          "output_type": "stream",
          "text": [
            "{\n",
            "    \"PHR_10\": 0.4420731707317073,\n",
            "    \"PHR_20\": 0.5792682926829268,\n",
            "    \"PHR_30\": 0.6219512195121951,\n",
            "    \"PHR_40\": 0.6666666666666666,\n",
            "    \"ndcg_10\": 0.133729949593544,\n",
            "    \"ndcg_20\": 0.15892480313777924,\n",
            "    \"ndcg_30\": 0.17001983523368835,\n",
            "    \"ndcg_40\": 0.17913898825645447,\n",
            "    \"recall_10\": 0.15473628044128418,\n",
            "    \"recall_20\": 0.2301214039325714,\n",
            "    \"recall_30\": 0.2623658776283264,\n",
            "    \"recall_40\": 0.2921733558177948\n",
            "}\n",
            "model save as ../save_model_folder/TaFeng/DNNTSP/model_epoch_21.pkl\n"
          ],
          "name": "stdout"
        },
        {
          "output_type": "stream",
          "text": [
            "train epoch: 22, train loss: 0.007375547088924106: 100%|██████████| 108/108 [02:44<00:00,  1.52s/it]\n"
          ],
          "name": "stderr"
        },
        {
          "output_type": "stream",
          "text": [
            "train metric ...\n"
          ],
          "name": "stdout"
        },
        {
          "output_type": "stream",
          "text": [
            "\r  0%|          | 0/16 [00:00<?, ?it/s]"
          ],
          "name": "stderr"
        },
        {
          "output_type": "stream",
          "text": [
            "{\n",
            "    \"PHR_10\": 0.509581881533101,\n",
            "    \"PHR_20\": 0.6139663182346109,\n",
            "    \"PHR_30\": 0.6669570267131243,\n",
            "    \"PHR_40\": 0.6984610917537747,\n",
            "    \"ndcg_10\": 0.17039643228054047,\n",
            "    \"ndcg_20\": 0.1924220323562622,\n",
            "    \"ndcg_30\": 0.20609961450099945,\n",
            "    \"ndcg_40\": 0.21441137790679932,\n",
            "    \"recall_10\": 0.1977216750383377,\n",
            "    \"recall_20\": 0.2668403089046478,\n",
            "    \"recall_30\": 0.30970168113708496,\n",
            "    \"recall_40\": 0.3363892436027527\n",
            "}\n"
          ],
          "name": "stdout"
        },
        {
          "output_type": "stream",
          "text": [
            "validate epoch: 22, validate loss: 0.007652762258658186: 100%|██████████| 16/16 [00:13<00:00,  1.23it/s]\n"
          ],
          "name": "stderr"
        },
        {
          "output_type": "stream",
          "text": [
            "validate metric ...\n"
          ],
          "name": "stdout"
        },
        {
          "output_type": "stream",
          "text": [
            "\r  0%|          | 0/108 [00:00<?, ?it/s]"
          ],
          "name": "stderr"
        },
        {
          "output_type": "stream",
          "text": [
            "{\n",
            "    \"PHR_10\": 0.44308943089430897,\n",
            "    \"PHR_20\": 0.5802845528455285,\n",
            "    \"PHR_30\": 0.6239837398373984,\n",
            "    \"PHR_40\": 0.6646341463414634,\n",
            "    \"ndcg_10\": 0.13382481038570404,\n",
            "    \"ndcg_20\": 0.15969929099082947,\n",
            "    \"ndcg_30\": 0.17108379304409027,\n",
            "    \"ndcg_40\": 0.17893926799297333,\n",
            "    \"recall_10\": 0.1536199003458023,\n",
            "    \"recall_20\": 0.2306293100118637,\n",
            "    \"recall_30\": 0.26416802406311035,\n",
            "    \"recall_40\": 0.28942009806632996\n",
            "}\n",
            "model save as ../save_model_folder/TaFeng/DNNTSP/model_epoch_22.pkl\n"
          ],
          "name": "stdout"
        },
        {
          "output_type": "stream",
          "text": [
            "train epoch: 23, train loss: 0.0073490190423197215: 100%|██████████| 108/108 [02:48<00:00,  1.56s/it]\n"
          ],
          "name": "stderr"
        },
        {
          "output_type": "stream",
          "text": [
            "train metric ...\n"
          ],
          "name": "stdout"
        },
        {
          "output_type": "stream",
          "text": [
            "\r  0%|          | 0/16 [00:00<?, ?it/s]"
          ],
          "name": "stderr"
        },
        {
          "output_type": "stream",
          "text": [
            "{\n",
            "    \"PHR_10\": 0.5108885017421603,\n",
            "    \"PHR_20\": 0.6162891986062717,\n",
            "    \"PHR_30\": 0.6685540069686411,\n",
            "    \"PHR_40\": 0.6978803716608595,\n",
            "    \"ndcg_10\": 0.17181086540222168,\n",
            "    \"ndcg_20\": 0.194157674908638,\n",
            "    \"ndcg_30\": 0.20753803849220276,\n",
            "    \"ndcg_40\": 0.2156447023153305,\n",
            "    \"recall_10\": 0.1983267366886139,\n",
            "    \"recall_20\": 0.26903238892555237,\n",
            "    \"recall_30\": 0.31116098165512085,\n",
            "    \"recall_40\": 0.33670294284820557\n",
            "}\n"
          ],
          "name": "stdout"
        },
        {
          "output_type": "stream",
          "text": [
            "validate epoch: 23, validate loss: 0.007641225180123001: 100%|██████████| 16/16 [00:13<00:00,  1.22it/s]\n"
          ],
          "name": "stderr"
        },
        {
          "output_type": "stream",
          "text": [
            "validate metric ...\n"
          ],
          "name": "stdout"
        },
        {
          "output_type": "stream",
          "text": [
            "\r  0%|          | 0/108 [00:00<?, ?it/s]"
          ],
          "name": "stderr"
        },
        {
          "output_type": "stream",
          "text": [
            "{\n",
            "    \"PHR_10\": 0.4451219512195122,\n",
            "    \"PHR_20\": 0.5813008130081301,\n",
            "    \"PHR_30\": 0.625,\n",
            "    \"PHR_40\": 0.665650406504065,\n",
            "    \"ndcg_10\": 0.134060338139534,\n",
            "    \"ndcg_20\": 0.15949957072734833,\n",
            "    \"ndcg_30\": 0.17103101313114166,\n",
            "    \"ndcg_40\": 0.17881616950035095,\n",
            "    \"recall_10\": 0.15410378575325012,\n",
            "    \"recall_20\": 0.23048096895217896,\n",
            "    \"recall_30\": 0.26481640338897705,\n",
            "    \"recall_40\": 0.28952473402023315\n",
            "}\n"
          ],
          "name": "stdout"
        },
        {
          "output_type": "stream",
          "text": [
            "train epoch: 24, train loss: 0.007327660008471597: 100%|██████████| 108/108 [02:48<00:00,  1.56s/it]\n"
          ],
          "name": "stderr"
        },
        {
          "output_type": "stream",
          "text": [
            "train metric ...\n"
          ],
          "name": "stdout"
        },
        {
          "output_type": "stream",
          "text": [
            "\r  0%|          | 0/16 [00:00<?, ?it/s]"
          ],
          "name": "stderr"
        },
        {
          "output_type": "stream",
          "text": [
            "{\n",
            "    \"PHR_10\": 0.5137921022067363,\n",
            "    \"PHR_20\": 0.6174506387921022,\n",
            "    \"PHR_30\": 0.670150987224158,\n",
            "    \"PHR_40\": 0.6990418118466899,\n",
            "    \"ndcg_10\": 0.1722971796989441,\n",
            "    \"ndcg_20\": 0.1943710595369339,\n",
            "    \"ndcg_30\": 0.2078201174736023,\n",
            "    \"ndcg_40\": 0.21596582233905792,\n",
            "    \"recall_10\": 0.19987402856349945,\n",
            "    \"recall_20\": 0.26977208256721497,\n",
            "    \"recall_30\": 0.31200942397117615,\n",
            "    \"recall_40\": 0.33769840002059937\n",
            "}\n"
          ],
          "name": "stdout"
        },
        {
          "output_type": "stream",
          "text": [
            "validate epoch: 24, validate loss: 0.007626679289387539: 100%|██████████| 16/16 [00:13<00:00,  1.22it/s]\n"
          ],
          "name": "stderr"
        },
        {
          "output_type": "stream",
          "text": [
            "validate metric ...\n"
          ],
          "name": "stdout"
        },
        {
          "output_type": "stream",
          "text": [
            "\r  0%|          | 0/108 [00:00<?, ?it/s]"
          ],
          "name": "stderr"
        },
        {
          "output_type": "stream",
          "text": [
            "{\n",
            "    \"PHR_10\": 0.44308943089430897,\n",
            "    \"PHR_20\": 0.5833333333333334,\n",
            "    \"PHR_30\": 0.6229674796747967,\n",
            "    \"PHR_40\": 0.665650406504065,\n",
            "    \"ndcg_10\": 0.13513468205928802,\n",
            "    \"ndcg_20\": 0.1605568826198578,\n",
            "    \"ndcg_30\": 0.171566441655159,\n",
            "    \"ndcg_40\": 0.17968712747097015,\n",
            "    \"recall_10\": 0.15543106198310852,\n",
            "    \"recall_20\": 0.23127661645412445,\n",
            "    \"recall_30\": 0.2633203864097595,\n",
            "    \"recall_40\": 0.29011228680610657\n",
            "}\n",
            "model save as ../save_model_folder/TaFeng/DNNTSP/model_epoch_24.pkl\n"
          ],
          "name": "stdout"
        },
        {
          "output_type": "stream",
          "text": [
            "train epoch: 25, train loss: 0.007309114219862278: 100%|██████████| 108/108 [02:48<00:00,  1.56s/it]\n"
          ],
          "name": "stderr"
        },
        {
          "output_type": "stream",
          "text": [
            "train metric ...\n"
          ],
          "name": "stdout"
        },
        {
          "output_type": "stream",
          "text": [
            "\r  0%|          | 0/16 [00:00<?, ?it/s]"
          ],
          "name": "stderr"
        },
        {
          "output_type": "stream",
          "text": [
            "{\n",
            "    \"PHR_10\": 0.516260162601626,\n",
            "    \"PHR_20\": 0.6200638792102207,\n",
            "    \"PHR_30\": 0.6692799070847851,\n",
            "    \"PHR_40\": 0.6994773519163763,\n",
            "    \"ndcg_10\": 0.17328810691833496,\n",
            "    \"ndcg_20\": 0.19543156027793884,\n",
            "    \"ndcg_30\": 0.20861047506332397,\n",
            "    \"ndcg_40\": 0.21694396436214447,\n",
            "    \"recall_10\": 0.20042206346988678,\n",
            "    \"recall_20\": 0.27115607261657715,\n",
            "    \"recall_30\": 0.31231972575187683,\n",
            "    \"recall_40\": 0.33866485953330994\n",
            "}\n"
          ],
          "name": "stdout"
        },
        {
          "output_type": "stream",
          "text": [
            "validate epoch: 25, validate loss: 0.007624899008078501: 100%|██████████| 16/16 [00:12<00:00,  1.25it/s]\n"
          ],
          "name": "stderr"
        },
        {
          "output_type": "stream",
          "text": [
            "validate metric ...\n"
          ],
          "name": "stdout"
        },
        {
          "output_type": "stream",
          "text": [
            "\r  0%|          | 0/108 [00:00<?, ?it/s]"
          ],
          "name": "stderr"
        },
        {
          "output_type": "stream",
          "text": [
            "{\n",
            "    \"PHR_10\": 0.44410569105691056,\n",
            "    \"PHR_20\": 0.5833333333333334,\n",
            "    \"PHR_30\": 0.6229674796747967,\n",
            "    \"PHR_40\": 0.6646341463414634,\n",
            "    \"ndcg_10\": 0.1361774057149887,\n",
            "    \"ndcg_20\": 0.16069485247135162,\n",
            "    \"ndcg_30\": 0.17176653444766998,\n",
            "    \"ndcg_40\": 0.18008264899253845,\n",
            "    \"recall_10\": 0.15683259069919586,\n",
            "    \"recall_20\": 0.23048602044582367,\n",
            "    \"recall_30\": 0.26301905512809753,\n",
            "    \"recall_40\": 0.2898896634578705\n",
            "}\n",
            "model save as ../save_model_folder/TaFeng/DNNTSP/model_epoch_25.pkl\n"
          ],
          "name": "stdout"
        },
        {
          "output_type": "stream",
          "text": [
            "train epoch: 26, train loss: 0.007293147556656213: 100%|██████████| 108/108 [02:37<00:00,  1.45s/it]\n"
          ],
          "name": "stderr"
        },
        {
          "output_type": "stream",
          "text": [
            "train metric ...\n"
          ],
          "name": "stdout"
        },
        {
          "output_type": "stream",
          "text": [
            "\r  0%|          | 0/16 [00:00<?, ?it/s]"
          ],
          "name": "stderr"
        },
        {
          "output_type": "stream",
          "text": [
            "{\n",
            "    \"PHR_10\": 0.5187282229965157,\n",
            "    \"PHR_20\": 0.6216608594657376,\n",
            "    \"PHR_30\": 0.6713124274099884,\n",
            "    \"PHR_40\": 0.7002032520325203,\n",
            "    \"ndcg_10\": 0.1740630716085434,\n",
            "    \"ndcg_20\": 0.19620615243911743,\n",
            "    \"ndcg_30\": 0.2094193696975708,\n",
            "    \"ndcg_40\": 0.21754424273967743,\n",
            "    \"recall_10\": 0.2014017552137375,\n",
            "    \"recall_20\": 0.27222010493278503,\n",
            "    \"recall_30\": 0.31345847249031067,\n",
            "    \"recall_40\": 0.3391920328140259\n",
            "}\n"
          ],
          "name": "stdout"
        },
        {
          "output_type": "stream",
          "text": [
            "validate epoch: 26, validate loss: 0.007610850821947679: 100%|██████████| 16/16 [00:12<00:00,  1.30it/s]\n"
          ],
          "name": "stderr"
        },
        {
          "output_type": "stream",
          "text": [
            "validate metric ...\n"
          ],
          "name": "stdout"
        },
        {
          "output_type": "stream",
          "text": [
            "\r  0%|          | 0/108 [00:00<?, ?it/s]"
          ],
          "name": "stderr"
        },
        {
          "output_type": "stream",
          "text": [
            "{\n",
            "    \"PHR_10\": 0.44410569105691056,\n",
            "    \"PHR_20\": 0.584349593495935,\n",
            "    \"PHR_30\": 0.6209349593495935,\n",
            "    \"PHR_40\": 0.6615853658536586,\n",
            "    \"ndcg_10\": 0.13679562509059906,\n",
            "    \"ndcg_20\": 0.161992147564888,\n",
            "    \"ndcg_30\": 0.17256216704845428,\n",
            "    \"ndcg_40\": 0.1806657910346985,\n",
            "    \"recall_10\": 0.15719270706176758,\n",
            "    \"recall_20\": 0.23173199594020844,\n",
            "    \"recall_30\": 0.2634735405445099,\n",
            "    \"recall_40\": 0.2890116572380066\n",
            "}\n",
            "model save as ../save_model_folder/TaFeng/DNNTSP/model_epoch_26.pkl\n"
          ],
          "name": "stdout"
        },
        {
          "output_type": "stream",
          "text": [
            "train epoch: 27, train loss: 0.007277640238128326: 100%|██████████| 108/108 [02:36<00:00,  1.45s/it]\n"
          ],
          "name": "stderr"
        },
        {
          "output_type": "stream",
          "text": [
            "train metric ...\n"
          ],
          "name": "stdout"
        },
        {
          "output_type": "stream",
          "text": [
            "\r  0%|          | 0/16 [00:00<?, ?it/s]"
          ],
          "name": "stderr"
        },
        {
          "output_type": "stream",
          "text": [
            "{\n",
            "    \"PHR_10\": 0.5188734030197445,\n",
            "    \"PHR_20\": 0.622822299651568,\n",
            "    \"PHR_30\": 0.6726190476190477,\n",
            "    \"PHR_40\": 0.7007839721254355,\n",
            "    \"ndcg_10\": 0.17509423196315765,\n",
            "    \"ndcg_20\": 0.19740793108940125,\n",
            "    \"ndcg_30\": 0.21028149127960205,\n",
            "    \"ndcg_40\": 0.2183094322681427,\n",
            "    \"recall_10\": 0.20194649696350098,\n",
            "    \"recall_20\": 0.27382951974868774,\n",
            "    \"recall_30\": 0.3139057457447052,\n",
            "    \"recall_40\": 0.33937719464302063\n",
            "}\n"
          ],
          "name": "stdout"
        },
        {
          "output_type": "stream",
          "text": [
            "validate epoch: 27, validate loss: 0.007627724902704358: 100%|██████████| 16/16 [00:12<00:00,  1.33it/s]\n"
          ],
          "name": "stderr"
        },
        {
          "output_type": "stream",
          "text": [
            "validate metric ...\n"
          ],
          "name": "stdout"
        },
        {
          "output_type": "stream",
          "text": [
            "\r  0%|          | 0/108 [00:00<?, ?it/s]"
          ],
          "name": "stderr"
        },
        {
          "output_type": "stream",
          "text": [
            "{\n",
            "    \"PHR_10\": 0.4420731707317073,\n",
            "    \"PHR_20\": 0.5792682926829268,\n",
            "    \"PHR_30\": 0.6219512195121951,\n",
            "    \"PHR_40\": 0.6646341463414634,\n",
            "    \"ndcg_10\": 0.13638660311698914,\n",
            "    \"ndcg_20\": 0.1616179347038269,\n",
            "    \"ndcg_30\": 0.17258378863334656,\n",
            "    \"ndcg_40\": 0.18083994090557098,\n",
            "    \"recall_10\": 0.15553773939609528,\n",
            "    \"recall_20\": 0.23106783628463745,\n",
            "    \"recall_30\": 0.26325470209121704,\n",
            "    \"recall_40\": 0.28980135917663574\n",
            "}\n"
          ],
          "name": "stdout"
        },
        {
          "output_type": "stream",
          "text": [
            "train epoch: 28, train loss: 0.007267891994194576: 100%|██████████| 108/108 [02:36<00:00,  1.45s/it]\n"
          ],
          "name": "stderr"
        },
        {
          "output_type": "stream",
          "text": [
            "train metric ...\n"
          ],
          "name": "stdout"
        },
        {
          "output_type": "stream",
          "text": [
            "\r  0%|          | 0/16 [00:00<?, ?it/s]"
          ],
          "name": "stderr"
        },
        {
          "output_type": "stream",
          "text": [
            "{\n",
            "    \"PHR_10\": 0.5194541231126597,\n",
            "    \"PHR_20\": 0.6235481997677119,\n",
            "    \"PHR_30\": 0.6721835075493612,\n",
            "    \"PHR_40\": 0.7003484320557491,\n",
            "    \"ndcg_10\": 0.17556999623775482,\n",
            "    \"ndcg_20\": 0.19778163731098175,\n",
            "    \"ndcg_30\": 0.21083711087703705,\n",
            "    \"ndcg_40\": 0.21870383620262146,\n",
            "    \"recall_10\": 0.20249798893928528,\n",
            "    \"recall_20\": 0.2740224301815033,\n",
            "    \"recall_30\": 0.31460660696029663,\n",
            "    \"recall_40\": 0.33949944376945496\n",
            "}\n"
          ],
          "name": "stdout"
        },
        {
          "output_type": "stream",
          "text": [
            "validate epoch: 28, validate loss: 0.00760270596947521: 100%|██████████| 16/16 [00:12<00:00,  1.32it/s]\n"
          ],
          "name": "stderr"
        },
        {
          "output_type": "stream",
          "text": [
            "validate metric ...\n"
          ],
          "name": "stdout"
        },
        {
          "output_type": "stream",
          "text": [
            "\r  0%|          | 0/108 [00:00<?, ?it/s]"
          ],
          "name": "stderr"
        },
        {
          "output_type": "stream",
          "text": [
            "{\n",
            "    \"PHR_10\": 0.4420731707317073,\n",
            "    \"PHR_20\": 0.5813008130081301,\n",
            "    \"PHR_30\": 0.6209349593495935,\n",
            "    \"PHR_40\": 0.6636178861788617,\n",
            "    \"ndcg_10\": 0.13590459525585175,\n",
            "    \"ndcg_20\": 0.1615442931652069,\n",
            "    \"ndcg_30\": 0.17266353964805603,\n",
            "    \"ndcg_40\": 0.18073035776615143,\n",
            "    \"recall_10\": 0.15448127686977386,\n",
            "    \"recall_20\": 0.23079654574394226,\n",
            "    \"recall_30\": 0.2633599042892456,\n",
            "    \"recall_40\": 0.28969794511795044\n",
            "}\n"
          ],
          "name": "stdout"
        },
        {
          "output_type": "stream",
          "text": [
            "train epoch: 29, train loss: 0.007309548388649192: 100%|██████████| 108/108 [02:36<00:00,  1.45s/it]\n"
          ],
          "name": "stderr"
        },
        {
          "output_type": "stream",
          "text": [
            "train metric ...\n"
          ],
          "name": "stdout"
        },
        {
          "output_type": "stream",
          "text": [
            "\r  0%|          | 0/16 [00:00<?, ?it/s]"
          ],
          "name": "stderr"
        },
        {
          "output_type": "stream",
          "text": [
            "{\n",
            "    \"PHR_10\": 0.5139372822299652,\n",
            "    \"PHR_20\": 0.6187572590011614,\n",
            "    \"PHR_30\": 0.6714576074332171,\n",
            "    \"PHR_40\": 0.6997677119628339,\n",
            "    \"ndcg_10\": 0.17398709058761597,\n",
            "    \"ndcg_20\": 0.19565817713737488,\n",
            "    \"ndcg_30\": 0.20909316837787628,\n",
            "    \"ndcg_40\": 0.21704046428203583,\n",
            "    \"recall_10\": 0.2022554576396942,\n",
            "    \"recall_20\": 0.2713610529899597,\n",
            "    \"recall_30\": 0.313517689704895,\n",
            "    \"recall_40\": 0.3385099470615387\n",
            "}\n"
          ],
          "name": "stdout"
        },
        {
          "output_type": "stream",
          "text": [
            "validate epoch: 29, validate loss: 0.007614050147822127: 100%|██████████| 16/16 [00:12<00:00,  1.32it/s]\n"
          ],
          "name": "stderr"
        },
        {
          "output_type": "stream",
          "text": [
            "validate metric ...\n"
          ],
          "name": "stdout"
        },
        {
          "output_type": "stream",
          "text": [
            "\r  0%|          | 0/108 [00:00<?, ?it/s]"
          ],
          "name": "stderr"
        },
        {
          "output_type": "stream",
          "text": [
            "{\n",
            "    \"PHR_10\": 0.4502032520325203,\n",
            "    \"PHR_20\": 0.5741869918699187,\n",
            "    \"PHR_30\": 0.6209349593495935,\n",
            "    \"PHR_40\": 0.6646341463414634,\n",
            "    \"ndcg_10\": 0.13731127977371216,\n",
            "    \"ndcg_20\": 0.16228201985359192,\n",
            "    \"ndcg_30\": 0.17406237125396729,\n",
            "    \"ndcg_40\": 0.18139907717704773,\n",
            "    \"recall_10\": 0.15809281170368195,\n",
            "    \"recall_20\": 0.23223069310188293,\n",
            "    \"recall_30\": 0.2668699622154236,\n",
            "    \"recall_40\": 0.289852499961853\n",
            "}\n",
            "model save as ../save_model_folder/TaFeng/DNNTSP/model_epoch_29.pkl\n"
          ],
          "name": "stdout"
        },
        {
          "output_type": "stream",
          "text": [
            "train epoch: 30, train loss: 0.007258789907037108: 100%|██████████| 108/108 [02:36<00:00,  1.45s/it]\n"
          ],
          "name": "stderr"
        },
        {
          "output_type": "stream",
          "text": [
            "train metric ...\n"
          ],
          "name": "stdout"
        },
        {
          "output_type": "stream",
          "text": [
            "\r  0%|          | 0/16 [00:00<?, ?it/s]"
          ],
          "name": "stderr"
        },
        {
          "output_type": "stream",
          "text": [
            "{\n",
            "    \"PHR_10\": 0.5182926829268293,\n",
            "    \"PHR_20\": 0.6234030197444832,\n",
            "    \"PHR_30\": 0.6718931475029036,\n",
            "    \"PHR_40\": 0.7022357723577236,\n",
            "    \"ndcg_10\": 0.17539082467556,\n",
            "    \"ndcg_20\": 0.1975664347410202,\n",
            "    \"ndcg_30\": 0.21062257885932922,\n",
            "    \"ndcg_40\": 0.2187991738319397,\n",
            "    \"recall_10\": 0.20262442529201508,\n",
            "    \"recall_20\": 0.27380478382110596,\n",
            "    \"recall_30\": 0.3143782913684845,\n",
            "    \"recall_40\": 0.34075409173965454\n",
            "}\n"
          ],
          "name": "stdout"
        },
        {
          "output_type": "stream",
          "text": [
            "validate epoch: 30, validate loss: 0.007617366238264367: 100%|██████████| 16/16 [00:12<00:00,  1.33it/s]\n"
          ],
          "name": "stderr"
        },
        {
          "output_type": "stream",
          "text": [
            "validate metric ...\n"
          ],
          "name": "stdout"
        },
        {
          "output_type": "stream",
          "text": [
            "\r  0%|          | 0/108 [00:00<?, ?it/s]"
          ],
          "name": "stderr"
        },
        {
          "output_type": "stream",
          "text": [
            "{\n",
            "    \"PHR_10\": 0.44715447154471544,\n",
            "    \"PHR_20\": 0.5762195121951219,\n",
            "    \"PHR_30\": 0.6209349593495935,\n",
            "    \"PHR_40\": 0.6666666666666666,\n",
            "    \"ndcg_10\": 0.13652412593364716,\n",
            "    \"ndcg_20\": 0.16209939122200012,\n",
            "    \"ndcg_30\": 0.17371854186058044,\n",
            "    \"ndcg_40\": 0.18154776096343994,\n",
            "    \"recall_10\": 0.15560440719127655,\n",
            "    \"recall_20\": 0.2309674769639969,\n",
            "    \"recall_30\": 0.2655823230743408,\n",
            "    \"recall_40\": 0.29074743390083313\n",
            "}\n"
          ],
          "name": "stdout"
        },
        {
          "output_type": "stream",
          "text": [
            "train epoch: 31, train loss: 0.007244020834116748: 100%|██████████| 108/108 [02:36<00:00,  1.45s/it]\n"
          ],
          "name": "stderr"
        },
        {
          "output_type": "stream",
          "text": [
            "train metric ...\n"
          ],
          "name": "stdout"
        },
        {
          "output_type": "stream",
          "text": [
            "\r  0%|          | 0/16 [00:00<?, ?it/s]"
          ],
          "name": "stderr"
        },
        {
          "output_type": "stream",
          "text": [
            "{\n",
            "    \"PHR_10\": 0.5185830429732868,\n",
            "    \"PHR_20\": 0.6244192799070848,\n",
            "    \"PHR_30\": 0.6726190476190477,\n",
            "    \"PHR_40\": 0.7020905923344948,\n",
            "    \"ndcg_10\": 0.1763252466917038,\n",
            "    \"ndcg_20\": 0.19864697754383087,\n",
            "    \"ndcg_30\": 0.21168828010559082,\n",
            "    \"ndcg_40\": 0.2197200357913971,\n",
            "    \"recall_10\": 0.20289112627506256,\n",
            "    \"recall_20\": 0.27449795603752136,\n",
            "    \"recall_30\": 0.3153114318847656,\n",
            "    \"recall_40\": 0.3407670259475708\n",
            "}\n"
          ],
          "name": "stdout"
        },
        {
          "output_type": "stream",
          "text": [
            "validate epoch: 31, validate loss: 0.007624039135407656: 100%|██████████| 16/16 [00:12<00:00,  1.32it/s]\n"
          ],
          "name": "stderr"
        },
        {
          "output_type": "stream",
          "text": [
            "validate metric ...\n"
          ],
          "name": "stdout"
        },
        {
          "output_type": "stream",
          "text": [
            "\r  0%|          | 0/108 [00:00<?, ?it/s]"
          ],
          "name": "stderr"
        },
        {
          "output_type": "stream",
          "text": [
            "{\n",
            "    \"PHR_10\": 0.44410569105691056,\n",
            "    \"PHR_20\": 0.5782520325203252,\n",
            "    \"PHR_30\": 0.6199186991869918,\n",
            "    \"PHR_40\": 0.6666666666666666,\n",
            "    \"ndcg_10\": 0.13621099293231964,\n",
            "    \"ndcg_20\": 0.1616538017988205,\n",
            "    \"ndcg_30\": 0.17315417528152466,\n",
            "    \"ndcg_40\": 0.18110936880111694,\n",
            "    \"recall_10\": 0.1559290587902069,\n",
            "    \"recall_20\": 0.23093710839748383,\n",
            "    \"recall_30\": 0.26467958092689514,\n",
            "    \"recall_40\": 0.29079896211624146\n",
            "}\n"
          ],
          "name": "stdout"
        },
        {
          "output_type": "stream",
          "text": [
            "train epoch: 32, train loss: 0.007236944796103571: 100%|██████████| 108/108 [02:36<00:00,  1.45s/it]\n"
          ],
          "name": "stderr"
        },
        {
          "output_type": "stream",
          "text": [
            "train metric ...\n"
          ],
          "name": "stdout"
        },
        {
          "output_type": "stream",
          "text": [
            "\r  0%|          | 0/16 [00:00<?, ?it/s]"
          ],
          "name": "stderr"
        },
        {
          "output_type": "stream",
          "text": [
            "{\n",
            "    \"PHR_10\": 0.5200348432055749,\n",
            "    \"PHR_20\": 0.6248548199767712,\n",
            "    \"PHR_30\": 0.6726190476190477,\n",
            "    \"PHR_40\": 0.7029616724738676,\n",
            "    \"ndcg_10\": 0.17712877690792084,\n",
            "    \"ndcg_20\": 0.19951370358467102,\n",
            "    \"ndcg_30\": 0.212408185005188,\n",
            "    \"ndcg_40\": 0.22051766514778137,\n",
            "    \"recall_10\": 0.203473299741745,\n",
            "    \"recall_20\": 0.27507007122039795,\n",
            "    \"recall_30\": 0.315223753452301,\n",
            "    \"recall_40\": 0.34111177921295166\n",
            "}\n"
          ],
          "name": "stdout"
        },
        {
          "output_type": "stream",
          "text": [
            "validate epoch: 32, validate loss: 0.007601000426802784: 100%|██████████| 16/16 [00:11<00:00,  1.34it/s]\n"
          ],
          "name": "stderr"
        },
        {
          "output_type": "stream",
          "text": [
            "validate metric ...\n"
          ],
          "name": "stdout"
        },
        {
          "output_type": "stream",
          "text": [
            "\r  0%|          | 0/108 [00:00<?, ?it/s]"
          ],
          "name": "stderr"
        },
        {
          "output_type": "stream",
          "text": [
            "{\n",
            "    \"PHR_10\": 0.4502032520325203,\n",
            "    \"PHR_20\": 0.5752032520325203,\n",
            "    \"PHR_30\": 0.6189024390243902,\n",
            "    \"PHR_40\": 0.6646341463414634,\n",
            "    \"ndcg_10\": 0.1373106837272644,\n",
            "    \"ndcg_20\": 0.1616515964269638,\n",
            "    \"ndcg_30\": 0.17366796731948853,\n",
            "    \"ndcg_40\": 0.18138892948627472,\n",
            "    \"recall_10\": 0.15758739411830902,\n",
            "    \"recall_20\": 0.22948043048381805,\n",
            "    \"recall_30\": 0.26495257019996643,\n",
            "    \"recall_40\": 0.2905608117580414\n",
            "}\n"
          ],
          "name": "stdout"
        },
        {
          "output_type": "stream",
          "text": [
            "train epoch: 33, train loss: 0.007228270940551603: 100%|██████████| 108/108 [02:35<00:00,  1.44s/it]\n"
          ],
          "name": "stderr"
        },
        {
          "output_type": "stream",
          "text": [
            "train metric ...\n"
          ],
          "name": "stdout"
        },
        {
          "output_type": "stream",
          "text": [
            "\r  0%|          | 0/16 [00:00<?, ?it/s]"
          ],
          "name": "stderr"
        },
        {
          "output_type": "stream",
          "text": [
            "{\n",
            "    \"PHR_10\": 0.5204703832752613,\n",
            "    \"PHR_20\": 0.6252903600464577,\n",
            "    \"PHR_30\": 0.6733449477351916,\n",
            "    \"PHR_40\": 0.703397212543554,\n",
            "    \"ndcg_10\": 0.17805659770965576,\n",
            "    \"ndcg_20\": 0.20035800337791443,\n",
            "    \"ndcg_30\": 0.21316955983638763,\n",
            "    \"ndcg_40\": 0.22134532034397125,\n",
            "    \"recall_10\": 0.20397312939167023,\n",
            "    \"recall_20\": 0.27552559971809387,\n",
            "    \"recall_30\": 0.31565535068511963,\n",
            "    \"recall_40\": 0.34165218472480774\n",
            "}\n"
          ],
          "name": "stdout"
        },
        {
          "output_type": "stream",
          "text": [
            "validate epoch: 33, validate loss: 0.007619950541993603: 100%|██████████| 16/16 [00:12<00:00,  1.32it/s]\n"
          ],
          "name": "stderr"
        },
        {
          "output_type": "stream",
          "text": [
            "validate metric ...\n"
          ],
          "name": "stdout"
        },
        {
          "output_type": "stream",
          "text": [
            "\r  0%|          | 0/108 [00:00<?, ?it/s]"
          ],
          "name": "stderr"
        },
        {
          "output_type": "stream",
          "text": [
            "{\n",
            "    \"PHR_10\": 0.44613821138211385,\n",
            "    \"PHR_20\": 0.5772357723577236,\n",
            "    \"PHR_30\": 0.6199186991869918,\n",
            "    \"PHR_40\": 0.665650406504065,\n",
            "    \"ndcg_10\": 0.13781999051570892,\n",
            "    \"ndcg_20\": 0.1624913215637207,\n",
            "    \"ndcg_30\": 0.1741418093442917,\n",
            "    \"ndcg_40\": 0.1821839064359665,\n",
            "    \"recall_10\": 0.1570405513048172,\n",
            "    \"recall_20\": 0.2301725298166275,\n",
            "    \"recall_30\": 0.26438525319099426,\n",
            "    \"recall_40\": 0.29090559482574463\n",
            "}\n",
            "model save as ../save_model_folder/TaFeng/DNNTSP/model_epoch_33.pkl\n"
          ],
          "name": "stdout"
        },
        {
          "output_type": "stream",
          "text": [
            "train epoch: 34, train loss: 0.007222929853014648: 100%|██████████| 108/108 [02:36<00:00,  1.45s/it]\n"
          ],
          "name": "stderr"
        },
        {
          "output_type": "stream",
          "text": [
            "train metric ...\n"
          ],
          "name": "stdout"
        },
        {
          "output_type": "stream",
          "text": [
            "\r  0%|          | 0/16 [00:00<?, ?it/s]"
          ],
          "name": "stderr"
        },
        {
          "output_type": "stream",
          "text": [
            "{\n",
            "    \"PHR_10\": 0.5223577235772358,\n",
            "    \"PHR_20\": 0.6264518002322881,\n",
            "    \"PHR_30\": 0.6743612078977933,\n",
            "    \"PHR_40\": 0.7036875725900116,\n",
            "    \"ndcg_10\": 0.17856977880001068,\n",
            "    \"ndcg_20\": 0.20098517835140228,\n",
            "    \"ndcg_30\": 0.21363934874534607,\n",
            "    \"ndcg_40\": 0.22171883285045624,\n",
            "    \"recall_10\": 0.20485888421535492,\n",
            "    \"recall_20\": 0.2767142057418823,\n",
            "    \"recall_30\": 0.31634658575057983,\n",
            "    \"recall_40\": 0.3420855700969696\n",
            "}\n"
          ],
          "name": "stdout"
        },
        {
          "output_type": "stream",
          "text": [
            "validate epoch: 34, validate loss: 0.007619623414939269: 100%|██████████| 16/16 [00:12<00:00,  1.33it/s]\n"
          ],
          "name": "stderr"
        },
        {
          "output_type": "stream",
          "text": [
            "validate metric ...\n"
          ],
          "name": "stdout"
        },
        {
          "output_type": "stream",
          "text": [
            "\r  0%|          | 0/108 [00:00<?, ?it/s]"
          ],
          "name": "stderr"
        },
        {
          "output_type": "stream",
          "text": [
            "{\n",
            "    \"PHR_10\": 0.4451219512195122,\n",
            "    \"PHR_20\": 0.5782520325203252,\n",
            "    \"PHR_30\": 0.6209349593495935,\n",
            "    \"PHR_40\": 0.6646341463414634,\n",
            "    \"ndcg_10\": 0.13920864462852478,\n",
            "    \"ndcg_20\": 0.16336214542388916,\n",
            "    \"ndcg_30\": 0.17526377737522125,\n",
            "    \"ndcg_40\": 0.18294678628444672,\n",
            "    \"recall_10\": 0.15807496011257172,\n",
            "    \"recall_20\": 0.23002733290195465,\n",
            "    \"recall_30\": 0.26498812437057495,\n",
            "    \"recall_40\": 0.2903490662574768\n",
            "}\n",
            "model save as ../save_model_folder/TaFeng/DNNTSP/model_epoch_34.pkl\n"
          ],
          "name": "stdout"
        },
        {
          "output_type": "stream",
          "text": [
            "train epoch: 35, train loss: 0.007217657622984714: 100%|██████████| 108/108 [02:34<00:00,  1.43s/it]\n"
          ],
          "name": "stderr"
        },
        {
          "output_type": "stream",
          "text": [
            "train metric ...\n"
          ],
          "name": "stdout"
        },
        {
          "output_type": "stream",
          "text": [
            "\r  0%|          | 0/16 [00:00<?, ?it/s]"
          ],
          "name": "stderr"
        },
        {
          "output_type": "stream",
          "text": [
            "{\n",
            "    \"PHR_10\": 0.5246806039488966,\n",
            "    \"PHR_20\": 0.6270325203252033,\n",
            "    \"PHR_30\": 0.6736353077816493,\n",
            "    \"PHR_40\": 0.7044134727061556,\n",
            "    \"ndcg_10\": 0.17915205657482147,\n",
            "    \"ndcg_20\": 0.2014860361814499,\n",
            "    \"ndcg_30\": 0.21404105424880981,\n",
            "    \"ndcg_40\": 0.22224971652030945,\n",
            "    \"recall_10\": 0.20542624592781067,\n",
            "    \"recall_20\": 0.27700746059417725,\n",
            "    \"recall_30\": 0.3161623179912567,\n",
            "    \"recall_40\": 0.3424687087535858\n",
            "}\n"
          ],
          "name": "stdout"
        },
        {
          "output_type": "stream",
          "text": [
            "validate epoch: 35, validate loss: 0.00759763820678927: 100%|██████████| 16/16 [00:12<00:00,  1.32it/s]\n"
          ],
          "name": "stderr"
        },
        {
          "output_type": "stream",
          "text": [
            "validate metric ...\n"
          ],
          "name": "stdout"
        },
        {
          "output_type": "stream",
          "text": [
            "\r  0%|          | 0/108 [00:00<?, ?it/s]"
          ],
          "name": "stderr"
        },
        {
          "output_type": "stream",
          "text": [
            "{\n",
            "    \"PHR_10\": 0.44613821138211385,\n",
            "    \"PHR_20\": 0.5802845528455285,\n",
            "    \"PHR_30\": 0.6219512195121951,\n",
            "    \"PHR_40\": 0.6636178861788617,\n",
            "    \"ndcg_10\": 0.13893499970436096,\n",
            "    \"ndcg_20\": 0.16358569264411926,\n",
            "    \"ndcg_30\": 0.17520460486412048,\n",
            "    \"ndcg_40\": 0.18302151560783386,\n",
            "    \"recall_10\": 0.15772739052772522,\n",
            "    \"recall_20\": 0.23074911534786224,\n",
            "    \"recall_30\": 0.2650877833366394,\n",
            "    \"recall_40\": 0.29082736372947693\n",
            "}\n"
          ],
          "name": "stdout"
        },
        {
          "output_type": "stream",
          "text": [
            "train epoch: 36, train loss: 0.007210946059785783: 100%|██████████| 108/108 [02:36<00:00,  1.44s/it]\n"
          ],
          "name": "stderr"
        },
        {
          "output_type": "stream",
          "text": [
            "train metric ...\n"
          ],
          "name": "stdout"
        },
        {
          "output_type": "stream",
          "text": [
            "\r  0%|          | 0/16 [00:00<?, ?it/s]"
          ],
          "name": "stderr"
        },
        {
          "output_type": "stream",
          "text": [
            "{\n",
            "    \"PHR_10\": 0.5261324041811847,\n",
            "    \"PHR_20\": 0.6276132404181185,\n",
            "    \"PHR_30\": 0.6731997677119629,\n",
            "    \"PHR_40\": 0.7038327526132404,\n",
            "    \"ndcg_10\": 0.18018540740013123,\n",
            "    \"ndcg_20\": 0.2022436559200287,\n",
            "    \"ndcg_30\": 0.21456678211688995,\n",
            "    \"ndcg_40\": 0.2228507101535797,\n",
            "    \"recall_10\": 0.2064354121685028,\n",
            "    \"recall_20\": 0.27761825919151306,\n",
            "    \"recall_30\": 0.3161547780036926,\n",
            "    \"recall_40\": 0.34253814816474915\n",
            "}\n"
          ],
          "name": "stdout"
        },
        {
          "output_type": "stream",
          "text": [
            "validate epoch: 36, validate loss: 0.007606801751535386: 100%|██████████| 16/16 [00:12<00:00,  1.31it/s]\n"
          ],
          "name": "stderr"
        },
        {
          "output_type": "stream",
          "text": [
            "validate metric ...\n"
          ],
          "name": "stdout"
        },
        {
          "output_type": "stream",
          "text": [
            "\r  0%|          | 0/108 [00:00<?, ?it/s]"
          ],
          "name": "stderr"
        },
        {
          "output_type": "stream",
          "text": [
            "{\n",
            "    \"PHR_10\": 0.4451219512195122,\n",
            "    \"PHR_20\": 0.5802845528455285,\n",
            "    \"PHR_30\": 0.6199186991869918,\n",
            "    \"PHR_40\": 0.6636178861788617,\n",
            "    \"ndcg_10\": 0.1399984508752823,\n",
            "    \"ndcg_20\": 0.16469895839691162,\n",
            "    \"ndcg_30\": 0.17557789385318756,\n",
            "    \"ndcg_40\": 0.18341663479804993,\n",
            "    \"recall_10\": 0.15867750346660614,\n",
            "    \"recall_20\": 0.23252548277378082,\n",
            "    \"recall_30\": 0.2643865942955017,\n",
            "    \"recall_40\": 0.2897956371307373\n",
            "}\n",
            "model save as ../save_model_folder/TaFeng/DNNTSP/model_epoch_36.pkl\n"
          ],
          "name": "stdout"
        },
        {
          "output_type": "stream",
          "text": [
            "train epoch: 37, train loss: 0.0072066703707807595: 100%|██████████| 108/108 [02:36<00:00,  1.45s/it]\n"
          ],
          "name": "stderr"
        },
        {
          "output_type": "stream",
          "text": [
            "train metric ...\n"
          ],
          "name": "stdout"
        },
        {
          "output_type": "stream",
          "text": [
            "\r  0%|          | 0/16 [00:00<?, ?it/s]"
          ],
          "name": "stderr"
        },
        {
          "output_type": "stream",
          "text": [
            "{\n",
            "    \"PHR_10\": 0.5270034843205574,\n",
            "    \"PHR_20\": 0.6286295005807201,\n",
            "    \"PHR_30\": 0.674506387921022,\n",
            "    \"PHR_40\": 0.7041231126596981,\n",
            "    \"ndcg_10\": 0.18097759783267975,\n",
            "    \"ndcg_20\": 0.20285426080226898,\n",
            "    \"ndcg_30\": 0.2151595652103424,\n",
            "    \"ndcg_40\": 0.22339081764221191,\n",
            "    \"recall_10\": 0.2072056233882904,\n",
            "    \"recall_20\": 0.2780376374721527,\n",
            "    \"recall_30\": 0.316643089056015,\n",
            "    \"recall_40\": 0.3428449034690857\n",
            "}\n"
          ],
          "name": "stdout"
        },
        {
          "output_type": "stream",
          "text": [
            "validate epoch: 37, validate loss: 0.007602320722071454: 100%|██████████| 16/16 [00:12<00:00,  1.31it/s]\n"
          ],
          "name": "stderr"
        },
        {
          "output_type": "stream",
          "text": [
            "validate metric ...\n"
          ],
          "name": "stdout"
        },
        {
          "output_type": "stream",
          "text": [
            "\r  0%|          | 0/108 [00:00<?, ?it/s]"
          ],
          "name": "stderr"
        },
        {
          "output_type": "stream",
          "text": [
            "{\n",
            "    \"PHR_10\": 0.4532520325203252,\n",
            "    \"PHR_20\": 0.5772357723577236,\n",
            "    \"PHR_30\": 0.6219512195121951,\n",
            "    \"PHR_40\": 0.6636178861788617,\n",
            "    \"ndcg_10\": 0.14156898856163025,\n",
            "    \"ndcg_20\": 0.16465075314044952,\n",
            "    \"ndcg_30\": 0.1760895550251007,\n",
            "    \"ndcg_40\": 0.18392325937747955,\n",
            "    \"recall_10\": 0.16177798807621002,\n",
            "    \"recall_20\": 0.23148685693740845,\n",
            "    \"recall_30\": 0.26531895995140076,\n",
            "    \"recall_40\": 0.29085999727249146\n",
            "}\n",
            "model save as ../save_model_folder/TaFeng/DNNTSP/model_epoch_37.pkl\n"
          ],
          "name": "stdout"
        },
        {
          "output_type": "stream",
          "text": [
            "train epoch: 38, train loss: 0.007202086474367038: 100%|██████████| 108/108 [02:36<00:00,  1.45s/it]\n"
          ],
          "name": "stderr"
        },
        {
          "output_type": "stream",
          "text": [
            "train metric ...\n"
          ],
          "name": "stdout"
        },
        {
          "output_type": "stream",
          "text": [
            "\r  0%|          | 0/16 [00:00<?, ?it/s]"
          ],
          "name": "stderr"
        },
        {
          "output_type": "stream",
          "text": [
            "{\n",
            "    \"PHR_10\": 0.5267131242740999,\n",
            "    \"PHR_20\": 0.6290650406504065,\n",
            "    \"PHR_30\": 0.6739256678281068,\n",
            "    \"PHR_40\": 0.7044134727061556,\n",
            "    \"ndcg_10\": 0.1815100610256195,\n",
            "    \"ndcg_20\": 0.2033277302980423,\n",
            "    \"ndcg_30\": 0.21560260653495789,\n",
            "    \"ndcg_40\": 0.22386446595191956,\n",
            "    \"recall_10\": 0.20775316655635834,\n",
            "    \"recall_20\": 0.2784000337123871,\n",
            "    \"recall_30\": 0.31701624393463135,\n",
            "    \"recall_40\": 0.34338435530662537\n",
            "}\n"
          ],
          "name": "stdout"
        },
        {
          "output_type": "stream",
          "text": [
            "validate epoch: 38, validate loss: 0.0076077161356806755: 100%|██████████| 16/16 [00:12<00:00,  1.31it/s]\n"
          ],
          "name": "stderr"
        },
        {
          "output_type": "stream",
          "text": [
            "validate metric ...\n"
          ],
          "name": "stdout"
        },
        {
          "output_type": "stream",
          "text": [
            "\r  0%|          | 0/108 [00:00<?, ?it/s]"
          ],
          "name": "stderr"
        },
        {
          "output_type": "stream",
          "text": [
            "{\n",
            "    \"PHR_10\": 0.4502032520325203,\n",
            "    \"PHR_20\": 0.5813008130081301,\n",
            "    \"PHR_30\": 0.6219512195121951,\n",
            "    \"PHR_40\": 0.6626016260162602,\n",
            "    \"ndcg_10\": 0.14095212519168854,\n",
            "    \"ndcg_20\": 0.16504783928394318,\n",
            "    \"ndcg_30\": 0.17597410082817078,\n",
            "    \"ndcg_40\": 0.18374003469944,\n",
            "    \"recall_10\": 0.16004270315170288,\n",
            "    \"recall_20\": 0.23259450495243073,\n",
            "    \"recall_30\": 0.26509952545166016,\n",
            "    \"recall_40\": 0.289843887090683\n",
            "}\n"
          ],
          "name": "stdout"
        },
        {
          "output_type": "stream",
          "text": [
            "train epoch: 39, train loss: 0.007198274782341387: 100%|██████████| 108/108 [02:36<00:00,  1.45s/it]\n"
          ],
          "name": "stderr"
        },
        {
          "output_type": "stream",
          "text": [
            "train metric ...\n"
          ],
          "name": "stdout"
        },
        {
          "output_type": "stream",
          "text": [
            "\r  0%|          | 0/16 [00:00<?, ?it/s]"
          ],
          "name": "stderr"
        },
        {
          "output_type": "stream",
          "text": [
            "{\n",
            "    \"PHR_10\": 0.528164924506388,\n",
            "    \"PHR_20\": 0.6292102206736353,\n",
            "    \"PHR_30\": 0.6747967479674797,\n",
            "    \"PHR_40\": 0.7042682926829268,\n",
            "    \"ndcg_10\": 0.18223066627979279,\n",
            "    \"ndcg_20\": 0.20375438034534454,\n",
            "    \"ndcg_30\": 0.21603471040725708,\n",
            "    \"ndcg_40\": 0.22425898909568787,\n",
            "    \"recall_10\": 0.20877611637115479,\n",
            "    \"recall_20\": 0.27866291999816895,\n",
            "    \"recall_30\": 0.31732678413391113,\n",
            "    \"recall_40\": 0.3435634672641754\n",
            "}\n"
          ],
          "name": "stdout"
        },
        {
          "output_type": "stream",
          "text": [
            "validate epoch: 39, validate loss: 0.007608413841808215: 100%|██████████| 16/16 [00:12<00:00,  1.31it/s]\n"
          ],
          "name": "stderr"
        },
        {
          "output_type": "stream",
          "text": [
            "validate metric ...\n"
          ],
          "name": "stdout"
        },
        {
          "output_type": "stream",
          "text": [
            "\r  0%|          | 0/108 [00:00<?, ?it/s]"
          ],
          "name": "stderr"
        },
        {
          "output_type": "stream",
          "text": [
            "{\n",
            "    \"PHR_10\": 0.4502032520325203,\n",
            "    \"PHR_20\": 0.5782520325203252,\n",
            "    \"PHR_30\": 0.6229674796747967,\n",
            "    \"PHR_40\": 0.6626016260162602,\n",
            "    \"ndcg_10\": 0.14177264273166656,\n",
            "    \"ndcg_20\": 0.16541089117527008,\n",
            "    \"ndcg_30\": 0.1767718344926834,\n",
            "    \"ndcg_40\": 0.18464471399784088,\n",
            "    \"recall_10\": 0.1600857526063919,\n",
            "    \"recall_20\": 0.2313394993543625,\n",
            "    \"recall_30\": 0.26532378792762756,\n",
            "    \"recall_40\": 0.29035040736198425\n",
            "}\n",
            "model save as ../save_model_folder/TaFeng/DNNTSP/model_epoch_39.pkl\n"
          ],
          "name": "stdout"
        },
        {
          "output_type": "stream",
          "text": [
            "train epoch: 40, train loss: 0.00719456625153759: 100%|██████████| 108/108 [02:36<00:00,  1.45s/it]\n"
          ],
          "name": "stderr"
        },
        {
          "output_type": "stream",
          "text": [
            "train metric ...\n"
          ],
          "name": "stdout"
        },
        {
          "output_type": "stream",
          "text": [
            "\r  0%|          | 0/16 [00:00<?, ?it/s]"
          ],
          "name": "stderr"
        },
        {
          "output_type": "stream",
          "text": [
            "{\n",
            "    \"PHR_10\": 0.5306329849012776,\n",
            "    \"PHR_20\": 0.6303716608594657,\n",
            "    \"PHR_30\": 0.6752322880371661,\n",
            "    \"PHR_40\": 0.7049941927990708,\n",
            "    \"ndcg_10\": 0.18340617418289185,\n",
            "    \"ndcg_20\": 0.20464405417442322,\n",
            "    \"ndcg_30\": 0.21682778000831604,\n",
            "    \"ndcg_40\": 0.2251085788011551,\n",
            "    \"recall_10\": 0.21004553139209747,\n",
            "    \"recall_20\": 0.27918994426727295,\n",
            "    \"recall_30\": 0.3174692690372467,\n",
            "    \"recall_40\": 0.34394747018814087\n",
            "}\n"
          ],
          "name": "stdout"
        },
        {
          "output_type": "stream",
          "text": [
            "validate epoch: 40, validate loss: 0.007599559525260702: 100%|██████████| 16/16 [00:12<00:00,  1.31it/s]\n"
          ],
          "name": "stderr"
        },
        {
          "output_type": "stream",
          "text": [
            "validate metric ...\n"
          ],
          "name": "stdout"
        },
        {
          "output_type": "stream",
          "text": [
            "\r  0%|          | 0/108 [00:00<?, ?it/s]"
          ],
          "name": "stderr"
        },
        {
          "output_type": "stream",
          "text": [
            "{\n",
            "    \"PHR_10\": 0.44715447154471544,\n",
            "    \"PHR_20\": 0.5782520325203252,\n",
            "    \"PHR_30\": 0.6219512195121951,\n",
            "    \"PHR_40\": 0.6646341463414634,\n",
            "    \"ndcg_10\": 0.1417923867702484,\n",
            "    \"ndcg_20\": 0.1655224859714508,\n",
            "    \"ndcg_30\": 0.17663869261741638,\n",
            "    \"ndcg_40\": 0.18482600152492523,\n",
            "    \"recall_10\": 0.1614256352186203,\n",
            "    \"recall_20\": 0.2320280224084854,\n",
            "    \"recall_30\": 0.2653299868106842,\n",
            "    \"recall_40\": 0.29220128059387207\n",
            "}\n",
            "model save as ../save_model_folder/TaFeng/DNNTSP/model_epoch_40.pkl\n"
          ],
          "name": "stdout"
        },
        {
          "output_type": "stream",
          "text": [
            "train epoch: 41, train loss: 0.007191596281093855: 100%|██████████| 108/108 [02:37<00:00,  1.45s/it]\n"
          ],
          "name": "stderr"
        },
        {
          "output_type": "stream",
          "text": [
            "train metric ...\n"
          ],
          "name": "stdout"
        },
        {
          "output_type": "stream",
          "text": [
            "\r  0%|          | 0/16 [00:00<?, ?it/s]"
          ],
          "name": "stderr"
        },
        {
          "output_type": "stream",
          "text": [
            "{\n",
            "    \"PHR_10\": 0.5316492450638792,\n",
            "    \"PHR_20\": 0.6289198606271778,\n",
            "    \"PHR_30\": 0.6743612078977933,\n",
            "    \"PHR_40\": 0.7042682926829268,\n",
            "    \"ndcg_10\": 0.18327686190605164,\n",
            "    \"ndcg_20\": 0.20410172641277313,\n",
            "    \"ndcg_30\": 0.2165558785200119,\n",
            "    \"ndcg_40\": 0.22469156980514526,\n",
            "    \"recall_10\": 0.21038088202476501,\n",
            "    \"recall_20\": 0.27846601605415344,\n",
            "    \"recall_30\": 0.3175133466720581,\n",
            "    \"recall_40\": 0.3435996174812317\n",
            "}\n"
          ],
          "name": "stdout"
        },
        {
          "output_type": "stream",
          "text": [
            "validate epoch: 41, validate loss: 0.007636689057108015: 100%|██████████| 16/16 [00:12<00:00,  1.31it/s]\n"
          ],
          "name": "stderr"
        },
        {
          "output_type": "stream",
          "text": [
            "validate metric ...\n"
          ],
          "name": "stdout"
        },
        {
          "output_type": "stream",
          "text": [
            "\r  0%|          | 0/108 [00:00<?, ?it/s]"
          ],
          "name": "stderr"
        },
        {
          "output_type": "stream",
          "text": [
            "{\n",
            "    \"PHR_10\": 0.4491869918699187,\n",
            "    \"PHR_20\": 0.573170731707317,\n",
            "    \"PHR_30\": 0.6209349593495935,\n",
            "    \"PHR_40\": 0.6615853658536586,\n",
            "    \"ndcg_10\": 0.1425004005432129,\n",
            "    \"ndcg_20\": 0.1649790108203888,\n",
            "    \"ndcg_30\": 0.1765202432870865,\n",
            "    \"ndcg_40\": 0.18424546718597412,\n",
            "    \"recall_10\": 0.16211353242397308,\n",
            "    \"recall_20\": 0.23043452203273773,\n",
            "    \"recall_30\": 0.26443296670913696,\n",
            "    \"recall_40\": 0.2891256511211395\n",
            "}\n"
          ],
          "name": "stdout"
        },
        {
          "output_type": "stream",
          "text": [
            "train epoch: 42, train loss: 0.00719161279482284: 100%|██████████| 108/108 [02:36<00:00,  1.45s/it]\n"
          ],
          "name": "stderr"
        },
        {
          "output_type": "stream",
          "text": [
            "train metric ...\n"
          ],
          "name": "stdout"
        },
        {
          "output_type": "stream",
          "text": [
            "\r  0%|          | 0/16 [00:00<?, ?it/s]"
          ],
          "name": "stderr"
        },
        {
          "output_type": "stream",
          "text": [
            "{\n",
            "    \"PHR_10\": 0.5320847851335656,\n",
            "    \"PHR_20\": 0.629500580720093,\n",
            "    \"PHR_30\": 0.6737804878048781,\n",
            "    \"PHR_40\": 0.7041231126596981,\n",
            "    \"ndcg_10\": 0.1839141845703125,\n",
            "    \"ndcg_20\": 0.20460881292819977,\n",
            "    \"ndcg_30\": 0.21699723601341248,\n",
            "    \"ndcg_40\": 0.22532084584236145,\n",
            "    \"recall_10\": 0.21066750586032867,\n",
            "    \"recall_20\": 0.27822965383529663,\n",
            "    \"recall_30\": 0.3172008991241455,\n",
            "    \"recall_40\": 0.34379738569259644\n",
            "}\n"
          ],
          "name": "stdout"
        },
        {
          "output_type": "stream",
          "text": [
            "validate epoch: 42, validate loss: 0.007628362072864547: 100%|██████████| 16/16 [00:12<00:00,  1.29it/s]\n"
          ],
          "name": "stderr"
        },
        {
          "output_type": "stream",
          "text": [
            "validate metric ...\n"
          ],
          "name": "stdout"
        },
        {
          "output_type": "stream",
          "text": [
            "\r  0%|          | 0/108 [00:00<?, ?it/s]"
          ],
          "name": "stderr"
        },
        {
          "output_type": "stream",
          "text": [
            "{\n",
            "    \"PHR_10\": 0.4502032520325203,\n",
            "    \"PHR_20\": 0.5752032520325203,\n",
            "    \"PHR_30\": 0.6229674796747967,\n",
            "    \"PHR_40\": 0.6605691056910569,\n",
            "    \"ndcg_10\": 0.14286382496356964,\n",
            "    \"ndcg_20\": 0.16533146798610687,\n",
            "    \"ndcg_30\": 0.17726217210292816,\n",
            "    \"ndcg_40\": 0.18461231887340546,\n",
            "    \"recall_10\": 0.16236776113510132,\n",
            "    \"recall_20\": 0.23040233552455902,\n",
            "    \"recall_30\": 0.2658601403236389,\n",
            "    \"recall_40\": 0.28901439905166626\n",
            "}\n",
            "model save as ../save_model_folder/TaFeng/DNNTSP/model_epoch_42.pkl\n"
          ],
          "name": "stdout"
        },
        {
          "output_type": "stream",
          "text": [
            "train epoch: 43, train loss: 0.007188423165913533: 100%|██████████| 108/108 [02:36<00:00,  1.45s/it]\n"
          ],
          "name": "stderr"
        },
        {
          "output_type": "stream",
          "text": [
            "train metric ...\n"
          ],
          "name": "stdout"
        },
        {
          "output_type": "stream",
          "text": [
            "\r  0%|          | 0/16 [00:00<?, ?it/s]"
          ],
          "name": "stderr"
        },
        {
          "output_type": "stream",
          "text": [
            "{\n",
            "    \"PHR_10\": 0.5328106852497096,\n",
            "    \"PHR_20\": 0.6299361207897793,\n",
            "    \"PHR_30\": 0.6746515679442509,\n",
            "    \"PHR_40\": 0.7039779326364692,\n",
            "    \"ndcg_10\": 0.18466942012310028,\n",
            "    \"ndcg_20\": 0.20524898171424866,\n",
            "    \"ndcg_30\": 0.21775220334529877,\n",
            "    \"ndcg_40\": 0.2258090078830719,\n",
            "    \"recall_10\": 0.21110953390598297,\n",
            "    \"recall_20\": 0.27884435653686523,\n",
            "    \"recall_30\": 0.3183142840862274,\n",
            "    \"recall_40\": 0.34394457936286926\n",
            "}\n"
          ],
          "name": "stdout"
        },
        {
          "output_type": "stream",
          "text": [
            "validate epoch: 43, validate loss: 0.007614552800077945: 100%|██████████| 16/16 [00:12<00:00,  1.32it/s]\n"
          ],
          "name": "stderr"
        },
        {
          "output_type": "stream",
          "text": [
            "validate metric ...\n"
          ],
          "name": "stdout"
        },
        {
          "output_type": "stream",
          "text": [
            "\r  0%|          | 0/108 [00:00<?, ?it/s]"
          ],
          "name": "stderr"
        },
        {
          "output_type": "stream",
          "text": [
            "{\n",
            "    \"PHR_10\": 0.45426829268292684,\n",
            "    \"PHR_20\": 0.5772357723577236,\n",
            "    \"PHR_30\": 0.6239837398373984,\n",
            "    \"PHR_40\": 0.6605691056910569,\n",
            "    \"ndcg_10\": 0.14350876212120056,\n",
            "    \"ndcg_20\": 0.16572149097919464,\n",
            "    \"ndcg_30\": 0.177656352519989,\n",
            "    \"ndcg_40\": 0.18479740619659424,\n",
            "    \"recall_10\": 0.16349782049655914,\n",
            "    \"recall_20\": 0.23099476099014282,\n",
            "    \"recall_30\": 0.2665903866291046,\n",
            "    \"recall_40\": 0.28951355814933777\n",
            "}\n",
            "model save as ../save_model_folder/TaFeng/DNNTSP/model_epoch_43.pkl\n"
          ],
          "name": "stdout"
        },
        {
          "output_type": "stream",
          "text": [
            "train epoch: 44, train loss: 0.007184977052491848: 100%|██████████| 108/108 [02:36<00:00,  1.45s/it]\n"
          ],
          "name": "stderr"
        },
        {
          "output_type": "stream",
          "text": [
            "train metric ...\n"
          ],
          "name": "stdout"
        },
        {
          "output_type": "stream",
          "text": [
            "\r  0%|          | 0/16 [00:00<?, ?it/s]"
          ],
          "name": "stderr"
        },
        {
          "output_type": "stream",
          "text": [
            "{\n",
            "    \"PHR_10\": 0.5313588850174216,\n",
            "    \"PHR_20\": 0.6318234610917538,\n",
            "    \"PHR_30\": 0.6753774680603949,\n",
            "    \"PHR_40\": 0.7047038327526133,\n",
            "    \"ndcg_10\": 0.18504765629768372,\n",
            "    \"ndcg_20\": 0.20611785352230072,\n",
            "    \"ndcg_30\": 0.21822448074817657,\n",
            "    \"ndcg_40\": 0.226348415017128,\n",
            "    \"recall_10\": 0.21082162857055664,\n",
            "    \"recall_20\": 0.28010573983192444,\n",
            "    \"recall_30\": 0.31808263063430786,\n",
            "    \"recall_40\": 0.34410345554351807\n",
            "}\n"
          ],
          "name": "stdout"
        },
        {
          "output_type": "stream",
          "text": [
            "validate epoch: 44, validate loss: 0.007607623178046197: 100%|██████████| 16/16 [00:12<00:00,  1.30it/s]\n"
          ],
          "name": "stderr"
        },
        {
          "output_type": "stream",
          "text": [
            "validate metric ...\n"
          ],
          "name": "stdout"
        },
        {
          "output_type": "stream",
          "text": [
            "\r  0%|          | 0/108 [00:00<?, ?it/s]"
          ],
          "name": "stderr"
        },
        {
          "output_type": "stream",
          "text": [
            "{\n",
            "    \"PHR_10\": 0.4481707317073171,\n",
            "    \"PHR_20\": 0.5752032520325203,\n",
            "    \"PHR_30\": 0.6229674796747967,\n",
            "    \"PHR_40\": 0.6605691056910569,\n",
            "    \"ndcg_10\": 0.14362740516662598,\n",
            "    \"ndcg_20\": 0.16585007309913635,\n",
            "    \"ndcg_30\": 0.17755043506622314,\n",
            "    \"ndcg_40\": 0.1849619746208191,\n",
            "    \"recall_10\": 0.16290214657783508,\n",
            "    \"recall_20\": 0.2306216061115265,\n",
            "    \"recall_30\": 0.2655401825904846,\n",
            "    \"recall_40\": 0.28932976722717285\n",
            "}\n",
            "model save as ../save_model_folder/TaFeng/DNNTSP/model_epoch_44.pkl\n"
          ],
          "name": "stdout"
        },
        {
          "output_type": "stream",
          "text": [
            "train epoch: 45, train loss: 0.007179858615725405: 100%|██████████| 108/108 [02:35<00:00,  1.44s/it]\n"
          ],
          "name": "stderr"
        },
        {
          "output_type": "stream",
          "text": [
            "train metric ...\n"
          ],
          "name": "stdout"
        },
        {
          "output_type": "stream",
          "text": [
            "\r  0%|          | 0/16 [00:00<?, ?it/s]"
          ],
          "name": "stderr"
        },
        {
          "output_type": "stream",
          "text": [
            "{\n",
            "    \"PHR_10\": 0.5345528455284553,\n",
            "    \"PHR_20\": 0.6321138211382114,\n",
            "    \"PHR_30\": 0.6755226480836237,\n",
            "    \"PHR_40\": 0.704849012775842,\n",
            "    \"ndcg_10\": 0.18618184328079224,\n",
            "    \"ndcg_20\": 0.2067263275384903,\n",
            "    \"ndcg_30\": 0.21884359419345856,\n",
            "    \"ndcg_40\": 0.22683605551719666,\n",
            "    \"recall_10\": 0.21260841190814972,\n",
            "    \"recall_20\": 0.28055617213249207,\n",
            "    \"recall_30\": 0.31859514117240906,\n",
            "    \"recall_40\": 0.34423625469207764\n",
            "}\n"
          ],
          "name": "stdout"
        },
        {
          "output_type": "stream",
          "text": [
            "validate epoch: 45, validate loss: 0.007627196318935603: 100%|██████████| 16/16 [00:12<00:00,  1.31it/s]\n"
          ],
          "name": "stderr"
        },
        {
          "output_type": "stream",
          "text": [
            "validate metric ...\n"
          ],
          "name": "stdout"
        },
        {
          "output_type": "stream",
          "text": [
            "\r  0%|          | 0/108 [00:00<?, ?it/s]"
          ],
          "name": "stderr"
        },
        {
          "output_type": "stream",
          "text": [
            "{\n",
            "    \"PHR_10\": 0.45223577235772355,\n",
            "    \"PHR_20\": 0.5741869918699187,\n",
            "    \"PHR_30\": 0.6260162601626016,\n",
            "    \"PHR_40\": 0.6565040650406504,\n",
            "    \"ndcg_10\": 0.14480993151664734,\n",
            "    \"ndcg_20\": 0.16623756289482117,\n",
            "    \"ndcg_30\": 0.17823629081249237,\n",
            "    \"ndcg_40\": 0.1850128173828125,\n",
            "    \"recall_10\": 0.16526147723197937,\n",
            "    \"recall_20\": 0.23056864738464355,\n",
            "    \"recall_30\": 0.26692402362823486,\n",
            "    \"recall_40\": 0.28777408599853516\n",
            "}\n",
            "model save as ../save_model_folder/TaFeng/DNNTSP/model_epoch_45.pkl\n"
          ],
          "name": "stdout"
        },
        {
          "output_type": "stream",
          "text": [
            "train epoch: 46, train loss: 0.007177057602718749: 100%|██████████| 108/108 [02:36<00:00,  1.44s/it]\n"
          ],
          "name": "stderr"
        },
        {
          "output_type": "stream",
          "text": [
            "train metric ...\n"
          ],
          "name": "stdout"
        },
        {
          "output_type": "stream",
          "text": [
            "\r  0%|          | 0/16 [00:00<?, ?it/s]"
          ],
          "name": "stderr"
        },
        {
          "output_type": "stream",
          "text": [
            "{\n",
            "    \"PHR_10\": 0.5367305458768873,\n",
            "    \"PHR_20\": 0.6321138211382114,\n",
            "    \"PHR_30\": 0.6753774680603949,\n",
            "    \"PHR_40\": 0.7044134727061556,\n",
            "    \"ndcg_10\": 0.18733783066272736,\n",
            "    \"ndcg_20\": 0.20724305510520935,\n",
            "    \"ndcg_30\": 0.21936118602752686,\n",
            "    \"ndcg_40\": 0.227353036403656,\n",
            "    \"recall_10\": 0.2141304314136505,\n",
            "    \"recall_20\": 0.2803128957748413,\n",
            "    \"recall_30\": 0.3185316026210785,\n",
            "    \"recall_40\": 0.3442743718624115\n",
            "}\n"
          ],
          "name": "stdout"
        },
        {
          "output_type": "stream",
          "text": [
            "validate epoch: 46, validate loss: 0.00762091702199541: 100%|██████████| 16/16 [00:12<00:00,  1.30it/s]\n"
          ],
          "name": "stderr"
        },
        {
          "output_type": "stream",
          "text": [
            "validate metric ...\n"
          ],
          "name": "stdout"
        },
        {
          "output_type": "stream",
          "text": [
            "\r  0%|          | 0/108 [00:00<?, ?it/s]"
          ],
          "name": "stderr"
        },
        {
          "output_type": "stream",
          "text": [
            "{\n",
            "    \"PHR_10\": 0.4502032520325203,\n",
            "    \"PHR_20\": 0.5752032520325203,\n",
            "    \"PHR_30\": 0.6229674796747967,\n",
            "    \"PHR_40\": 0.6565040650406504,\n",
            "    \"ndcg_10\": 0.14488552510738373,\n",
            "    \"ndcg_20\": 0.1670098453760147,\n",
            "    \"ndcg_30\": 0.1786508858203888,\n",
            "    \"ndcg_40\": 0.1854565441608429,\n",
            "    \"recall_10\": 0.16338442265987396,\n",
            "    \"recall_20\": 0.23094263672828674,\n",
            "    \"recall_30\": 0.2663300037384033,\n",
            "    \"recall_40\": 0.28747260570526123\n",
            "}\n",
            "model save as ../save_model_folder/TaFeng/DNNTSP/model_epoch_46.pkl\n"
          ],
          "name": "stdout"
        },
        {
          "output_type": "stream",
          "text": [
            "train epoch: 47, train loss: 0.007173490710556507: 100%|██████████| 108/108 [02:35<00:00,  1.44s/it]\n"
          ],
          "name": "stderr"
        },
        {
          "output_type": "stream",
          "text": [
            "train metric ...\n"
          ],
          "name": "stdout"
        },
        {
          "output_type": "stream",
          "text": [
            "\r  0%|          | 0/16 [00:00<?, ?it/s]"
          ],
          "name": "stderr"
        },
        {
          "output_type": "stream",
          "text": [
            "{\n",
            "    \"PHR_10\": 0.5396341463414634,\n",
            "    \"PHR_20\": 0.6321138211382114,\n",
            "    \"PHR_30\": 0.6758130081300813,\n",
            "    \"PHR_40\": 0.7049941927990708,\n",
            "    \"ndcg_10\": 0.18892139196395874,\n",
            "    \"ndcg_20\": 0.20861919224262238,\n",
            "    \"ndcg_30\": 0.22056029736995697,\n",
            "    \"ndcg_40\": 0.22865191102027893,\n",
            "    \"recall_10\": 0.2152559906244278,\n",
            "    \"recall_20\": 0.2812240421772003,\n",
            "    \"recall_30\": 0.318808913230896,\n",
            "    \"recall_40\": 0.34490421414375305\n",
            "}\n"
          ],
          "name": "stdout"
        },
        {
          "output_type": "stream",
          "text": [
            "validate epoch: 47, validate loss: 0.007618447707500309: 100%|██████████| 16/16 [00:12<00:00,  1.32it/s]\n"
          ],
          "name": "stderr"
        },
        {
          "output_type": "stream",
          "text": [
            "validate metric ...\n"
          ],
          "name": "stdout"
        },
        {
          "output_type": "stream",
          "text": [
            "\r  0%|          | 0/108 [00:00<?, ?it/s]"
          ],
          "name": "stderr"
        },
        {
          "output_type": "stream",
          "text": [
            "{\n",
            "    \"PHR_10\": 0.45121951219512196,\n",
            "    \"PHR_20\": 0.5752032520325203,\n",
            "    \"PHR_30\": 0.6219512195121951,\n",
            "    \"PHR_40\": 0.6585365853658537,\n",
            "    \"ndcg_10\": 0.14595139026641846,\n",
            "    \"ndcg_20\": 0.16805391013622284,\n",
            "    \"ndcg_30\": 0.17944766581058502,\n",
            "    \"ndcg_40\": 0.18695683777332306,\n",
            "    \"recall_10\": 0.162765234708786,\n",
            "    \"recall_20\": 0.23085914552211761,\n",
            "    \"recall_30\": 0.26494666934013367,\n",
            "    \"recall_40\": 0.28917446732521057\n",
            "}\n",
            "model save as ../save_model_folder/TaFeng/DNNTSP/model_epoch_47.pkl\n"
          ],
          "name": "stdout"
        },
        {
          "output_type": "stream",
          "text": [
            "train epoch: 48, train loss: 0.007171736793006184: 100%|██████████| 108/108 [02:35<00:00,  1.44s/it]\n"
          ],
          "name": "stderr"
        },
        {
          "output_type": "stream",
          "text": [
            "train metric ...\n"
          ],
          "name": "stdout"
        },
        {
          "output_type": "stream",
          "text": [
            "\r  0%|          | 0/16 [00:00<?, ?it/s]"
          ],
          "name": "stderr"
        },
        {
          "output_type": "stream",
          "text": [
            "{\n",
            "    \"PHR_10\": 0.5396341463414634,\n",
            "    \"PHR_20\": 0.633130081300813,\n",
            "    \"PHR_30\": 0.6756678281068524,\n",
            "    \"PHR_40\": 0.7052845528455285,\n",
            "    \"ndcg_10\": 0.18934890627861023,\n",
            "    \"ndcg_20\": 0.20934531092643738,\n",
            "    \"ndcg_30\": 0.22108982503414154,\n",
            "    \"ndcg_40\": 0.22920797765254974,\n",
            "    \"recall_10\": 0.2153022438287735,\n",
            "    \"recall_20\": 0.28201332688331604,\n",
            "    \"recall_30\": 0.3188088536262512,\n",
            "    \"recall_40\": 0.34497225284576416\n",
            "}\n"
          ],
          "name": "stdout"
        },
        {
          "output_type": "stream",
          "text": [
            "validate epoch: 48, validate loss: 0.007625583850312978: 100%|██████████| 16/16 [00:12<00:00,  1.32it/s]\n"
          ],
          "name": "stderr"
        },
        {
          "output_type": "stream",
          "text": [
            "validate metric ...\n"
          ],
          "name": "stdout"
        },
        {
          "output_type": "stream",
          "text": [
            "\r  0%|          | 0/108 [00:00<?, ?it/s]"
          ],
          "name": "stderr"
        },
        {
          "output_type": "stream",
          "text": [
            "{\n",
            "    \"PHR_10\": 0.4502032520325203,\n",
            "    \"PHR_20\": 0.5752032520325203,\n",
            "    \"PHR_30\": 0.6209349593495935,\n",
            "    \"PHR_40\": 0.6595528455284553,\n",
            "    \"ndcg_10\": 0.1460210382938385,\n",
            "    \"ndcg_20\": 0.16796071827411652,\n",
            "    \"ndcg_30\": 0.1796490103006363,\n",
            "    \"ndcg_40\": 0.187034472823143,\n",
            "    \"recall_10\": 0.16340526938438416,\n",
            "    \"recall_20\": 0.22999390959739685,\n",
            "    \"recall_30\": 0.26567959785461426,\n",
            "    \"recall_40\": 0.28937065601348877\n",
            "}\n",
            "model save as ../save_model_folder/TaFeng/DNNTSP/model_epoch_48.pkl\n"
          ],
          "name": "stdout"
        },
        {
          "output_type": "stream",
          "text": [
            "train epoch: 49, train loss: 0.007167825376166514: 100%|██████████| 108/108 [02:35<00:00,  1.44s/it]\n"
          ],
          "name": "stderr"
        },
        {
          "output_type": "stream",
          "text": [
            "train metric ...\n"
          ],
          "name": "stdout"
        },
        {
          "output_type": "stream",
          "text": [
            "\r  0%|          | 0/16 [00:00<?, ?it/s]"
          ],
          "name": "stderr"
        },
        {
          "output_type": "stream",
          "text": [
            "{\n",
            "    \"PHR_10\": 0.5407955865272939,\n",
            "    \"PHR_20\": 0.632404181184669,\n",
            "    \"PHR_30\": 0.6774099883855982,\n",
            "    \"PHR_40\": 0.704849012775842,\n",
            "    \"ndcg_10\": 0.1905878782272339,\n",
            "    \"ndcg_20\": 0.2102648764848709,\n",
            "    \"ndcg_30\": 0.222255140542984,\n",
            "    \"ndcg_40\": 0.23009911179542542,\n",
            "    \"recall_10\": 0.21585160493850708,\n",
            "    \"recall_20\": 0.2820409834384918,\n",
            "    \"recall_30\": 0.3197840750217438,\n",
            "    \"recall_40\": 0.3449307084083557\n",
            "}\n"
          ],
          "name": "stdout"
        },
        {
          "output_type": "stream",
          "text": [
            "validate epoch: 49, validate loss: 0.007614627596922219: 100%|██████████| 16/16 [00:12<00:00,  1.31it/s]\n"
          ],
          "name": "stderr"
        },
        {
          "output_type": "stream",
          "text": [
            "validate metric ...\n"
          ],
          "name": "stdout"
        },
        {
          "output_type": "stream",
          "text": [
            "\r  0%|          | 0/108 [00:00<?, ?it/s]"
          ],
          "name": "stderr"
        },
        {
          "output_type": "stream",
          "text": [
            "{\n",
            "    \"PHR_10\": 0.4481707317073171,\n",
            "    \"PHR_20\": 0.5752032520325203,\n",
            "    \"PHR_30\": 0.6219512195121951,\n",
            "    \"PHR_40\": 0.6585365853658537,\n",
            "    \"ndcg_10\": 0.14602309465408325,\n",
            "    \"ndcg_20\": 0.16827663779258728,\n",
            "    \"ndcg_30\": 0.17951999604701996,\n",
            "    \"ndcg_40\": 0.1869153380393982,\n",
            "    \"recall_10\": 0.1647774577140808,\n",
            "    \"recall_20\": 0.23129098117351532,\n",
            "    \"recall_30\": 0.26544663310050964,\n",
            "    \"recall_40\": 0.2887672185897827\n",
            "}\n",
            "model save as ../save_model_folder/TaFeng/DNNTSP/model_epoch_49.pkl\n"
          ],
          "name": "stdout"
        },
        {
          "output_type": "stream",
          "text": [
            "train epoch: 50, train loss: 0.0071651104027060444: 100%|██████████| 108/108 [02:36<00:00,  1.44s/it]\n"
          ],
          "name": "stderr"
        },
        {
          "output_type": "stream",
          "text": [
            "train metric ...\n"
          ],
          "name": "stdout"
        },
        {
          "output_type": "stream",
          "text": [
            "\r  0%|          | 0/16 [00:00<?, ?it/s]"
          ],
          "name": "stderr"
        },
        {
          "output_type": "stream",
          "text": [
            "{\n",
            "    \"PHR_10\": 0.5397793263646922,\n",
            "    \"PHR_20\": 0.633130081300813,\n",
            "    \"PHR_30\": 0.6771196283391405,\n",
            "    \"PHR_40\": 0.7054297328687572,\n",
            "    \"ndcg_10\": 0.19056452810764313,\n",
            "    \"ndcg_20\": 0.2103123962879181,\n",
            "    \"ndcg_30\": 0.22232891619205475,\n",
            "    \"ndcg_40\": 0.2301136553287506,\n",
            "    \"recall_10\": 0.21588674187660217,\n",
            "    \"recall_20\": 0.2820124328136444,\n",
            "    \"recall_30\": 0.31990543007850647,\n",
            "    \"recall_40\": 0.3448387682437897\n",
            "}\n"
          ],
          "name": "stdout"
        },
        {
          "output_type": "stream",
          "text": [
            "validate epoch: 50, validate loss: 0.007620742922881618: 100%|██████████| 16/16 [00:12<00:00,  1.33it/s]\n"
          ],
          "name": "stderr"
        },
        {
          "output_type": "stream",
          "text": [
            "validate metric ...\n"
          ],
          "name": "stdout"
        },
        {
          "output_type": "stream",
          "text": [
            "\r  0%|          | 0/108 [00:00<?, ?it/s]"
          ],
          "name": "stderr"
        },
        {
          "output_type": "stream",
          "text": [
            "{\n",
            "    \"PHR_10\": 0.4532520325203252,\n",
            "    \"PHR_20\": 0.5721544715447154,\n",
            "    \"PHR_30\": 0.6209349593495935,\n",
            "    \"PHR_40\": 0.657520325203252,\n",
            "    \"ndcg_10\": 0.14639389514923096,\n",
            "    \"ndcg_20\": 0.16752712428569794,\n",
            "    \"ndcg_30\": 0.1790018230676651,\n",
            "    \"ndcg_40\": 0.18659798800945282,\n",
            "    \"recall_10\": 0.1659676730632782,\n",
            "    \"recall_20\": 0.22948838770389557,\n",
            "    \"recall_30\": 0.2636692225933075,\n",
            "    \"recall_40\": 0.28838661313056946\n",
            "}\n"
          ],
          "name": "stdout"
        },
        {
          "output_type": "stream",
          "text": [
            "train epoch: 51, train loss: 0.007162249621210827: 100%|██████████| 108/108 [02:36<00:00,  1.45s/it]\n"
          ],
          "name": "stderr"
        },
        {
          "output_type": "stream",
          "text": [
            "train metric ...\n"
          ],
          "name": "stdout"
        },
        {
          "output_type": "stream",
          "text": [
            "\r  0%|          | 0/16 [00:00<?, ?it/s]"
          ],
          "name": "stderr"
        },
        {
          "output_type": "stream",
          "text": [
            "{\n",
            "    \"PHR_10\": 0.5393437862950058,\n",
            "    \"PHR_20\": 0.634581881533101,\n",
            "    \"PHR_30\": 0.6777003484320557,\n",
            "    \"PHR_40\": 0.7058652729384437,\n",
            "    \"ndcg_10\": 0.19101811945438385,\n",
            "    \"ndcg_20\": 0.21105347573757172,\n",
            "    \"ndcg_30\": 0.22282905876636505,\n",
            "    \"ndcg_40\": 0.23066627979278564,\n",
            "    \"recall_10\": 0.2156556397676468,\n",
            "    \"recall_20\": 0.28302305936813354,\n",
            "    \"recall_30\": 0.320097953081131,\n",
            "    \"recall_40\": 0.3451360762119293\n",
            "}\n"
          ],
          "name": "stdout"
        },
        {
          "output_type": "stream",
          "text": [
            "validate epoch: 51, validate loss: 0.007625953759998083: 100%|██████████| 16/16 [00:11<00:00,  1.33it/s]\n"
          ],
          "name": "stderr"
        },
        {
          "output_type": "stream",
          "text": [
            "validate metric ...\n"
          ],
          "name": "stdout"
        },
        {
          "output_type": "stream",
          "text": [
            "\r  0%|          | 0/108 [00:00<?, ?it/s]"
          ],
          "name": "stderr"
        },
        {
          "output_type": "stream",
          "text": [
            "{\n",
            "    \"PHR_10\": 0.4502032520325203,\n",
            "    \"PHR_20\": 0.5721544715447154,\n",
            "    \"PHR_30\": 0.6219512195121951,\n",
            "    \"PHR_40\": 0.657520325203252,\n",
            "    \"ndcg_10\": 0.14646796882152557,\n",
            "    \"ndcg_20\": 0.16834910213947296,\n",
            "    \"ndcg_30\": 0.17997638881206512,\n",
            "    \"ndcg_40\": 0.18732783198356628,\n",
            "    \"recall_10\": 0.16358895599842072,\n",
            "    \"recall_20\": 0.22983418405056,\n",
            "    \"recall_30\": 0.26478496193885803,\n",
            "    \"recall_40\": 0.288248747587204\n",
            "}\n",
            "model save as ../save_model_folder/TaFeng/DNNTSP/model_epoch_51.pkl\n"
          ],
          "name": "stdout"
        },
        {
          "output_type": "stream",
          "text": [
            "train epoch: 52, train loss: 0.007166195527167508: 100%|██████████| 108/108 [02:34<00:00,  1.43s/it]\n"
          ],
          "name": "stderr"
        },
        {
          "output_type": "stream",
          "text": [
            "train metric ...\n"
          ],
          "name": "stdout"
        },
        {
          "output_type": "stream",
          "text": [
            "\r  0%|          | 0/16 [00:00<?, ?it/s]"
          ],
          "name": "stderr"
        },
        {
          "output_type": "stream",
          "text": [
            "{\n",
            "    \"PHR_10\": 0.5389082462253194,\n",
            "    \"PHR_20\": 0.6329849012775842,\n",
            "    \"PHR_30\": 0.6771196283391405,\n",
            "    \"PHR_40\": 0.7058652729384437,\n",
            "    \"ndcg_10\": 0.19084739685058594,\n",
            "    \"ndcg_20\": 0.21086493134498596,\n",
            "    \"ndcg_30\": 0.22282230854034424,\n",
            "    \"ndcg_40\": 0.2306990623474121,\n",
            "    \"recall_10\": 0.21524298191070557,\n",
            "    \"recall_20\": 0.2816837728023529,\n",
            "    \"recall_30\": 0.31963399052619934,\n",
            "    \"recall_40\": 0.34494277834892273\n",
            "}\n"
          ],
          "name": "stdout"
        },
        {
          "output_type": "stream",
          "text": [
            "validate epoch: 52, validate loss: 0.00762286622193642: 100%|██████████| 16/16 [00:12<00:00,  1.32it/s]\n"
          ],
          "name": "stderr"
        },
        {
          "output_type": "stream",
          "text": [
            "validate metric ...\n"
          ],
          "name": "stdout"
        },
        {
          "output_type": "stream",
          "text": [
            "\r  0%|          | 0/108 [00:00<?, ?it/s]"
          ],
          "name": "stderr"
        },
        {
          "output_type": "stream",
          "text": [
            "{\n",
            "    \"PHR_10\": 0.45528455284552843,\n",
            "    \"PHR_20\": 0.5721544715447154,\n",
            "    \"PHR_30\": 0.625,\n",
            "    \"PHR_40\": 0.6605691056910569,\n",
            "    \"ndcg_10\": 0.1447807401418686,\n",
            "    \"ndcg_20\": 0.16702507436275482,\n",
            "    \"ndcg_30\": 0.17880640923976898,\n",
            "    \"ndcg_40\": 0.1861843764781952,\n",
            "    \"recall_10\": 0.1640665978193283,\n",
            "    \"recall_20\": 0.23122815787792206,\n",
            "    \"recall_30\": 0.2664867639541626,\n",
            "    \"recall_40\": 0.29019927978515625\n",
            "}\n"
          ],
          "name": "stdout"
        },
        {
          "output_type": "stream",
          "text": [
            "train epoch: 53, train loss: 0.007174555884881152: 100%|██████████| 108/108 [02:35<00:00,  1.44s/it]\n"
          ],
          "name": "stderr"
        },
        {
          "output_type": "stream",
          "text": [
            "train metric ...\n"
          ],
          "name": "stdout"
        },
        {
          "output_type": "stream",
          "text": [
            "\r  0%|          | 0/16 [00:00<?, ?it/s]"
          ],
          "name": "stderr"
        },
        {
          "output_type": "stream",
          "text": [
            "{\n",
            "    \"PHR_10\": 0.537020905923345,\n",
            "    \"PHR_20\": 0.6309523809523809,\n",
            "    \"PHR_30\": 0.6747967479674797,\n",
            "    \"PHR_40\": 0.7039779326364692,\n",
            "    \"ndcg_10\": 0.18889035284519196,\n",
            "    \"ndcg_20\": 0.2090347558259964,\n",
            "    \"ndcg_30\": 0.22074280679225922,\n",
            "    \"ndcg_40\": 0.2287828028202057,\n",
            "    \"recall_10\": 0.21457450091838837,\n",
            "    \"recall_20\": 0.2814071774482727,\n",
            "    \"recall_30\": 0.31826889514923096,\n",
            "    \"recall_40\": 0.34394165873527527\n",
            "}\n"
          ],
          "name": "stdout"
        },
        {
          "output_type": "stream",
          "text": [
            "validate epoch: 53, validate loss: 0.007625967788044363: 100%|██████████| 16/16 [00:12<00:00,  1.33it/s]\n"
          ],
          "name": "stderr"
        },
        {
          "output_type": "stream",
          "text": [
            "validate metric ...\n"
          ],
          "name": "stdout"
        },
        {
          "output_type": "stream",
          "text": [
            "\r  0%|          | 0/108 [00:00<?, ?it/s]"
          ],
          "name": "stderr"
        },
        {
          "output_type": "stream",
          "text": [
            "{\n",
            "    \"PHR_10\": 0.4644308943089431,\n",
            "    \"PHR_20\": 0.5762195121951219,\n",
            "    \"PHR_30\": 0.6239837398373984,\n",
            "    \"PHR_40\": 0.6615853658536586,\n",
            "    \"ndcg_10\": 0.14763902127742767,\n",
            "    \"ndcg_20\": 0.16854044795036316,\n",
            "    \"ndcg_30\": 0.17997276782989502,\n",
            "    \"ndcg_40\": 0.18758025765419006,\n",
            "    \"recall_10\": 0.1688273400068283,\n",
            "    \"recall_20\": 0.23229475319385529,\n",
            "    \"recall_30\": 0.26622357964515686,\n",
            "    \"recall_40\": 0.290752112865448\n",
            "}\n",
            "model save as ../save_model_folder/TaFeng/DNNTSP/model_epoch_53.pkl\n"
          ],
          "name": "stdout"
        },
        {
          "output_type": "stream",
          "text": [
            "train epoch: 54, train loss: 0.0071705283890305845: 100%|██████████| 108/108 [02:34<00:00,  1.44s/it]\n"
          ],
          "name": "stderr"
        },
        {
          "output_type": "stream",
          "text": [
            "train metric ...\n"
          ],
          "name": "stdout"
        },
        {
          "output_type": "stream",
          "text": [
            "\r  0%|          | 0/16 [00:00<?, ?it/s]"
          ],
          "name": "stderr"
        },
        {
          "output_type": "stream",
          "text": [
            "{\n",
            "    \"PHR_10\": 0.537746806039489,\n",
            "    \"PHR_20\": 0.6318234610917538,\n",
            "    \"PHR_30\": 0.6766840882694541,\n",
            "    \"PHR_40\": 0.704849012775842,\n",
            "    \"ndcg_10\": 0.18994450569152832,\n",
            "    \"ndcg_20\": 0.21006153523921967,\n",
            "    \"ndcg_30\": 0.22190237045288086,\n",
            "    \"ndcg_40\": 0.2299662083387375,\n",
            "    \"recall_10\": 0.2146247923374176,\n",
            "    \"recall_20\": 0.28163954615592957,\n",
            "    \"recall_30\": 0.3192790448665619,\n",
            "    \"recall_40\": 0.344783216714859\n",
            "}\n"
          ],
          "name": "stdout"
        },
        {
          "output_type": "stream",
          "text": [
            "validate epoch: 54, validate loss: 0.0076246428361628205: 100%|██████████| 16/16 [00:12<00:00,  1.33it/s]\n"
          ],
          "name": "stderr"
        },
        {
          "output_type": "stream",
          "text": [
            "validate metric ...\n"
          ],
          "name": "stdout"
        },
        {
          "output_type": "stream",
          "text": [
            "\r  0%|          | 0/108 [00:00<?, ?it/s]"
          ],
          "name": "stderr"
        },
        {
          "output_type": "stream",
          "text": [
            "{\n",
            "    \"PHR_10\": 0.4573170731707317,\n",
            "    \"PHR_20\": 0.5752032520325203,\n",
            "    \"PHR_30\": 0.6270325203252033,\n",
            "    \"PHR_40\": 0.6626016260162602,\n",
            "    \"ndcg_10\": 0.1467006951570511,\n",
            "    \"ndcg_20\": 0.16816668212413788,\n",
            "    \"ndcg_30\": 0.17987355589866638,\n",
            "    \"ndcg_40\": 0.1874842643737793,\n",
            "    \"recall_10\": 0.16727077960968018,\n",
            "    \"recall_20\": 0.23157957196235657,\n",
            "    \"recall_30\": 0.2664145827293396,\n",
            "    \"recall_40\": 0.2908434271812439\n",
            "}\n"
          ],
          "name": "stdout"
        },
        {
          "output_type": "stream",
          "text": [
            "train epoch: 55, train loss: 0.007165570363954261: 100%|██████████| 108/108 [02:35<00:00,  1.44s/it]\n"
          ],
          "name": "stderr"
        },
        {
          "output_type": "stream",
          "text": [
            "train metric ...\n"
          ],
          "name": "stdout"
        },
        {
          "output_type": "stream",
          "text": [
            "\r  0%|          | 0/16 [00:00<?, ?it/s]"
          ],
          "name": "stderr"
        },
        {
          "output_type": "stream",
          "text": [
            "{\n",
            "    \"PHR_10\": 0.5374564459930313,\n",
            "    \"PHR_20\": 0.632404181184669,\n",
            "    \"PHR_30\": 0.6765389082462253,\n",
            "    \"PHR_40\": 0.7061556329849012,\n",
            "    \"ndcg_10\": 0.19155582785606384,\n",
            "    \"ndcg_20\": 0.2116265594959259,\n",
            "    \"ndcg_30\": 0.2233596295118332,\n",
            "    \"ndcg_40\": 0.23149289190769196,\n",
            "    \"recall_10\": 0.2152487188577652,\n",
            "    \"recall_20\": 0.2823837697505951,\n",
            "    \"recall_30\": 0.3196902275085449,\n",
            "    \"recall_40\": 0.34572845697402954\n",
            "}\n"
          ],
          "name": "stdout"
        },
        {
          "output_type": "stream",
          "text": [
            "validate epoch: 55, validate loss: 0.007631535729160532: 100%|██████████| 16/16 [00:11<00:00,  1.35it/s]\n"
          ],
          "name": "stderr"
        },
        {
          "output_type": "stream",
          "text": [
            "validate metric ...\n"
          ],
          "name": "stdout"
        },
        {
          "output_type": "stream",
          "text": [
            "\r  0%|          | 0/108 [00:00<?, ?it/s]"
          ],
          "name": "stderr"
        },
        {
          "output_type": "stream",
          "text": [
            "{\n",
            "    \"PHR_10\": 0.45426829268292684,\n",
            "    \"PHR_20\": 0.5752032520325203,\n",
            "    \"PHR_30\": 0.6270325203252033,\n",
            "    \"PHR_40\": 0.6615853658536586,\n",
            "    \"ndcg_10\": 0.1458432674407959,\n",
            "    \"ndcg_20\": 0.1678495705127716,\n",
            "    \"ndcg_30\": 0.1797644942998886,\n",
            "    \"ndcg_40\": 0.1869708001613617,\n",
            "    \"recall_10\": 0.16501019895076752,\n",
            "    \"recall_20\": 0.2317941039800644,\n",
            "    \"recall_30\": 0.2672126591205597,\n",
            "    \"recall_40\": 0.29041990637779236\n",
            "}\n"
          ],
          "name": "stdout"
        },
        {
          "output_type": "stream",
          "text": [
            "train epoch: 56, train loss: 0.007162768415313352: 100%|██████████| 108/108 [02:35<00:00,  1.44s/it]\n"
          ],
          "name": "stderr"
        },
        {
          "output_type": "stream",
          "text": [
            "train metric ...\n"
          ],
          "name": "stdout"
        },
        {
          "output_type": "stream",
          "text": [
            "\r  0%|          | 0/16 [00:00<?, ?it/s]"
          ],
          "name": "stderr"
        },
        {
          "output_type": "stream",
          "text": [
            "{\n",
            "    \"PHR_10\": 0.537020905923345,\n",
            "    \"PHR_20\": 0.6328397212543554,\n",
            "    \"PHR_30\": 0.6772648083623694,\n",
            "    \"PHR_40\": 0.7063008130081301,\n",
            "    \"ndcg_10\": 0.1920587122440338,\n",
            "    \"ndcg_20\": 0.21197929978370667,\n",
            "    \"ndcg_30\": 0.22370539605617523,\n",
            "    \"ndcg_40\": 0.231621652841568,\n",
            "    \"recall_10\": 0.2159893661737442,\n",
            "    \"recall_20\": 0.2828742265701294,\n",
            "    \"recall_30\": 0.3200329542160034,\n",
            "    \"recall_40\": 0.3453691005706787\n",
            "}\n"
          ],
          "name": "stdout"
        },
        {
          "output_type": "stream",
          "text": [
            "validate epoch: 56, validate loss: 0.007633188390173018: 100%|██████████| 16/16 [00:12<00:00,  1.32it/s]\n"
          ],
          "name": "stderr"
        },
        {
          "output_type": "stream",
          "text": [
            "validate metric ...\n"
          ],
          "name": "stdout"
        },
        {
          "output_type": "stream",
          "text": [
            "\r  0%|          | 0/108 [00:00<?, ?it/s]"
          ],
          "name": "stderr"
        },
        {
          "output_type": "stream",
          "text": [
            "{\n",
            "    \"PHR_10\": 0.4491869918699187,\n",
            "    \"PHR_20\": 0.5752032520325203,\n",
            "    \"PHR_30\": 0.6260162601626016,\n",
            "    \"PHR_40\": 0.6626016260162602,\n",
            "    \"ndcg_10\": 0.14688792824745178,\n",
            "    \"ndcg_20\": 0.16865964233875275,\n",
            "    \"ndcg_30\": 0.17992845177650452,\n",
            "    \"ndcg_40\": 0.18749088048934937,\n",
            "    \"recall_10\": 0.16602133214473724,\n",
            "    \"recall_20\": 0.23237966001033783,\n",
            "    \"recall_30\": 0.2661581337451935,\n",
            "    \"recall_40\": 0.2904879152774811\n",
            "}\n"
          ],
          "name": "stdout"
        },
        {
          "output_type": "stream",
          "text": [
            "train epoch: 57, train loss: 0.00716000856159048: 100%|██████████| 108/108 [02:35<00:00,  1.44s/it]\n"
          ],
          "name": "stderr"
        },
        {
          "output_type": "stream",
          "text": [
            "train metric ...\n"
          ],
          "name": "stdout"
        },
        {
          "output_type": "stream",
          "text": [
            "\r  0%|          | 0/16 [00:00<?, ?it/s]"
          ],
          "name": "stderr"
        },
        {
          "output_type": "stream",
          "text": [
            "{\n",
            "    \"PHR_10\": 0.5386178861788617,\n",
            "    \"PHR_20\": 0.6322590011614402,\n",
            "    \"PHR_30\": 0.6771196283391405,\n",
            "    \"PHR_40\": 0.7057200929152149,\n",
            "    \"ndcg_10\": 0.19271467626094818,\n",
            "    \"ndcg_20\": 0.21264415979385376,\n",
            "    \"ndcg_30\": 0.22408246994018555,\n",
            "    \"ndcg_40\": 0.2322787195444107,\n",
            "    \"recall_10\": 0.21622927486896515,\n",
            "    \"recall_20\": 0.283293217420578,\n",
            "    \"recall_30\": 0.3194335103034973,\n",
            "    \"recall_40\": 0.34578007459640503\n",
            "}\n"
          ],
          "name": "stdout"
        },
        {
          "output_type": "stream",
          "text": [
            "validate epoch: 57, validate loss: 0.007634924782905728: 100%|██████████| 16/16 [00:12<00:00,  1.32it/s]\n"
          ],
          "name": "stderr"
        },
        {
          "output_type": "stream",
          "text": [
            "validate metric ...\n"
          ],
          "name": "stdout"
        },
        {
          "output_type": "stream",
          "text": [
            "\r  0%|          | 0/108 [00:00<?, ?it/s]"
          ],
          "name": "stderr"
        },
        {
          "output_type": "stream",
          "text": [
            "{\n",
            "    \"PHR_10\": 0.45528455284552843,\n",
            "    \"PHR_20\": 0.573170731707317,\n",
            "    \"PHR_30\": 0.6229674796747967,\n",
            "    \"PHR_40\": 0.6615853658536586,\n",
            "    \"ndcg_10\": 0.14840620756149292,\n",
            "    \"ndcg_20\": 0.16958267986774445,\n",
            "    \"ndcg_30\": 0.1805409938097,\n",
            "    \"ndcg_40\": 0.18829067051410675,\n",
            "    \"recall_10\": 0.16732361912727356,\n",
            "    \"recall_20\": 0.2325010597705841,\n",
            "    \"recall_30\": 0.2650974690914154,\n",
            "    \"recall_40\": 0.2904273271560669\n",
            "}\n",
            "model save as ../save_model_folder/TaFeng/DNNTSP/model_epoch_57.pkl\n"
          ],
          "name": "stdout"
        },
        {
          "output_type": "stream",
          "text": [
            "train epoch: 58, train loss: 0.007157974699684592: 100%|██████████| 108/108 [02:35<00:00,  1.44s/it]\n"
          ],
          "name": "stderr"
        },
        {
          "output_type": "stream",
          "text": [
            "train metric ...\n"
          ],
          "name": "stdout"
        },
        {
          "output_type": "stream",
          "text": [
            "\r  0%|          | 0/16 [00:00<?, ?it/s]"
          ],
          "name": "stderr"
        },
        {
          "output_type": "stream",
          "text": [
            "{\n",
            "    \"PHR_10\": 0.5419570267131243,\n",
            "    \"PHR_20\": 0.6332752613240418,\n",
            "    \"PHR_30\": 0.6781358885017421,\n",
            "    \"PHR_40\": 0.7065911730545877,\n",
            "    \"ndcg_10\": 0.1940138190984726,\n",
            "    \"ndcg_20\": 0.21368445456027985,\n",
            "    \"ndcg_30\": 0.2252761870622635,\n",
            "    \"ndcg_40\": 0.23339341580867767,\n",
            "    \"recall_10\": 0.21727970242500305,\n",
            "    \"recall_20\": 0.2834785580635071,\n",
            "    \"recall_30\": 0.32013338804244995,\n",
            "    \"recall_40\": 0.34628933668136597\n",
            "}\n"
          ],
          "name": "stdout"
        },
        {
          "output_type": "stream",
          "text": [
            "validate epoch: 58, validate loss: 0.0076365073036868125: 100%|██████████| 16/16 [00:12<00:00,  1.32it/s]\n"
          ],
          "name": "stderr"
        },
        {
          "output_type": "stream",
          "text": [
            "validate metric ...\n"
          ],
          "name": "stdout"
        },
        {
          "output_type": "stream",
          "text": [
            "\r  0%|          | 0/108 [00:00<?, ?it/s]"
          ],
          "name": "stderr"
        },
        {
          "output_type": "stream",
          "text": [
            "{\n",
            "    \"PHR_10\": 0.4563008130081301,\n",
            "    \"PHR_20\": 0.573170731707317,\n",
            "    \"PHR_30\": 0.6219512195121951,\n",
            "    \"PHR_40\": 0.6636178861788617,\n",
            "    \"ndcg_10\": 0.1481449455022812,\n",
            "    \"ndcg_20\": 0.16924713551998138,\n",
            "    \"ndcg_30\": 0.17965294420719147,\n",
            "    \"ndcg_40\": 0.18764379620552063,\n",
            "    \"recall_10\": 0.1680828034877777,\n",
            "    \"recall_20\": 0.2335495799779892,\n",
            "    \"recall_30\": 0.2644326388835907,\n",
            "    \"recall_40\": 0.29052168130874634\n",
            "}\n"
          ],
          "name": "stdout"
        },
        {
          "output_type": "stream",
          "text": [
            "train epoch: 59, train loss: 0.007157060209903176: 100%|██████████| 108/108 [02:35<00:00,  1.44s/it]\n"
          ],
          "name": "stderr"
        },
        {
          "output_type": "stream",
          "text": [
            "train metric ...\n"
          ],
          "name": "stdout"
        },
        {
          "output_type": "stream",
          "text": [
            "\r  0%|          | 0/16 [00:00<?, ?it/s]"
          ],
          "name": "stderr"
        },
        {
          "output_type": "stream",
          "text": [
            "{\n",
            "    \"PHR_10\": 0.5405052264808362,\n",
            "    \"PHR_20\": 0.633130081300813,\n",
            "    \"PHR_30\": 0.6777003484320557,\n",
            "    \"PHR_40\": 0.707171893147503,\n",
            "    \"ndcg_10\": 0.1937187910079956,\n",
            "    \"ndcg_20\": 0.21368443965911865,\n",
            "    \"ndcg_30\": 0.22513031959533691,\n",
            "    \"ndcg_40\": 0.23319046199321747,\n",
            "    \"recall_10\": 0.21689926087856293,\n",
            "    \"recall_20\": 0.2837817966938019,\n",
            "    \"recall_30\": 0.32015544176101685,\n",
            "    \"recall_40\": 0.3460581302642822\n",
            "}\n"
          ],
          "name": "stdout"
        },
        {
          "output_type": "stream",
          "text": [
            "validate epoch: 59, validate loss: 0.007640440919203684: 100%|██████████| 16/16 [00:12<00:00,  1.33it/s]\n"
          ],
          "name": "stderr"
        },
        {
          "output_type": "stream",
          "text": [
            "validate metric ...\n"
          ],
          "name": "stdout"
        },
        {
          "output_type": "stream",
          "text": [
            "\r  0%|          | 0/108 [00:00<?, ?it/s]"
          ],
          "name": "stderr"
        },
        {
          "output_type": "stream",
          "text": [
            "{\n",
            "    \"PHR_10\": 0.4532520325203252,\n",
            "    \"PHR_20\": 0.5741869918699187,\n",
            "    \"PHR_30\": 0.6219512195121951,\n",
            "    \"PHR_40\": 0.6595528455284553,\n",
            "    \"ndcg_10\": 0.14707081019878387,\n",
            "    \"ndcg_20\": 0.16884756088256836,\n",
            "    \"ndcg_30\": 0.17955900728702545,\n",
            "    \"ndcg_40\": 0.18724462389945984,\n",
            "    \"recall_10\": 0.1658318191766739,\n",
            "    \"recall_20\": 0.2328030914068222,\n",
            "    \"recall_30\": 0.2646997272968292,\n",
            "    \"recall_40\": 0.2897907793521881\n",
            "}\n"
          ],
          "name": "stdout"
        },
        {
          "output_type": "stream",
          "text": [
            "train epoch: 60, train loss: 0.007154572802526808: 100%|██████████| 108/108 [02:35<00:00,  1.44s/it]\n"
          ],
          "name": "stderr"
        },
        {
          "output_type": "stream",
          "text": [
            "train metric ...\n"
          ],
          "name": "stdout"
        },
        {
          "output_type": "stream",
          "text": [
            "\r  0%|          | 0/16 [00:00<?, ?it/s]"
          ],
          "name": "stderr"
        },
        {
          "output_type": "stream",
          "text": [
            "{\n",
            "    \"PHR_10\": 0.5419570267131243,\n",
            "    \"PHR_20\": 0.6342915214866435,\n",
            "    \"PHR_30\": 0.6781358885017421,\n",
            "    \"PHR_40\": 0.7067363530778165,\n",
            "    \"ndcg_10\": 0.1941438615322113,\n",
            "    \"ndcg_20\": 0.2142511010169983,\n",
            "    \"ndcg_30\": 0.22555315494537354,\n",
            "    \"ndcg_40\": 0.23355624079704285,\n",
            "    \"recall_10\": 0.21757827699184418,\n",
            "    \"recall_20\": 0.2848726212978363,\n",
            "    \"recall_30\": 0.320357084274292,\n",
            "    \"recall_40\": 0.34630781412124634\n",
            "}\n"
          ],
          "name": "stdout"
        },
        {
          "output_type": "stream",
          "text": [
            "validate epoch: 60, validate loss: 0.007648207654710859: 100%|██████████| 16/16 [00:12<00:00,  1.33it/s]\n"
          ],
          "name": "stderr"
        },
        {
          "output_type": "stream",
          "text": [
            "validate metric ...\n"
          ],
          "name": "stdout"
        },
        {
          "output_type": "stream",
          "text": [
            "\r  0%|          | 0/108 [00:00<?, ?it/s]"
          ],
          "name": "stderr"
        },
        {
          "output_type": "stream",
          "text": [
            "{\n",
            "    \"PHR_10\": 0.4532520325203252,\n",
            "    \"PHR_20\": 0.5792682926829268,\n",
            "    \"PHR_30\": 0.6189024390243902,\n",
            "    \"PHR_40\": 0.6595528455284553,\n",
            "    \"ndcg_10\": 0.148048996925354,\n",
            "    \"ndcg_20\": 0.16967928409576416,\n",
            "    \"ndcg_30\": 0.17934198677539825,\n",
            "    \"ndcg_40\": 0.18710900843143463,\n",
            "    \"recall_10\": 0.1673934906721115,\n",
            "    \"recall_20\": 0.2338169813156128,\n",
            "    \"recall_30\": 0.2627721130847931,\n",
            "    \"recall_40\": 0.2878590524196625\n",
            "}\n"
          ],
          "name": "stdout"
        },
        {
          "output_type": "stream",
          "text": [
            "train epoch: 61, train loss: 0.007154350768326333: 100%|██████████| 108/108 [02:34<00:00,  1.43s/it]\n"
          ],
          "name": "stderr"
        },
        {
          "output_type": "stream",
          "text": [
            "train metric ...\n"
          ],
          "name": "stdout"
        },
        {
          "output_type": "stream",
          "text": [
            "\r  0%|          | 0/16 [00:00<?, ?it/s]"
          ],
          "name": "stderr"
        },
        {
          "output_type": "stream",
          "text": [
            "{\n",
            "    \"PHR_10\": 0.5425377468060395,\n",
            "    \"PHR_20\": 0.6325493612078978,\n",
            "    \"PHR_30\": 0.6788617886178862,\n",
            "    \"PHR_40\": 0.7057200929152149,\n",
            "    \"ndcg_10\": 0.19456572830677032,\n",
            "    \"ndcg_20\": 0.21401077508926392,\n",
            "    \"ndcg_30\": 0.22572042047977448,\n",
            "    \"ndcg_40\": 0.23359109461307526,\n",
            "    \"recall_10\": 0.21808847784996033,\n",
            "    \"recall_20\": 0.283487468957901,\n",
            "    \"recall_30\": 0.32070717215538025,\n",
            "    \"recall_40\": 0.34585267305374146\n",
            "}\n"
          ],
          "name": "stdout"
        },
        {
          "output_type": "stream",
          "text": [
            "validate epoch: 61, validate loss: 0.007646251789992675: 100%|██████████| 16/16 [00:11<00:00,  1.33it/s]\n"
          ],
          "name": "stderr"
        },
        {
          "output_type": "stream",
          "text": [
            "validate metric ...\n"
          ],
          "name": "stdout"
        },
        {
          "output_type": "stream",
          "text": [
            "\r  0%|          | 0/108 [00:00<?, ?it/s]"
          ],
          "name": "stderr"
        },
        {
          "output_type": "stream",
          "text": [
            "{\n",
            "    \"PHR_10\": 0.45528455284552843,\n",
            "    \"PHR_20\": 0.5752032520325203,\n",
            "    \"PHR_30\": 0.6209349593495935,\n",
            "    \"PHR_40\": 0.6595528455284553,\n",
            "    \"ndcg_10\": 0.14774523675441742,\n",
            "    \"ndcg_20\": 0.16857053339481354,\n",
            "    \"ndcg_30\": 0.17894792556762695,\n",
            "    \"ndcg_40\": 0.1868477761745453,\n",
            "    \"recall_10\": 0.16802817583084106,\n",
            "    \"recall_20\": 0.23202688992023468,\n",
            "    \"recall_30\": 0.2631351947784424,\n",
            "    \"recall_40\": 0.288544625043869\n",
            "}\n"
          ],
          "name": "stdout"
        },
        {
          "output_type": "stream",
          "text": [
            "train epoch: 62, train loss: 0.007150379992607567: 100%|██████████| 108/108 [02:35<00:00,  1.44s/it]\n"
          ],
          "name": "stderr"
        },
        {
          "output_type": "stream",
          "text": [
            "train metric ...\n"
          ],
          "name": "stdout"
        },
        {
          "output_type": "stream",
          "text": [
            "\r  0%|          | 0/16 [00:00<?, ?it/s]"
          ],
          "name": "stderr"
        },
        {
          "output_type": "stream",
          "text": [
            "{\n",
            "    \"PHR_10\": 0.5442799070847851,\n",
            "    \"PHR_20\": 0.634581881533101,\n",
            "    \"PHR_30\": 0.6792973286875726,\n",
            "    \"PHR_40\": 0.7068815331010453,\n",
            "    \"ndcg_10\": 0.195895716547966,\n",
            "    \"ndcg_20\": 0.21515768766403198,\n",
            "    \"ndcg_30\": 0.22670075297355652,\n",
            "    \"ndcg_40\": 0.23457404971122742,\n",
            "    \"recall_10\": 0.2189488261938095,\n",
            "    \"recall_20\": 0.28439879417419434,\n",
            "    \"recall_30\": 0.3209960162639618,\n",
            "    \"recall_40\": 0.3461873531341553\n",
            "}\n"
          ],
          "name": "stdout"
        },
        {
          "output_type": "stream",
          "text": [
            "validate epoch: 62, validate loss: 0.007658984715817496: 100%|██████████| 16/16 [00:12<00:00,  1.33it/s]\n"
          ],
          "name": "stderr"
        },
        {
          "output_type": "stream",
          "text": [
            "validate metric ...\n"
          ],
          "name": "stdout"
        },
        {
          "output_type": "stream",
          "text": [
            "\r  0%|          | 0/108 [00:00<?, ?it/s]"
          ],
          "name": "stderr"
        },
        {
          "output_type": "stream",
          "text": [
            "{\n",
            "    \"PHR_10\": 0.45223577235772355,\n",
            "    \"PHR_20\": 0.573170731707317,\n",
            "    \"PHR_30\": 0.6199186991869918,\n",
            "    \"PHR_40\": 0.657520325203252,\n",
            "    \"ndcg_10\": 0.14709097146987915,\n",
            "    \"ndcg_20\": 0.1684848666191101,\n",
            "    \"ndcg_30\": 0.17875680327415466,\n",
            "    \"ndcg_40\": 0.18626739084720612,\n",
            "    \"recall_10\": 0.166879341006279,\n",
            "    \"recall_20\": 0.23251082003116608,\n",
            "    \"recall_30\": 0.26332682371139526,\n",
            "    \"recall_40\": 0.28754547238349915\n",
            "}\n"
          ],
          "name": "stdout"
        },
        {
          "output_type": "stream",
          "text": [
            "train epoch: 63, train loss: 0.007148822532380345: 100%|██████████| 108/108 [02:35<00:00,  1.44s/it]\n"
          ],
          "name": "stderr"
        },
        {
          "output_type": "stream",
          "text": [
            "train metric ...\n"
          ],
          "name": "stdout"
        },
        {
          "output_type": "stream",
          "text": [
            "\r  0%|          | 0/16 [00:00<?, ?it/s]"
          ],
          "name": "stderr"
        },
        {
          "output_type": "stream",
          "text": [
            "{\n",
            "    \"PHR_10\": 0.5442799070847851,\n",
            "    \"PHR_20\": 0.6337108013937283,\n",
            "    \"PHR_30\": 0.6795876887340302,\n",
            "    \"PHR_40\": 0.7060104529616724,\n",
            "    \"ndcg_10\": 0.1958642303943634,\n",
            "    \"ndcg_20\": 0.2151891142129898,\n",
            "    \"ndcg_30\": 0.22668208181858063,\n",
            "    \"ndcg_40\": 0.23446723818778992,\n",
            "    \"recall_10\": 0.21866941452026367,\n",
            "    \"recall_20\": 0.28429317474365234,\n",
            "    \"recall_30\": 0.3208502233028412,\n",
            "    \"recall_40\": 0.34579798579216003\n",
            "}\n"
          ],
          "name": "stdout"
        },
        {
          "output_type": "stream",
          "text": [
            "validate epoch: 63, validate loss: 0.007662982010515407: 100%|██████████| 16/16 [00:12<00:00,  1.32it/s]\n"
          ],
          "name": "stderr"
        },
        {
          "output_type": "stream",
          "text": [
            "validate metric ...\n"
          ],
          "name": "stdout"
        },
        {
          "output_type": "stream",
          "text": [
            "\r  0%|          | 0/108 [00:00<?, ?it/s]"
          ],
          "name": "stderr"
        },
        {
          "output_type": "stream",
          "text": [
            "{\n",
            "    \"PHR_10\": 0.4532520325203252,\n",
            "    \"PHR_20\": 0.5701219512195121,\n",
            "    \"PHR_30\": 0.6199186991869918,\n",
            "    \"PHR_40\": 0.6605691056910569,\n",
            "    \"ndcg_10\": 0.147584930062294,\n",
            "    \"ndcg_20\": 0.16835610568523407,\n",
            "    \"ndcg_30\": 0.17841987311840057,\n",
            "    \"ndcg_40\": 0.18662142753601074,\n",
            "    \"recall_10\": 0.16712400317192078,\n",
            "    \"recall_20\": 0.23192869126796722,\n",
            "    \"recall_30\": 0.2619466781616211,\n",
            "    \"recall_40\": 0.2882557809352875\n",
            "}\n"
          ],
          "name": "stdout"
        },
        {
          "output_type": "stream",
          "text": [
            "train epoch: 64, train loss: 0.007147551729792246: 100%|██████████| 108/108 [02:34<00:00,  1.43s/it]\n"
          ],
          "name": "stderr"
        },
        {
          "output_type": "stream",
          "text": [
            "train metric ...\n"
          ],
          "name": "stdout"
        },
        {
          "output_type": "stream",
          "text": [
            "\r  0%|          | 0/16 [00:00<?, ?it/s]"
          ],
          "name": "stderr"
        },
        {
          "output_type": "stream",
          "text": [
            "{\n",
            "    \"PHR_10\": 0.5461672473867596,\n",
            "    \"PHR_20\": 0.6342915214866435,\n",
            "    \"PHR_30\": 0.679732868757259,\n",
            "    \"PHR_40\": 0.707171893147503,\n",
            "    \"ndcg_10\": 0.1961250603199005,\n",
            "    \"ndcg_20\": 0.21522827446460724,\n",
            "    \"ndcg_30\": 0.22682364284992218,\n",
            "    \"ndcg_40\": 0.23466479778289795,\n",
            "    \"recall_10\": 0.2192705124616623,\n",
            "    \"recall_20\": 0.28425315022468567,\n",
            "    \"recall_30\": 0.32095444202423096,\n",
            "    \"recall_40\": 0.34646496176719666\n",
            "}\n"
          ],
          "name": "stdout"
        },
        {
          "output_type": "stream",
          "text": [
            "validate epoch: 64, validate loss: 0.007664499804377556: 100%|██████████| 16/16 [00:11<00:00,  1.34it/s]\n"
          ],
          "name": "stderr"
        },
        {
          "output_type": "stream",
          "text": [
            "validate metric ...\n"
          ],
          "name": "stdout"
        },
        {
          "output_type": "stream",
          "text": [
            "\r  0%|          | 0/108 [00:00<?, ?it/s]"
          ],
          "name": "stderr"
        },
        {
          "output_type": "stream",
          "text": [
            "{\n",
            "    \"PHR_10\": 0.4532520325203252,\n",
            "    \"PHR_20\": 0.573170731707317,\n",
            "    \"PHR_30\": 0.6178861788617886,\n",
            "    \"PHR_40\": 0.6595528455284553,\n",
            "    \"ndcg_10\": 0.14714573323726654,\n",
            "    \"ndcg_20\": 0.1684897243976593,\n",
            "    \"ndcg_30\": 0.1777895838022232,\n",
            "    \"ndcg_40\": 0.1859574317932129,\n",
            "    \"recall_10\": 0.16779331862926483,\n",
            "    \"recall_20\": 0.23274928331375122,\n",
            "    \"recall_30\": 0.26066532731056213,\n",
            "    \"recall_40\": 0.28689563274383545\n",
            "}\n"
          ],
          "name": "stdout"
        },
        {
          "output_type": "stream",
          "text": [
            "train epoch: 65, train loss: 0.0071448671967825955: 100%|██████████| 108/108 [02:35<00:00,  1.44s/it]\n"
          ],
          "name": "stderr"
        },
        {
          "output_type": "stream",
          "text": [
            "train metric ...\n"
          ],
          "name": "stdout"
        },
        {
          "output_type": "stream",
          "text": [
            "\r  0%|          | 0/16 [00:00<?, ?it/s]"
          ],
          "name": "stderr"
        },
        {
          "output_type": "stream",
          "text": [
            "{\n",
            "    \"PHR_10\": 0.546602787456446,\n",
            "    \"PHR_20\": 0.634581881533101,\n",
            "    \"PHR_30\": 0.6795876887340302,\n",
            "    \"PHR_40\": 0.7068815331010453,\n",
            "    \"ndcg_10\": 0.19688455760478973,\n",
            "    \"ndcg_20\": 0.2157299816608429,\n",
            "    \"ndcg_30\": 0.22729462385177612,\n",
            "    \"ndcg_40\": 0.23519887030124664,\n",
            "    \"recall_10\": 0.21971262991428375,\n",
            "    \"recall_20\": 0.2841261625289917,\n",
            "    \"recall_30\": 0.32099172472953796,\n",
            "    \"recall_40\": 0.346542090177536\n",
            "}\n"
          ],
          "name": "stdout"
        },
        {
          "output_type": "stream",
          "text": [
            "validate epoch: 65, validate loss: 0.007687246485147625: 100%|██████████| 16/16 [00:11<00:00,  1.33it/s]\n"
          ],
          "name": "stderr"
        },
        {
          "output_type": "stream",
          "text": [
            "validate metric ...\n"
          ],
          "name": "stdout"
        },
        {
          "output_type": "stream",
          "text": [
            "\r  0%|          | 0/108 [00:00<?, ?it/s]"
          ],
          "name": "stderr"
        },
        {
          "output_type": "stream",
          "text": [
            "{\n",
            "    \"PHR_10\": 0.4491869918699187,\n",
            "    \"PHR_20\": 0.5711382113821138,\n",
            "    \"PHR_30\": 0.6178861788617886,\n",
            "    \"PHR_40\": 0.657520325203252,\n",
            "    \"ndcg_10\": 0.1456708461046219,\n",
            "    \"ndcg_20\": 0.16735711693763733,\n",
            "    \"ndcg_30\": 0.17721399664878845,\n",
            "    \"ndcg_40\": 0.18533708155155182,\n",
            "    \"recall_10\": 0.16565851867198944,\n",
            "    \"recall_20\": 0.23219744861125946,\n",
            "    \"recall_30\": 0.26166582107543945,\n",
            "    \"recall_40\": 0.2880867123603821\n",
            "}\n"
          ],
          "name": "stdout"
        },
        {
          "output_type": "stream",
          "text": [
            "train epoch: 66, train loss: 0.007142580920588915: 100%|██████████| 108/108 [02:35<00:00,  1.44s/it]\n"
          ],
          "name": "stderr"
        },
        {
          "output_type": "stream",
          "text": [
            "train metric ...\n"
          ],
          "name": "stdout"
        },
        {
          "output_type": "stream",
          "text": [
            "\r  0%|          | 0/16 [00:00<?, ?it/s]"
          ],
          "name": "stderr"
        },
        {
          "output_type": "stream",
          "text": [
            "{\n",
            "    \"PHR_10\": 0.549506387921022,\n",
            "    \"PHR_20\": 0.6358885017421603,\n",
            "    \"PHR_30\": 0.6804587688734031,\n",
            "    \"PHR_40\": 0.7067363530778165,\n",
            "    \"ndcg_10\": 0.19751101732254028,\n",
            "    \"ndcg_20\": 0.2163485586643219,\n",
            "    \"ndcg_30\": 0.22778582572937012,\n",
            "    \"ndcg_40\": 0.23550836741924286,\n",
            "    \"recall_10\": 0.22073952853679657,\n",
            "    \"recall_20\": 0.2852812707424164,\n",
            "    \"recall_30\": 0.3217160701751709,\n",
            "    \"recall_40\": 0.3464575707912445\n",
            "}\n"
          ],
          "name": "stdout"
        },
        {
          "output_type": "stream",
          "text": [
            "validate epoch: 66, validate loss: 0.0076845219591632485: 100%|██████████| 16/16 [00:12<00:00,  1.32it/s]\n"
          ],
          "name": "stderr"
        },
        {
          "output_type": "stream",
          "text": [
            "validate metric ...\n"
          ],
          "name": "stdout"
        },
        {
          "output_type": "stream",
          "text": [
            "\r  0%|          | 0/108 [00:00<?, ?it/s]"
          ],
          "name": "stderr"
        },
        {
          "output_type": "stream",
          "text": [
            "{\n",
            "    \"PHR_10\": 0.4481707317073171,\n",
            "    \"PHR_20\": 0.568089430894309,\n",
            "    \"PHR_30\": 0.6189024390243902,\n",
            "    \"PHR_40\": 0.6585365853658537,\n",
            "    \"ndcg_10\": 0.1454818993806839,\n",
            "    \"ndcg_20\": 0.1669704020023346,\n",
            "    \"ndcg_30\": 0.17709529399871826,\n",
            "    \"ndcg_40\": 0.18487998843193054,\n",
            "    \"recall_10\": 0.16558203101158142,\n",
            "    \"recall_20\": 0.2311309427022934,\n",
            "    \"recall_30\": 0.2618039548397064,\n",
            "    \"recall_40\": 0.2868615686893463\n",
            "}\n"
          ],
          "name": "stdout"
        },
        {
          "output_type": "stream",
          "text": [
            "train epoch: 67, train loss: 0.0071406727139320635: 100%|██████████| 108/108 [02:34<00:00,  1.43s/it]\n"
          ],
          "name": "stderr"
        },
        {
          "output_type": "stream",
          "text": [
            "train metric ...\n"
          ],
          "name": "stdout"
        },
        {
          "output_type": "stream",
          "text": [
            "\r  0%|          | 0/16 [00:00<?, ?it/s]"
          ],
          "name": "stderr"
        },
        {
          "output_type": "stream",
          "text": [
            "{\n",
            "    \"PHR_10\": 0.5493612078977933,\n",
            "    \"PHR_20\": 0.6358885017421603,\n",
            "    \"PHR_30\": 0.6822009291521487,\n",
            "    \"PHR_40\": 0.7068815331010453,\n",
            "    \"ndcg_10\": 0.19739708304405212,\n",
            "    \"ndcg_20\": 0.21633321046829224,\n",
            "    \"ndcg_30\": 0.22810591757297516,\n",
            "    \"ndcg_40\": 0.2356046587228775,\n",
            "    \"recall_10\": 0.2205016016960144,\n",
            "    \"recall_20\": 0.28522783517837524,\n",
            "    \"recall_30\": 0.32293015718460083,\n",
            "    \"recall_40\": 0.3468281328678131\n",
            "}\n"
          ],
          "name": "stdout"
        },
        {
          "output_type": "stream",
          "text": [
            "validate epoch: 67, validate loss: 0.007694011175772175: 100%|██████████| 16/16 [00:12<00:00,  1.32it/s]\n"
          ],
          "name": "stderr"
        },
        {
          "output_type": "stream",
          "text": [
            "validate metric ...\n"
          ],
          "name": "stdout"
        },
        {
          "output_type": "stream",
          "text": [
            "\r  0%|          | 0/108 [00:00<?, ?it/s]"
          ],
          "name": "stderr"
        },
        {
          "output_type": "stream",
          "text": [
            "{\n",
            "    \"PHR_10\": 0.45223577235772355,\n",
            "    \"PHR_20\": 0.5721544715447154,\n",
            "    \"PHR_30\": 0.6199186991869918,\n",
            "    \"PHR_40\": 0.6605691056910569,\n",
            "    \"ndcg_10\": 0.1453118473291397,\n",
            "    \"ndcg_20\": 0.16662123799324036,\n",
            "    \"ndcg_30\": 0.17684036493301392,\n",
            "    \"ndcg_40\": 0.18491779267787933,\n",
            "    \"recall_10\": 0.16566172242164612,\n",
            "    \"recall_20\": 0.23174242675304413,\n",
            "    \"recall_30\": 0.26220884919166565,\n",
            "    \"recall_40\": 0.2884581387042999\n",
            "}\n"
          ],
          "name": "stdout"
        },
        {
          "output_type": "stream",
          "text": [
            "train epoch: 68, train loss: 0.0071401785826310515: 100%|██████████| 108/108 [02:35<00:00,  1.44s/it]\n"
          ],
          "name": "stderr"
        },
        {
          "output_type": "stream",
          "text": [
            "train metric ...\n"
          ],
          "name": "stdout"
        },
        {
          "output_type": "stream",
          "text": [
            "\r  0%|          | 0/16 [00:00<?, ?it/s]"
          ],
          "name": "stderr"
        },
        {
          "output_type": "stream",
          "text": [
            "{\n",
            "    \"PHR_10\": 0.5497967479674797,\n",
            "    \"PHR_20\": 0.6367595818815331,\n",
            "    \"PHR_30\": 0.6807491289198606,\n",
            "    \"PHR_40\": 0.7073170731707317,\n",
            "    \"ndcg_10\": 0.1980661153793335,\n",
            "    \"ndcg_20\": 0.21691644191741943,\n",
            "    \"ndcg_30\": 0.22838588058948517,\n",
            "    \"ndcg_40\": 0.23606309294700623,\n",
            "    \"recall_10\": 0.2209397852420807,\n",
            "    \"recall_20\": 0.2854260206222534,\n",
            "    \"recall_30\": 0.32210758328437805,\n",
            "    \"recall_40\": 0.3468363881111145\n",
            "}\n"
          ],
          "name": "stdout"
        },
        {
          "output_type": "stream",
          "text": [
            "validate epoch: 68, validate loss: 0.007690668338909745: 100%|██████████| 16/16 [00:11<00:00,  1.34it/s]\n"
          ],
          "name": "stderr"
        },
        {
          "output_type": "stream",
          "text": [
            "validate metric ...\n"
          ],
          "name": "stdout"
        },
        {
          "output_type": "stream",
          "text": [
            "\r  0%|          | 0/108 [00:00<?, ?it/s]"
          ],
          "name": "stderr"
        },
        {
          "output_type": "stream",
          "text": [
            "{\n",
            "    \"PHR_10\": 0.4491869918699187,\n",
            "    \"PHR_20\": 0.568089430894309,\n",
            "    \"PHR_30\": 0.616869918699187,\n",
            "    \"PHR_40\": 0.6585365853658537,\n",
            "    \"ndcg_10\": 0.1448575258255005,\n",
            "    \"ndcg_20\": 0.16661885380744934,\n",
            "    \"ndcg_30\": 0.1763831526041031,\n",
            "    \"ndcg_40\": 0.1844785511493683,\n",
            "    \"recall_10\": 0.16474536061286926,\n",
            "    \"recall_20\": 0.23177431523799896,\n",
            "    \"recall_30\": 0.2611740529537201,\n",
            "    \"recall_40\": 0.2870164215564728\n",
            "}\n"
          ],
          "name": "stdout"
        },
        {
          "output_type": "stream",
          "text": [
            "train epoch: 69, train loss: 0.007141258015676781: 100%|██████████| 108/108 [02:34<00:00,  1.43s/it]\n"
          ],
          "name": "stderr"
        },
        {
          "output_type": "stream",
          "text": [
            "train metric ...\n"
          ],
          "name": "stdout"
        },
        {
          "output_type": "stream",
          "text": [
            "\r  0%|          | 0/16 [00:00<?, ?it/s]"
          ],
          "name": "stderr"
        },
        {
          "output_type": "stream",
          "text": [
            "{\n",
            "    \"PHR_10\": 0.5486353077816493,\n",
            "    \"PHR_20\": 0.639082462253194,\n",
            "    \"PHR_30\": 0.6813298490127758,\n",
            "    \"PHR_40\": 0.7077526132404182,\n",
            "    \"ndcg_10\": 0.19817641377449036,\n",
            "    \"ndcg_20\": 0.21754774451255798,\n",
            "    \"ndcg_30\": 0.2288130521774292,\n",
            "    \"ndcg_40\": 0.23647956550121307,\n",
            "    \"recall_10\": 0.22052761912345886,\n",
            "    \"recall_20\": 0.28648653626441956,\n",
            "    \"recall_30\": 0.3222946226596832,\n",
            "    \"recall_40\": 0.3469361960887909\n",
            "}\n"
          ],
          "name": "stdout"
        },
        {
          "output_type": "stream",
          "text": [
            "validate epoch: 69, validate loss: 0.007674706139368936: 100%|██████████| 16/16 [00:12<00:00,  1.32it/s]\n"
          ],
          "name": "stderr"
        },
        {
          "output_type": "stream",
          "text": [
            "validate metric ...\n"
          ],
          "name": "stdout"
        },
        {
          "output_type": "stream",
          "text": [
            "\r  0%|          | 0/108 [00:00<?, ?it/s]"
          ],
          "name": "stderr"
        },
        {
          "output_type": "stream",
          "text": [
            "{\n",
            "    \"PHR_10\": 0.4491869918699187,\n",
            "    \"PHR_20\": 0.5721544715447154,\n",
            "    \"PHR_30\": 0.6199186991869918,\n",
            "    \"PHR_40\": 0.6585365853658537,\n",
            "    \"ndcg_10\": 0.14500686526298523,\n",
            "    \"ndcg_20\": 0.16708366572856903,\n",
            "    \"ndcg_30\": 0.17705616354942322,\n",
            "    \"ndcg_40\": 0.18488846719264984,\n",
            "    \"recall_10\": 0.16530072689056396,\n",
            "    \"recall_20\": 0.2325698435306549,\n",
            "    \"recall_30\": 0.2629617750644684,\n",
            "    \"recall_40\": 0.28761836886405945\n",
            "}\n"
          ],
          "name": "stdout"
        },
        {
          "output_type": "stream",
          "text": [
            "train epoch: 70, train loss: 0.00714000570156646: 100%|██████████| 108/108 [02:34<00:00,  1.44s/it]\n"
          ],
          "name": "stderr"
        },
        {
          "output_type": "stream",
          "text": [
            "train metric ...\n"
          ],
          "name": "stdout"
        },
        {
          "output_type": "stream",
          "text": [
            "\r  0%|          | 0/16 [00:00<?, ?it/s]"
          ],
          "name": "stderr"
        },
        {
          "output_type": "stream",
          "text": [
            "{\n",
            "    \"PHR_10\": 0.5483449477351916,\n",
            "    \"PHR_20\": 0.6380662020905923,\n",
            "    \"PHR_30\": 0.681184668989547,\n",
            "    \"PHR_40\": 0.707171893147503,\n",
            "    \"ndcg_10\": 0.19803668558597565,\n",
            "    \"ndcg_20\": 0.21705633401870728,\n",
            "    \"ndcg_30\": 0.2284574955701828,\n",
            "    \"ndcg_40\": 0.23603925108909607,\n",
            "    \"recall_10\": 0.22102785110473633,\n",
            "    \"recall_20\": 0.28585901856422424,\n",
            "    \"recall_30\": 0.32200297713279724,\n",
            "    \"recall_40\": 0.34615346789360046\n",
            "}\n"
          ],
          "name": "stdout"
        },
        {
          "output_type": "stream",
          "text": [
            "validate epoch: 70, validate loss: 0.007691827951930463: 100%|██████████| 16/16 [00:12<00:00,  1.33it/s]\n"
          ],
          "name": "stderr"
        },
        {
          "output_type": "stream",
          "text": [
            "validate metric ...\n"
          ],
          "name": "stdout"
        },
        {
          "output_type": "stream",
          "text": [
            "\r  0%|          | 0/108 [00:00<?, ?it/s]"
          ],
          "name": "stderr"
        },
        {
          "output_type": "stream",
          "text": [
            "{\n",
            "    \"PHR_10\": 0.4481707317073171,\n",
            "    \"PHR_20\": 0.5650406504065041,\n",
            "    \"PHR_30\": 0.6209349593495935,\n",
            "    \"PHR_40\": 0.6636178861788617,\n",
            "    \"ndcg_10\": 0.14430955052375793,\n",
            "    \"ndcg_20\": 0.1657969355583191,\n",
            "    \"ndcg_30\": 0.17642827332019806,\n",
            "    \"ndcg_40\": 0.1849929690361023,\n",
            "    \"recall_10\": 0.16589640080928802,\n",
            "    \"recall_20\": 0.23018863797187805,\n",
            "    \"recall_30\": 0.2629491686820984,\n",
            "    \"recall_40\": 0.2907530963420868\n",
            "}\n"
          ],
          "name": "stdout"
        },
        {
          "output_type": "stream",
          "text": [
            "train epoch: 71, train loss: 0.007139621487887645: 100%|██████████| 108/108 [02:35<00:00,  1.44s/it]\n"
          ],
          "name": "stderr"
        },
        {
          "output_type": "stream",
          "text": [
            "train metric ...\n"
          ],
          "name": "stdout"
        },
        {
          "output_type": "stream",
          "text": [
            "\r  0%|          | 0/16 [00:00<?, ?it/s]"
          ],
          "name": "stderr"
        },
        {
          "output_type": "stream",
          "text": [
            "{\n",
            "    \"PHR_10\": 0.5508130081300813,\n",
            "    \"PHR_20\": 0.6376306620209059,\n",
            "    \"PHR_30\": 0.6804587688734031,\n",
            "    \"PHR_40\": 0.7060104529616724,\n",
            "    \"ndcg_10\": 0.19897831976413727,\n",
            "    \"ndcg_20\": 0.21748574078083038,\n",
            "    \"ndcg_30\": 0.22880242764949799,\n",
            "    \"ndcg_40\": 0.23648589849472046,\n",
            "    \"recall_10\": 0.2218874990940094,\n",
            "    \"recall_20\": 0.28561967611312866,\n",
            "    \"recall_30\": 0.32175368070602417,\n",
            "    \"recall_40\": 0.34649765491485596\n",
            "}\n"
          ],
          "name": "stdout"
        },
        {
          "output_type": "stream",
          "text": [
            "validate epoch: 71, validate loss: 0.007709997473284602: 100%|██████████| 16/16 [00:11<00:00,  1.34it/s]\n"
          ],
          "name": "stderr"
        },
        {
          "output_type": "stream",
          "text": [
            "validate metric ...\n"
          ],
          "name": "stdout"
        },
        {
          "output_type": "stream",
          "text": [
            "\r  0%|          | 0/108 [00:00<?, ?it/s]"
          ],
          "name": "stderr"
        },
        {
          "output_type": "stream",
          "text": [
            "{\n",
            "    \"PHR_10\": 0.4502032520325203,\n",
            "    \"PHR_20\": 0.5640243902439024,\n",
            "    \"PHR_30\": 0.6209349593495935,\n",
            "    \"PHR_40\": 0.6615853658536586,\n",
            "    \"ndcg_10\": 0.14353704452514648,\n",
            "    \"ndcg_20\": 0.1650719940662384,\n",
            "    \"ndcg_30\": 0.17533574998378754,\n",
            "    \"ndcg_40\": 0.18353165686130524,\n",
            "    \"recall_10\": 0.1646072119474411,\n",
            "    \"recall_20\": 0.22998741269111633,\n",
            "    \"recall_30\": 0.26181280612945557,\n",
            "    \"recall_40\": 0.28864118456840515\n",
            "}\n"
          ],
          "name": "stdout"
        },
        {
          "output_type": "stream",
          "text": [
            "train epoch: 72, train loss: 0.007133982674632635: 100%|██████████| 108/108 [02:35<00:00,  1.44s/it]\n"
          ],
          "name": "stderr"
        },
        {
          "output_type": "stream",
          "text": [
            "train metric ...\n"
          ],
          "name": "stdout"
        },
        {
          "output_type": "stream",
          "text": [
            "\r  0%|          | 0/16 [00:00<?, ?it/s]"
          ],
          "name": "stderr"
        },
        {
          "output_type": "stream",
          "text": [
            "{\n",
            "    \"PHR_10\": 0.5524099883855982,\n",
            "    \"PHR_20\": 0.6402439024390244,\n",
            "    \"PHR_30\": 0.6824912891986062,\n",
            "    \"PHR_40\": 0.7077526132404182,\n",
            "    \"ndcg_10\": 0.19947165250778198,\n",
            "    \"ndcg_20\": 0.21829581260681152,\n",
            "    \"ndcg_30\": 0.22960379719734192,\n",
            "    \"ndcg_40\": 0.23705805838108063,\n",
            "    \"recall_10\": 0.22223201394081116,\n",
            "    \"recall_20\": 0.2869131863117218,\n",
            "    \"recall_30\": 0.32294464111328125,\n",
            "    \"recall_40\": 0.34710022807121277\n",
            "}\n"
          ],
          "name": "stdout"
        },
        {
          "output_type": "stream",
          "text": [
            "validate epoch: 72, validate loss: 0.00769465125631541: 100%|██████████| 16/16 [00:12<00:00,  1.32it/s]\n"
          ],
          "name": "stderr"
        },
        {
          "output_type": "stream",
          "text": [
            "validate metric ...\n"
          ],
          "name": "stdout"
        },
        {
          "output_type": "stream",
          "text": [
            "\r  0%|          | 0/108 [00:00<?, ?it/s]"
          ],
          "name": "stderr"
        },
        {
          "output_type": "stream",
          "text": [
            "{\n",
            "    \"PHR_10\": 0.45121951219512196,\n",
            "    \"PHR_20\": 0.5640243902439024,\n",
            "    \"PHR_30\": 0.6158536585365854,\n",
            "    \"PHR_40\": 0.6636178861788617,\n",
            "    \"ndcg_10\": 0.1450088918209076,\n",
            "    \"ndcg_20\": 0.16566158831119537,\n",
            "    \"ndcg_30\": 0.1760910004377365,\n",
            "    \"ndcg_40\": 0.1845879852771759,\n",
            "    \"recall_10\": 0.16633541882038116,\n",
            "    \"recall_20\": 0.22898443043231964,\n",
            "    \"recall_30\": 0.2612322270870209,\n",
            "    \"recall_40\": 0.2889401316642761\n",
            "}\n"
          ],
          "name": "stdout"
        },
        {
          "output_type": "stream",
          "text": [
            "train epoch: 73, train loss: 0.00713363036306368: 100%|██████████| 108/108 [02:35<00:00,  1.44s/it]\n"
          ],
          "name": "stderr"
        },
        {
          "output_type": "stream",
          "text": [
            "train metric ...\n"
          ],
          "name": "stdout"
        },
        {
          "output_type": "stream",
          "text": [
            "\r  0%|          | 0/16 [00:00<?, ?it/s]"
          ],
          "name": "stderr"
        },
        {
          "output_type": "stream",
          "text": [
            "{\n",
            "    \"PHR_10\": 0.5524099883855982,\n",
            "    \"PHR_20\": 0.6403890824622532,\n",
            "    \"PHR_30\": 0.6813298490127758,\n",
            "    \"PHR_40\": 0.7073170731707317,\n",
            "    \"ndcg_10\": 0.19970831274986267,\n",
            "    \"ndcg_20\": 0.21853139996528625,\n",
            "    \"ndcg_30\": 0.22970466315746307,\n",
            "    \"ndcg_40\": 0.23739588260650635,\n",
            "    \"recall_10\": 0.22190679609775543,\n",
            "    \"recall_20\": 0.28660848736763,\n",
            "    \"recall_30\": 0.32198116183280945,\n",
            "    \"recall_40\": 0.34717607498168945\n",
            "}\n"
          ],
          "name": "stdout"
        },
        {
          "output_type": "stream",
          "text": [
            "validate epoch: 73, validate loss: 0.007762588880723342: 100%|██████████| 16/16 [00:11<00:00,  1.33it/s]\n"
          ],
          "name": "stderr"
        },
        {
          "output_type": "stream",
          "text": [
            "validate metric ...\n"
          ],
          "name": "stdout"
        },
        {
          "output_type": "stream",
          "text": [
            "\r  0%|          | 0/108 [00:00<?, ?it/s]"
          ],
          "name": "stderr"
        },
        {
          "output_type": "stream",
          "text": [
            "{\n",
            "    \"PHR_10\": 0.4451219512195122,\n",
            "    \"PHR_20\": 0.5660569105691057,\n",
            "    \"PHR_30\": 0.6178861788617886,\n",
            "    \"PHR_40\": 0.6636178861788617,\n",
            "    \"ndcg_10\": 0.14310221374034882,\n",
            "    \"ndcg_20\": 0.16475807130336761,\n",
            "    \"ndcg_30\": 0.17541153728961945,\n",
            "    \"ndcg_40\": 0.18348021805286407,\n",
            "    \"recall_10\": 0.1641075313091278,\n",
            "    \"recall_20\": 0.23017099499702454,\n",
            "    \"recall_30\": 0.2624981701374054,\n",
            "    \"recall_40\": 0.28863951563835144\n",
            "}\n"
          ],
          "name": "stdout"
        },
        {
          "output_type": "stream",
          "text": [
            "train epoch: 74, train loss: 0.007131235027271841: 100%|██████████| 108/108 [02:34<00:00,  1.43s/it]\n"
          ],
          "name": "stderr"
        },
        {
          "output_type": "stream",
          "text": [
            "train metric ...\n"
          ],
          "name": "stdout"
        },
        {
          "output_type": "stream",
          "text": [
            "\r  0%|          | 0/16 [00:00<?, ?it/s]"
          ],
          "name": "stderr"
        },
        {
          "output_type": "stream",
          "text": [
            "{\n",
            "    \"PHR_10\": 0.5538617886178862,\n",
            "    \"PHR_20\": 0.6415505226480837,\n",
            "    \"PHR_30\": 0.6814750290360047,\n",
            "    \"PHR_40\": 0.7078977932636469,\n",
            "    \"ndcg_10\": 0.2003776580095291,\n",
            "    \"ndcg_20\": 0.21920545399188995,\n",
            "    \"ndcg_30\": 0.2300885021686554,\n",
            "    \"ndcg_40\": 0.237698495388031,\n",
            "    \"recall_10\": 0.22304201126098633,\n",
            "    \"recall_20\": 0.2878381013870239,\n",
            "    \"recall_30\": 0.3226454555988312,\n",
            "    \"recall_40\": 0.34711557626724243\n",
            "}\n"
          ],
          "name": "stdout"
        },
        {
          "output_type": "stream",
          "text": [
            "validate epoch: 74, validate loss: 0.007731227087788284: 100%|██████████| 16/16 [00:12<00:00,  1.33it/s]\n"
          ],
          "name": "stderr"
        },
        {
          "output_type": "stream",
          "text": [
            "validate metric ...\n"
          ],
          "name": "stdout"
        },
        {
          "output_type": "stream",
          "text": [
            "\r  0%|          | 0/108 [00:00<?, ?it/s]"
          ],
          "name": "stderr"
        },
        {
          "output_type": "stream",
          "text": [
            "{\n",
            "    \"PHR_10\": 0.45121951219512196,\n",
            "    \"PHR_20\": 0.5701219512195121,\n",
            "    \"PHR_30\": 0.6178861788617886,\n",
            "    \"PHR_40\": 0.6615853658536586,\n",
            "    \"ndcg_10\": 0.14200110733509064,\n",
            "    \"ndcg_20\": 0.16443437337875366,\n",
            "    \"ndcg_30\": 0.1741439253091812,\n",
            "    \"ndcg_40\": 0.1823824942111969,\n",
            "    \"recall_10\": 0.16515730321407318,\n",
            "    \"recall_20\": 0.23271413147449493,\n",
            "    \"recall_30\": 0.262150377035141,\n",
            "    \"recall_40\": 0.2890484929084778\n",
            "}\n"
          ],
          "name": "stdout"
        },
        {
          "output_type": "stream",
          "text": [
            "train epoch: 75, train loss: 0.007134930812753737: 100%|██████████| 108/108 [02:35<00:00,  1.44s/it]\n"
          ],
          "name": "stderr"
        },
        {
          "output_type": "stream",
          "text": [
            "train metric ...\n"
          ],
          "name": "stdout"
        },
        {
          "output_type": "stream",
          "text": [
            "\r  0%|          | 0/16 [00:00<?, ?it/s]"
          ],
          "name": "stderr"
        },
        {
          "output_type": "stream",
          "text": [
            "{\n",
            "    \"PHR_10\": 0.5497967479674797,\n",
            "    \"PHR_20\": 0.6385017421602788,\n",
            "    \"PHR_30\": 0.6820557491289199,\n",
            "    \"PHR_40\": 0.7078977932636469,\n",
            "    \"ndcg_10\": 0.2006016969680786,\n",
            "    \"ndcg_20\": 0.21940772235393524,\n",
            "    \"ndcg_30\": 0.23055073618888855,\n",
            "    \"ndcg_40\": 0.23821495473384857,\n",
            "    \"recall_10\": 0.2226732075214386,\n",
            "    \"recall_20\": 0.2872675955295563,\n",
            "    \"recall_30\": 0.32276472449302673,\n",
            "    \"recall_40\": 0.3476460874080658\n",
            "}\n"
          ],
          "name": "stdout"
        },
        {
          "output_type": "stream",
          "text": [
            "validate epoch: 75, validate loss: 0.00770504045067355: 100%|██████████| 16/16 [00:12<00:00,  1.33it/s]\n"
          ],
          "name": "stderr"
        },
        {
          "output_type": "stream",
          "text": [
            "validate metric ...\n"
          ],
          "name": "stdout"
        },
        {
          "output_type": "stream",
          "text": [
            "\r  0%|          | 0/108 [00:00<?, ?it/s]"
          ],
          "name": "stderr"
        },
        {
          "output_type": "stream",
          "text": [
            "{\n",
            "    \"PHR_10\": 0.4491869918699187,\n",
            "    \"PHR_20\": 0.568089430894309,\n",
            "    \"PHR_30\": 0.6199186991869918,\n",
            "    \"PHR_40\": 0.6646341463414634,\n",
            "    \"ndcg_10\": 0.1421511024236679,\n",
            "    \"ndcg_20\": 0.1650717705488205,\n",
            "    \"ndcg_30\": 0.17511820793151855,\n",
            "    \"ndcg_40\": 0.1837124526500702,\n",
            "    \"recall_10\": 0.1626681238412857,\n",
            "    \"recall_20\": 0.23129741847515106,\n",
            "    \"recall_30\": 0.26186293363571167,\n",
            "    \"recall_40\": 0.28965649008750916\n",
            "}\n"
          ],
          "name": "stdout"
        },
        {
          "output_type": "stream",
          "text": [
            "train epoch: 76, train loss: 0.007130550168868568: 100%|██████████| 108/108 [02:33<00:00,  1.42s/it]\n"
          ],
          "name": "stderr"
        },
        {
          "output_type": "stream",
          "text": [
            "train metric ...\n"
          ],
          "name": "stdout"
        },
        {
          "output_type": "stream",
          "text": [
            "\r  0%|          | 0/16 [00:00<?, ?it/s]"
          ],
          "name": "stderr"
        },
        {
          "output_type": "stream",
          "text": [
            "{\n",
            "    \"PHR_10\": 0.5534262485481998,\n",
            "    \"PHR_20\": 0.6406794425087108,\n",
            "    \"PHR_30\": 0.6830720092915215,\n",
            "    \"PHR_40\": 0.7078977932636469,\n",
            "    \"ndcg_10\": 0.20108097791671753,\n",
            "    \"ndcg_20\": 0.21996229887008667,\n",
            "    \"ndcg_30\": 0.23102189600467682,\n",
            "    \"ndcg_40\": 0.23846469819545746,\n",
            "    \"recall_10\": 0.22243832051753998,\n",
            "    \"recall_20\": 0.28777745366096497,\n",
            "    \"recall_30\": 0.3230983316898346,\n",
            "    \"recall_40\": 0.34692254662513733\n",
            "}\n"
          ],
          "name": "stdout"
        },
        {
          "output_type": "stream",
          "text": [
            "validate epoch: 76, validate loss: 0.007728484022663906: 100%|██████████| 16/16 [00:12<00:00,  1.33it/s]\n"
          ],
          "name": "stderr"
        },
        {
          "output_type": "stream",
          "text": [
            "validate metric ...\n"
          ],
          "name": "stdout"
        },
        {
          "output_type": "stream",
          "text": [
            "\r  0%|          | 0/108 [00:00<?, ?it/s]"
          ],
          "name": "stderr"
        },
        {
          "output_type": "stream",
          "text": [
            "{\n",
            "    \"PHR_10\": 0.45426829268292684,\n",
            "    \"PHR_20\": 0.5650406504065041,\n",
            "    \"PHR_30\": 0.625,\n",
            "    \"PHR_40\": 0.6646341463414634,\n",
            "    \"ndcg_10\": 0.1436871439218521,\n",
            "    \"ndcg_20\": 0.16435740888118744,\n",
            "    \"ndcg_30\": 0.1754450500011444,\n",
            "    \"ndcg_40\": 0.18346740305423737,\n",
            "    \"recall_10\": 0.16676104068756104,\n",
            "    \"recall_20\": 0.2295580357313156,\n",
            "    \"recall_30\": 0.26347461342811584,\n",
            "    \"recall_40\": 0.2893041670322418\n",
            "}\n"
          ],
          "name": "stdout"
        },
        {
          "output_type": "stream",
          "text": [
            "train epoch: 77, train loss: 0.007125852120764277: 100%|██████████| 108/108 [02:34<00:00,  1.44s/it]\n"
          ],
          "name": "stderr"
        },
        {
          "output_type": "stream",
          "text": [
            "train metric ...\n"
          ],
          "name": "stdout"
        },
        {
          "output_type": "stream",
          "text": [
            "\r  0%|          | 0/16 [00:00<?, ?it/s]"
          ],
          "name": "stderr"
        },
        {
          "output_type": "stream",
          "text": [
            "{\n",
            "    \"PHR_10\": 0.5550232288037166,\n",
            "    \"PHR_20\": 0.6434378629500581,\n",
            "    \"PHR_30\": 0.6835075493612079,\n",
            "    \"PHR_40\": 0.7084785133565621,\n",
            "    \"ndcg_10\": 0.2019815593957901,\n",
            "    \"ndcg_20\": 0.2207757830619812,\n",
            "    \"ndcg_30\": 0.23154042661190033,\n",
            "    \"ndcg_40\": 0.239151731133461,\n",
            "    \"recall_10\": 0.22365021705627441,\n",
            "    \"recall_20\": 0.28888580203056335,\n",
            "    \"recall_30\": 0.3229636251926422,\n",
            "    \"recall_40\": 0.34767284989356995\n",
            "}\n"
          ],
          "name": "stdout"
        },
        {
          "output_type": "stream",
          "text": [
            "validate epoch: 77, validate loss: 0.00774822203675285: 100%|██████████| 16/16 [00:12<00:00,  1.33it/s]\n"
          ],
          "name": "stderr"
        },
        {
          "output_type": "stream",
          "text": [
            "validate metric ...\n"
          ],
          "name": "stdout"
        },
        {
          "output_type": "stream",
          "text": [
            "\r  0%|          | 0/108 [00:00<?, ?it/s]"
          ],
          "name": "stderr"
        },
        {
          "output_type": "stream",
          "text": [
            "{\n",
            "    \"PHR_10\": 0.4532520325203252,\n",
            "    \"PHR_20\": 0.5650406504065041,\n",
            "    \"PHR_30\": 0.6229674796747967,\n",
            "    \"PHR_40\": 0.665650406504065,\n",
            "    \"ndcg_10\": 0.14242660999298096,\n",
            "    \"ndcg_20\": 0.16351893544197083,\n",
            "    \"ndcg_30\": 0.17412498593330383,\n",
            "    \"ndcg_40\": 0.18235979974269867,\n",
            "    \"recall_10\": 0.16518786549568176,\n",
            "    \"recall_20\": 0.22993920743465424,\n",
            "    \"recall_30\": 0.26291516423225403,\n",
            "    \"recall_40\": 0.2889135777950287\n",
            "}\n"
          ],
          "name": "stdout"
        },
        {
          "output_type": "stream",
          "text": [
            "train epoch: 78, train loss: 0.00712252775621083: 100%|██████████| 108/108 [02:35<00:00,  1.44s/it]\n"
          ],
          "name": "stderr"
        },
        {
          "output_type": "stream",
          "text": [
            "train metric ...\n"
          ],
          "name": "stdout"
        },
        {
          "output_type": "stream",
          "text": [
            "\r  0%|          | 0/16 [00:00<?, ?it/s]"
          ],
          "name": "stderr"
        },
        {
          "output_type": "stream",
          "text": [
            "{\n",
            "    \"PHR_10\": 0.5563298490127758,\n",
            "    \"PHR_20\": 0.6409698025551684,\n",
            "    \"PHR_30\": 0.6833623693379791,\n",
            "    \"PHR_40\": 0.7089140534262486,\n",
            "    \"ndcg_10\": 0.20365166664123535,\n",
            "    \"ndcg_20\": 0.22163228690624237,\n",
            "    \"ndcg_30\": 0.23266485333442688,\n",
            "    \"ndcg_40\": 0.2403968721628189,\n",
            "    \"recall_10\": 0.22507424652576447,\n",
            "    \"recall_20\": 0.2877684533596039,\n",
            "    \"recall_30\": 0.3229247033596039,\n",
            "    \"recall_40\": 0.34811434149742126\n",
            "}\n"
          ],
          "name": "stdout"
        },
        {
          "output_type": "stream",
          "text": [
            "validate epoch: 78, validate loss: 0.007798076083417982: 100%|██████████| 16/16 [00:12<00:00,  1.32it/s]\n"
          ],
          "name": "stderr"
        },
        {
          "output_type": "stream",
          "text": [
            "validate metric ...\n"
          ],
          "name": "stdout"
        },
        {
          "output_type": "stream",
          "text": [
            "\r  0%|          | 0/108 [00:00<?, ?it/s]"
          ],
          "name": "stderr"
        },
        {
          "output_type": "stream",
          "text": [
            "{\n",
            "    \"PHR_10\": 0.45223577235772355,\n",
            "    \"PHR_20\": 0.5619918699186992,\n",
            "    \"PHR_30\": 0.6229674796747967,\n",
            "    \"PHR_40\": 0.6615853658536586,\n",
            "    \"ndcg_10\": 0.14170412719249725,\n",
            "    \"ndcg_20\": 0.1620093435049057,\n",
            "    \"ndcg_30\": 0.17341426014900208,\n",
            "    \"ndcg_40\": 0.1811957210302353,\n",
            "    \"recall_10\": 0.16569972038269043,\n",
            "    \"recall_20\": 0.22818124294281006,\n",
            "    \"recall_30\": 0.2632144093513489,\n",
            "    \"recall_40\": 0.2884399890899658\n",
            "}\n"
          ],
          "name": "stdout"
        },
        {
          "output_type": "stream",
          "text": [
            "train epoch: 79, train loss: 0.007123710781646271: 100%|██████████| 108/108 [02:35<00:00,  1.44s/it]\n"
          ],
          "name": "stderr"
        },
        {
          "output_type": "stream",
          "text": [
            "train metric ...\n"
          ],
          "name": "stdout"
        },
        {
          "output_type": "stream",
          "text": [
            "\r  0%|          | 0/16 [00:00<?, ?it/s]"
          ],
          "name": "stderr"
        },
        {
          "output_type": "stream",
          "text": [
            "{\n",
            "    \"PHR_10\": 0.5554587688734031,\n",
            "    \"PHR_20\": 0.6421312427409989,\n",
            "    \"PHR_30\": 0.6840882694541232,\n",
            "    \"PHR_40\": 0.7089140534262486,\n",
            "    \"ndcg_10\": 0.20351731777191162,\n",
            "    \"ndcg_20\": 0.2217419296503067,\n",
            "    \"ndcg_30\": 0.23270408809185028,\n",
            "    \"ndcg_40\": 0.24025613069534302,\n",
            "    \"recall_10\": 0.22479470074176788,\n",
            "    \"recall_20\": 0.2883016765117645,\n",
            "    \"recall_30\": 0.3231326639652252,\n",
            "    \"recall_40\": 0.3477029800415039\n",
            "}\n"
          ],
          "name": "stdout"
        },
        {
          "output_type": "stream",
          "text": [
            "validate epoch: 79, validate loss: 0.007790087431203574: 100%|██████████| 16/16 [00:12<00:00,  1.32it/s]\n"
          ],
          "name": "stderr"
        },
        {
          "output_type": "stream",
          "text": [
            "validate metric ...\n"
          ],
          "name": "stdout"
        },
        {
          "output_type": "stream",
          "text": [
            "\r  0%|          | 0/108 [00:00<?, ?it/s]"
          ],
          "name": "stderr"
        },
        {
          "output_type": "stream",
          "text": [
            "{\n",
            "    \"PHR_10\": 0.4502032520325203,\n",
            "    \"PHR_20\": 0.5701219512195121,\n",
            "    \"PHR_30\": 0.6189024390243902,\n",
            "    \"PHR_40\": 0.6605691056910569,\n",
            "    \"ndcg_10\": 0.14164815843105316,\n",
            "    \"ndcg_20\": 0.16363538801670074,\n",
            "    \"ndcg_30\": 0.1740286499261856,\n",
            "    \"ndcg_40\": 0.1819467395544052,\n",
            "    \"recall_10\": 0.16410177946090698,\n",
            "    \"recall_20\": 0.23141668736934662,\n",
            "    \"recall_30\": 0.2630865275859833,\n",
            "    \"recall_40\": 0.2886742949485779\n",
            "}\n"
          ],
          "name": "stdout"
        },
        {
          "output_type": "stream",
          "text": [
            "train epoch: 80, train loss: 0.0071612045910485365: 100%|██████████| 108/108 [02:35<00:00,  1.44s/it]\n"
          ],
          "name": "stderr"
        },
        {
          "output_type": "stream",
          "text": [
            "train metric ...\n"
          ],
          "name": "stdout"
        },
        {
          "output_type": "stream",
          "text": [
            "\r  0%|          | 0/16 [00:00<?, ?it/s]"
          ],
          "name": "stderr"
        },
        {
          "output_type": "stream",
          "text": [
            "{\n",
            "    \"PHR_10\": 0.5463124274099884,\n",
            "    \"PHR_20\": 0.6342915214866435,\n",
            "    \"PHR_30\": 0.6798780487804879,\n",
            "    \"PHR_40\": 0.7065911730545877,\n",
            "    \"ndcg_10\": 0.19611915946006775,\n",
            "    \"ndcg_20\": 0.21498098969459534,\n",
            "    \"ndcg_30\": 0.22656884789466858,\n",
            "    \"ndcg_40\": 0.23421123623847961,\n",
            "    \"recall_10\": 0.2194499671459198,\n",
            "    \"recall_20\": 0.28372135758399963,\n",
            "    \"recall_30\": 0.32073718309402466,\n",
            "    \"recall_40\": 0.3452569246292114\n",
            "}\n"
          ],
          "name": "stdout"
        },
        {
          "output_type": "stream",
          "text": [
            "validate epoch: 80, validate loss: 0.007698038447415456: 100%|██████████| 16/16 [00:12<00:00,  1.33it/s]\n"
          ],
          "name": "stderr"
        },
        {
          "output_type": "stream",
          "text": [
            "validate metric ...\n"
          ],
          "name": "stdout"
        },
        {
          "output_type": "stream",
          "text": [
            "\r  0%|          | 0/108 [00:00<?, ?it/s]"
          ],
          "name": "stderr"
        },
        {
          "output_type": "stream",
          "text": [
            "{\n",
            "    \"PHR_10\": 0.45223577235772355,\n",
            "    \"PHR_20\": 0.5701219512195121,\n",
            "    \"PHR_30\": 0.6158536585365854,\n",
            "    \"PHR_40\": 0.6615853658536586,\n",
            "    \"ndcg_10\": 0.14223577082157135,\n",
            "    \"ndcg_20\": 0.16434703767299652,\n",
            "    \"ndcg_30\": 0.17534102499485016,\n",
            "    \"ndcg_40\": 0.18324442207813263,\n",
            "    \"recall_10\": 0.16466419398784637,\n",
            "    \"recall_20\": 0.23066051304340363,\n",
            "    \"recall_30\": 0.26416754722595215,\n",
            "    \"recall_40\": 0.290485143661499\n",
            "}\n"
          ],
          "name": "stdout"
        },
        {
          "output_type": "stream",
          "text": [
            "train epoch: 81, train loss: 0.007155080653589081: 100%|██████████| 108/108 [02:35<00:00,  1.44s/it]\n"
          ],
          "name": "stderr"
        },
        {
          "output_type": "stream",
          "text": [
            "train metric ...\n"
          ],
          "name": "stdout"
        },
        {
          "output_type": "stream",
          "text": [
            "\r  0%|          | 0/16 [00:00<?, ?it/s]"
          ],
          "name": "stderr"
        },
        {
          "output_type": "stream",
          "text": [
            "{\n",
            "    \"PHR_10\": 0.5432636469221835,\n",
            "    \"PHR_20\": 0.6350174216027874,\n",
            "    \"PHR_30\": 0.6798780487804879,\n",
            "    \"PHR_40\": 0.7068815331010453,\n",
            "    \"ndcg_10\": 0.1951036900281906,\n",
            "    \"ndcg_20\": 0.21489858627319336,\n",
            "    \"ndcg_30\": 0.22622880339622498,\n",
            "    \"ndcg_40\": 0.2341129034757614,\n",
            "    \"recall_10\": 0.2180744707584381,\n",
            "    \"recall_20\": 0.28504106402397156,\n",
            "    \"recall_30\": 0.32114848494529724,\n",
            "    \"recall_40\": 0.34648850560188293\n",
            "}\n"
          ],
          "name": "stdout"
        },
        {
          "output_type": "stream",
          "text": [
            "validate epoch: 81, validate loss: 0.007689838792430237: 100%|██████████| 16/16 [00:12<00:00,  1.32it/s]\n"
          ],
          "name": "stderr"
        },
        {
          "output_type": "stream",
          "text": [
            "validate metric ...\n"
          ],
          "name": "stdout"
        },
        {
          "output_type": "stream",
          "text": [
            "\r  0%|          | 0/108 [00:00<?, ?it/s]"
          ],
          "name": "stderr"
        },
        {
          "output_type": "stream",
          "text": [
            "{\n",
            "    \"PHR_10\": 0.4563008130081301,\n",
            "    \"PHR_20\": 0.573170731707317,\n",
            "    \"PHR_30\": 0.6189024390243902,\n",
            "    \"PHR_40\": 0.6615853658536586,\n",
            "    \"ndcg_10\": 0.1464046835899353,\n",
            "    \"ndcg_20\": 0.16779783368110657,\n",
            "    \"ndcg_30\": 0.17849819362163544,\n",
            "    \"ndcg_40\": 0.18639130890369415,\n",
            "    \"recall_10\": 0.16746802628040314,\n",
            "    \"recall_20\": 0.2304917871952057,\n",
            "    \"recall_30\": 0.26290205121040344,\n",
            "    \"recall_40\": 0.28920620679855347\n",
            "}\n"
          ],
          "name": "stdout"
        },
        {
          "output_type": "stream",
          "text": [
            "train epoch: 82, train loss: 0.007146037675233351: 100%|██████████| 108/108 [02:35<00:00,  1.44s/it]\n"
          ],
          "name": "stderr"
        },
        {
          "output_type": "stream",
          "text": [
            "train metric ...\n"
          ],
          "name": "stdout"
        },
        {
          "output_type": "stream",
          "text": [
            "\r  0%|          | 0/16 [00:00<?, ?it/s]"
          ],
          "name": "stderr"
        },
        {
          "output_type": "stream",
          "text": [
            "{\n",
            "    \"PHR_10\": 0.5471835075493612,\n",
            "    \"PHR_20\": 0.6354529616724739,\n",
            "    \"PHR_30\": 0.6813298490127758,\n",
            "    \"PHR_40\": 0.707171893147503,\n",
            "    \"ndcg_10\": 0.19735871255397797,\n",
            "    \"ndcg_20\": 0.21635982394218445,\n",
            "    \"ndcg_30\": 0.22773806750774384,\n",
            "    \"ndcg_40\": 0.23538178205490112,\n",
            "    \"recall_10\": 0.2204674482345581,\n",
            "    \"recall_20\": 0.2854137122631073,\n",
            "    \"recall_30\": 0.3216000199317932,\n",
            "    \"recall_40\": 0.3461054265499115\n",
            "}\n"
          ],
          "name": "stdout"
        },
        {
          "output_type": "stream",
          "text": [
            "validate epoch: 82, validate loss: 0.007698821602389216: 100%|██████████| 16/16 [00:12<00:00,  1.32it/s]\n"
          ],
          "name": "stderr"
        },
        {
          "output_type": "stream",
          "text": [
            "validate metric ...\n"
          ],
          "name": "stdout"
        },
        {
          "output_type": "stream",
          "text": [
            "\r  0%|          | 0/108 [00:00<?, ?it/s]"
          ],
          "name": "stderr"
        },
        {
          "output_type": "stream",
          "text": [
            "{\n",
            "    \"PHR_10\": 0.4532520325203252,\n",
            "    \"PHR_20\": 0.5762195121951219,\n",
            "    \"PHR_30\": 0.6219512195121951,\n",
            "    \"PHR_40\": 0.6626016260162602,\n",
            "    \"ndcg_10\": 0.14385978877544403,\n",
            "    \"ndcg_20\": 0.1661553978919983,\n",
            "    \"ndcg_30\": 0.17688573896884918,\n",
            "    \"ndcg_40\": 0.18520741164684296,\n",
            "    \"recall_10\": 0.1644764393568039,\n",
            "    \"recall_20\": 0.2305285632610321,\n",
            "    \"recall_30\": 0.2622489035129547,\n",
            "    \"recall_40\": 0.2899012863636017\n",
            "}\n"
          ],
          "name": "stdout"
        },
        {
          "output_type": "stream",
          "text": [
            "train epoch: 83, train loss: 0.007140074727228946: 100%|██████████| 108/108 [02:35<00:00,  1.44s/it]\n"
          ],
          "name": "stderr"
        },
        {
          "output_type": "stream",
          "text": [
            "train metric ...\n"
          ],
          "name": "stdout"
        },
        {
          "output_type": "stream",
          "text": [
            "\r  0%|          | 0/16 [00:00<?, ?it/s]"
          ],
          "name": "stderr"
        },
        {
          "output_type": "stream",
          "text": [
            "{\n",
            "    \"PHR_10\": 0.5499419279907085,\n",
            "    \"PHR_20\": 0.6357433217189314,\n",
            "    \"PHR_30\": 0.6817653890824622,\n",
            "    \"PHR_40\": 0.7078977932636469,\n",
            "    \"ndcg_10\": 0.199229434132576,\n",
            "    \"ndcg_20\": 0.21806550025939941,\n",
            "    \"ndcg_30\": 0.22930331528186798,\n",
            "    \"ndcg_40\": 0.23712655901908875,\n",
            "    \"recall_10\": 0.22117368876934052,\n",
            "    \"recall_20\": 0.28580033779144287,\n",
            "    \"recall_30\": 0.32139256596565247,\n",
            "    \"recall_40\": 0.34671977162361145\n",
            "}\n"
          ],
          "name": "stdout"
        },
        {
          "output_type": "stream",
          "text": [
            "validate epoch: 83, validate loss: 0.007711034966632724: 100%|██████████| 16/16 [00:12<00:00,  1.33it/s]\n"
          ],
          "name": "stderr"
        },
        {
          "output_type": "stream",
          "text": [
            "validate metric ...\n"
          ],
          "name": "stdout"
        },
        {
          "output_type": "stream",
          "text": [
            "\r  0%|          | 0/108 [00:00<?, ?it/s]"
          ],
          "name": "stderr"
        },
        {
          "output_type": "stream",
          "text": [
            "{\n",
            "    \"PHR_10\": 0.45528455284552843,\n",
            "    \"PHR_20\": 0.5752032520325203,\n",
            "    \"PHR_30\": 0.6138211382113821,\n",
            "    \"PHR_40\": 0.6585365853658537,\n",
            "    \"ndcg_10\": 0.1440190225839615,\n",
            "    \"ndcg_20\": 0.16583052277565002,\n",
            "    \"ndcg_30\": 0.17535404860973358,\n",
            "    \"ndcg_40\": 0.18366670608520508,\n",
            "    \"recall_10\": 0.16662131249904633,\n",
            "    \"recall_20\": 0.23150363564491272,\n",
            "    \"recall_30\": 0.25970903038978577,\n",
            "    \"recall_40\": 0.2874945104122162\n",
            "}\n"
          ],
          "name": "stdout"
        },
        {
          "output_type": "stream",
          "text": [
            "train epoch: 84, train loss: 0.007132324933384855: 100%|██████████| 108/108 [02:35<00:00,  1.44s/it]\n"
          ],
          "name": "stderr"
        },
        {
          "output_type": "stream",
          "text": [
            "train metric ...\n"
          ],
          "name": "stdout"
        },
        {
          "output_type": "stream",
          "text": [
            "\r  0%|          | 0/16 [00:00<?, ?it/s]"
          ],
          "name": "stderr"
        },
        {
          "output_type": "stream",
          "text": [
            "{\n",
            "    \"PHR_10\": 0.5541521486643438,\n",
            "    \"PHR_20\": 0.6377758420441347,\n",
            "    \"PHR_30\": 0.6810394889663183,\n",
            "    \"PHR_40\": 0.7070267131242741,\n",
            "    \"ndcg_10\": 0.2015937864780426,\n",
            "    \"ndcg_20\": 0.21987015008926392,\n",
            "    \"ndcg_30\": 0.23091799020767212,\n",
            "    \"ndcg_40\": 0.2384558618068695,\n",
            "    \"recall_10\": 0.2235701084136963,\n",
            "    \"recall_20\": 0.28705379366874695,\n",
            "    \"recall_30\": 0.32176080346107483,\n",
            "    \"recall_40\": 0.3463798761367798\n",
            "}\n"
          ],
          "name": "stdout"
        },
        {
          "output_type": "stream",
          "text": [
            "validate epoch: 84, validate loss: 0.007724005816271529: 100%|██████████| 16/16 [00:12<00:00,  1.32it/s]\n"
          ],
          "name": "stderr"
        },
        {
          "output_type": "stream",
          "text": [
            "validate metric ...\n"
          ],
          "name": "stdout"
        },
        {
          "output_type": "stream",
          "text": [
            "\r  0%|          | 0/108 [00:00<?, ?it/s]"
          ],
          "name": "stderr"
        },
        {
          "output_type": "stream",
          "text": [
            "{\n",
            "    \"PHR_10\": 0.4481707317073171,\n",
            "    \"PHR_20\": 0.5741869918699187,\n",
            "    \"PHR_30\": 0.6178861788617886,\n",
            "    \"PHR_40\": 0.6595528455284553,\n",
            "    \"ndcg_10\": 0.14040900766849518,\n",
            "    \"ndcg_20\": 0.1639760583639145,\n",
            "    \"ndcg_30\": 0.17413808405399323,\n",
            "    \"ndcg_40\": 0.1826583296060562,\n",
            "    \"recall_10\": 0.16087022423744202,\n",
            "    \"recall_20\": 0.23083026707172394,\n",
            "    \"recall_30\": 0.26153820753097534,\n",
            "    \"recall_40\": 0.2903931736946106\n",
            "}\n"
          ],
          "name": "stdout"
        },
        {
          "output_type": "stream",
          "text": [
            "train epoch: 85, train loss: 0.0071350660916693785: 100%|██████████| 108/108 [02:35<00:00,  1.44s/it]\n"
          ],
          "name": "stderr"
        },
        {
          "output_type": "stream",
          "text": [
            "train metric ...\n"
          ],
          "name": "stdout"
        },
        {
          "output_type": "stream",
          "text": [
            "\r  0%|          | 0/16 [00:00<?, ?it/s]"
          ],
          "name": "stderr"
        },
        {
          "output_type": "stream",
          "text": [
            "{\n",
            "    \"PHR_10\": 0.5506678281068524,\n",
            "    \"PHR_20\": 0.6386469221835076,\n",
            "    \"PHR_30\": 0.6817653890824622,\n",
            "    \"PHR_40\": 0.7076074332171893,\n",
            "    \"ndcg_10\": 0.20104382932186127,\n",
            "    \"ndcg_20\": 0.21986380219459534,\n",
            "    \"ndcg_30\": 0.23072873055934906,\n",
            "    \"ndcg_40\": 0.23843249678611755,\n",
            "    \"recall_10\": 0.22241657972335815,\n",
            "    \"recall_20\": 0.2871035635471344,\n",
            "    \"recall_30\": 0.3213871419429779,\n",
            "    \"recall_40\": 0.34628644585609436\n",
            "}\n"
          ],
          "name": "stdout"
        },
        {
          "output_type": "stream",
          "text": [
            "validate epoch: 85, validate loss: 0.0077157774940133095: 100%|██████████| 16/16 [00:12<00:00,  1.32it/s]\n"
          ],
          "name": "stderr"
        },
        {
          "output_type": "stream",
          "text": [
            "validate metric ...\n"
          ],
          "name": "stdout"
        },
        {
          "output_type": "stream",
          "text": [
            "\r  0%|          | 0/108 [00:00<?, ?it/s]"
          ],
          "name": "stderr"
        },
        {
          "output_type": "stream",
          "text": [
            "{\n",
            "    \"PHR_10\": 0.4481707317073171,\n",
            "    \"PHR_20\": 0.5691056910569106,\n",
            "    \"PHR_30\": 0.6209349593495935,\n",
            "    \"PHR_40\": 0.6585365853658537,\n",
            "    \"ndcg_10\": 0.14102400839328766,\n",
            "    \"ndcg_20\": 0.16351549327373505,\n",
            "    \"ndcg_30\": 0.1737697422504425,\n",
            "    \"ndcg_40\": 0.18193621933460236,\n",
            "    \"recall_10\": 0.16306555271148682,\n",
            "    \"recall_20\": 0.22989782691001892,\n",
            "    \"recall_30\": 0.26071059703826904,\n",
            "    \"recall_40\": 0.2870731055736542\n",
            "}\n"
          ],
          "name": "stdout"
        },
        {
          "output_type": "stream",
          "text": [
            "train epoch: 86, train loss: 0.007131114093310855: 100%|██████████| 108/108 [02:35<00:00,  1.44s/it]\n"
          ],
          "name": "stderr"
        },
        {
          "output_type": "stream",
          "text": [
            "train metric ...\n"
          ],
          "name": "stdout"
        },
        {
          "output_type": "stream",
          "text": [
            "\r  0%|          | 0/16 [00:00<?, ?it/s]"
          ],
          "name": "stderr"
        },
        {
          "output_type": "stream",
          "text": [
            "{\n",
            "    \"PHR_10\": 0.5516840882694541,\n",
            "    \"PHR_20\": 0.6376306620209059,\n",
            "    \"PHR_30\": 0.6816202090592335,\n",
            "    \"PHR_40\": 0.7087688734030198,\n",
            "    \"ndcg_10\": 0.20153044164180756,\n",
            "    \"ndcg_20\": 0.2200484275817871,\n",
            "    \"ndcg_30\": 0.23099453747272491,\n",
            "    \"ndcg_40\": 0.238758847117424,\n",
            "    \"recall_10\": 0.22300955653190613,\n",
            "    \"recall_20\": 0.2871873080730438,\n",
            "    \"recall_30\": 0.3215881884098053,\n",
            "    \"recall_40\": 0.347002238035202\n",
            "}\n"
          ],
          "name": "stdout"
        },
        {
          "output_type": "stream",
          "text": [
            "validate epoch: 86, validate loss: 0.0077289825421758: 100%|██████████| 16/16 [00:12<00:00,  1.33it/s]\n"
          ],
          "name": "stderr"
        },
        {
          "output_type": "stream",
          "text": [
            "validate metric ...\n"
          ],
          "name": "stdout"
        },
        {
          "output_type": "stream",
          "text": [
            "\r  0%|          | 0/108 [00:00<?, ?it/s]"
          ],
          "name": "stderr"
        },
        {
          "output_type": "stream",
          "text": [
            "{\n",
            "    \"PHR_10\": 0.4481707317073171,\n",
            "    \"PHR_20\": 0.5691056910569106,\n",
            "    \"PHR_30\": 0.6178861788617886,\n",
            "    \"PHR_40\": 0.6595528455284553,\n",
            "    \"ndcg_10\": 0.1407894492149353,\n",
            "    \"ndcg_20\": 0.16321590542793274,\n",
            "    \"ndcg_30\": 0.17383503913879395,\n",
            "    \"ndcg_40\": 0.18204443156719208,\n",
            "    \"recall_10\": 0.16140146553516388,\n",
            "    \"recall_20\": 0.22916214168071747,\n",
            "    \"recall_30\": 0.2613637447357178,\n",
            "    \"recall_40\": 0.2883750796318054\n",
            "}\n"
          ],
          "name": "stdout"
        },
        {
          "output_type": "stream",
          "text": [
            "train epoch: 87, train loss: 0.007125628167866833: 100%|██████████| 108/108 [02:35<00:00,  1.44s/it]\n"
          ],
          "name": "stderr"
        },
        {
          "output_type": "stream",
          "text": [
            "train metric ...\n"
          ],
          "name": "stdout"
        },
        {
          "output_type": "stream",
          "text": [
            "\r  0%|          | 0/16 [00:00<?, ?it/s]"
          ],
          "name": "stderr"
        },
        {
          "output_type": "stream",
          "text": [
            "{\n",
            "    \"PHR_10\": 0.5541521486643438,\n",
            "    \"PHR_20\": 0.639082462253194,\n",
            "    \"PHR_30\": 0.6827816492450639,\n",
            "    \"PHR_40\": 0.7074622531939605,\n",
            "    \"ndcg_10\": 0.20300248265266418,\n",
            "    \"ndcg_20\": 0.22135058045387268,\n",
            "    \"ndcg_30\": 0.2322070151567459,\n",
            "    \"ndcg_40\": 0.2396513670682907,\n",
            "    \"recall_10\": 0.2242652177810669,\n",
            "    \"recall_20\": 0.28802233934402466,\n",
            "    \"recall_30\": 0.32240864634513855,\n",
            "    \"recall_40\": 0.34652188420295715\n",
            "}\n"
          ],
          "name": "stdout"
        },
        {
          "output_type": "stream",
          "text": [
            "validate epoch: 87, validate loss: 0.007733849139185622: 100%|██████████| 16/16 [00:12<00:00,  1.33it/s]\n"
          ],
          "name": "stderr"
        },
        {
          "output_type": "stream",
          "text": [
            "validate metric ...\n"
          ],
          "name": "stdout"
        },
        {
          "output_type": "stream",
          "text": [
            "\r  0%|          | 0/108 [00:00<?, ?it/s]"
          ],
          "name": "stderr"
        },
        {
          "output_type": "stream",
          "text": [
            "{\n",
            "    \"PHR_10\": 0.4481707317073171,\n",
            "    \"PHR_20\": 0.5711382113821138,\n",
            "    \"PHR_30\": 0.6148373983739838,\n",
            "    \"PHR_40\": 0.6565040650406504,\n",
            "    \"ndcg_10\": 0.14163872599601746,\n",
            "    \"ndcg_20\": 0.16455623507499695,\n",
            "    \"ndcg_30\": 0.17454154789447784,\n",
            "    \"ndcg_40\": 0.1832810640335083,\n",
            "    \"recall_10\": 0.16128820180892944,\n",
            "    \"recall_20\": 0.22984954714775085,\n",
            "    \"recall_30\": 0.26005855202674866,\n",
            "    \"recall_40\": 0.28914889693260193\n",
            "}\n"
          ],
          "name": "stdout"
        },
        {
          "output_type": "stream",
          "text": [
            "train epoch: 88, train loss: 0.007121743867173791: 100%|██████████| 108/108 [02:35<00:00,  1.44s/it]\n"
          ],
          "name": "stderr"
        },
        {
          "output_type": "stream",
          "text": [
            "train metric ...\n"
          ],
          "name": "stdout"
        },
        {
          "output_type": "stream",
          "text": [
            "\r  0%|          | 0/16 [00:00<?, ?it/s]"
          ],
          "name": "stderr"
        },
        {
          "output_type": "stream",
          "text": [
            "{\n",
            "    \"PHR_10\": 0.5551684088269454,\n",
            "    \"PHR_20\": 0.6411149825783972,\n",
            "    \"PHR_30\": 0.6833623693379791,\n",
            "    \"PHR_40\": 0.7086236933797909,\n",
            "    \"ndcg_10\": 0.203901007771492,\n",
            "    \"ndcg_20\": 0.22238843142986298,\n",
            "    \"ndcg_30\": 0.23318204283714294,\n",
            "    \"ndcg_40\": 0.24062635004520416,\n",
            "    \"recall_10\": 0.22441841661930084,\n",
            "    \"recall_20\": 0.28887033462524414,\n",
            "    \"recall_30\": 0.32295167446136475,\n",
            "    \"recall_40\": 0.3470357358455658\n",
            "}\n"
          ],
          "name": "stdout"
        },
        {
          "output_type": "stream",
          "text": [
            "validate epoch: 88, validate loss: 0.007740207511233166: 100%|██████████| 16/16 [00:12<00:00,  1.33it/s]\n"
          ],
          "name": "stderr"
        },
        {
          "output_type": "stream",
          "text": [
            "validate metric ...\n"
          ],
          "name": "stdout"
        },
        {
          "output_type": "stream",
          "text": [
            "\r  0%|          | 0/108 [00:00<?, ?it/s]"
          ],
          "name": "stderr"
        },
        {
          "output_type": "stream",
          "text": [
            "{\n",
            "    \"PHR_10\": 0.4491869918699187,\n",
            "    \"PHR_20\": 0.5721544715447154,\n",
            "    \"PHR_30\": 0.6219512195121951,\n",
            "    \"PHR_40\": 0.6595528455284553,\n",
            "    \"ndcg_10\": 0.1414642184972763,\n",
            "    \"ndcg_20\": 0.1640566736459732,\n",
            "    \"ndcg_30\": 0.17433135211467743,\n",
            "    \"ndcg_40\": 0.18275216221809387,\n",
            "    \"recall_10\": 0.1632222682237625,\n",
            "    \"recall_20\": 0.23080603778362274,\n",
            "    \"recall_30\": 0.26208972930908203,\n",
            "    \"recall_40\": 0.2900824546813965\n",
            "}\n"
          ],
          "name": "stdout"
        },
        {
          "output_type": "stream",
          "text": [
            "train epoch: 89, train loss: 0.007120496649467559: 100%|██████████| 108/108 [02:35<00:00,  1.44s/it]\n"
          ],
          "name": "stderr"
        },
        {
          "output_type": "stream",
          "text": [
            "train metric ...\n"
          ],
          "name": "stdout"
        },
        {
          "output_type": "stream",
          "text": [
            "\r  0%|          | 0/16 [00:00<?, ?it/s]"
          ],
          "name": "stderr"
        },
        {
          "output_type": "stream",
          "text": [
            "{\n",
            "    \"PHR_10\": 0.5570557491289199,\n",
            "    \"PHR_20\": 0.6408246225319396,\n",
            "    \"PHR_30\": 0.6846689895470384,\n",
            "    \"PHR_40\": 0.7083333333333334,\n",
            "    \"ndcg_10\": 0.20417915284633636,\n",
            "    \"ndcg_20\": 0.22232072055339813,\n",
            "    \"ndcg_30\": 0.23337876796722412,\n",
            "    \"ndcg_40\": 0.24074727296829224,\n",
            "    \"recall_10\": 0.22555382549762726,\n",
            "    \"recall_20\": 0.28888586163520813,\n",
            "    \"recall_30\": 0.32390719652175903,\n",
            "    \"recall_40\": 0.34781110286712646\n",
            "}\n"
          ],
          "name": "stdout"
        },
        {
          "output_type": "stream",
          "text": [
            "validate epoch: 89, validate loss: 0.007744704751530662: 100%|██████████| 16/16 [00:12<00:00,  1.33it/s]\n"
          ],
          "name": "stderr"
        },
        {
          "output_type": "stream",
          "text": [
            "validate metric ...\n"
          ],
          "name": "stdout"
        },
        {
          "output_type": "stream",
          "text": [
            "\r  0%|          | 0/108 [00:00<?, ?it/s]"
          ],
          "name": "stderr"
        },
        {
          "output_type": "stream",
          "text": [
            "{\n",
            "    \"PHR_10\": 0.45121951219512196,\n",
            "    \"PHR_20\": 0.5701219512195121,\n",
            "    \"PHR_30\": 0.6148373983739838,\n",
            "    \"PHR_40\": 0.6595528455284553,\n",
            "    \"ndcg_10\": 0.14056554436683655,\n",
            "    \"ndcg_20\": 0.16315360367298126,\n",
            "    \"ndcg_30\": 0.173289492726326,\n",
            "    \"ndcg_40\": 0.18200483918190002,\n",
            "    \"recall_10\": 0.16215024888515472,\n",
            "    \"recall_20\": 0.22981524467468262,\n",
            "    \"recall_30\": 0.259401798248291,\n",
            "    \"recall_40\": 0.28906482458114624\n",
            "}\n"
          ],
          "name": "stdout"
        },
        {
          "output_type": "stream",
          "text": [
            "train epoch: 90, train loss: 0.007115397425540896: 100%|██████████| 108/108 [02:35<00:00,  1.44s/it]\n"
          ],
          "name": "stderr"
        },
        {
          "output_type": "stream",
          "text": [
            "train metric ...\n"
          ],
          "name": "stdout"
        },
        {
          "output_type": "stream",
          "text": [
            "\r  0%|          | 0/16 [00:00<?, ?it/s]"
          ],
          "name": "stderr"
        },
        {
          "output_type": "stream",
          "text": [
            "{\n",
            "    \"PHR_10\": 0.5579268292682927,\n",
            "    \"PHR_20\": 0.6424216027874564,\n",
            "    \"PHR_30\": 0.6837979094076655,\n",
            "    \"PHR_40\": 0.7086236933797909,\n",
            "    \"ndcg_10\": 0.20586898922920227,\n",
            "    \"ndcg_20\": 0.22406958043575287,\n",
            "    \"ndcg_30\": 0.23486484587192535,\n",
            "    \"ndcg_40\": 0.2422446310520172,\n",
            "    \"recall_10\": 0.22551457583904266,\n",
            "    \"recall_20\": 0.2895093262195587,\n",
            "    \"recall_30\": 0.32386136054992676,\n",
            "    \"recall_40\": 0.34777554869651794\n",
            "}\n"
          ],
          "name": "stdout"
        },
        {
          "output_type": "stream",
          "text": [
            "validate epoch: 90, validate loss: 0.007756088132737204: 100%|██████████| 16/16 [00:11<00:00,  1.34it/s]\n"
          ],
          "name": "stderr"
        },
        {
          "output_type": "stream",
          "text": [
            "validate metric ...\n"
          ],
          "name": "stdout"
        },
        {
          "output_type": "stream",
          "text": [
            "\r  0%|          | 0/108 [00:00<?, ?it/s]"
          ],
          "name": "stderr"
        },
        {
          "output_type": "stream",
          "text": [
            "{\n",
            "    \"PHR_10\": 0.4491869918699187,\n",
            "    \"PHR_20\": 0.568089430894309,\n",
            "    \"PHR_30\": 0.6178861788617886,\n",
            "    \"PHR_40\": 0.6585365853658537,\n",
            "    \"ndcg_10\": 0.1395978033542633,\n",
            "    \"ndcg_20\": 0.1619528979063034,\n",
            "    \"ndcg_30\": 0.1729038506746292,\n",
            "    \"ndcg_40\": 0.18121683597564697,\n",
            "    \"recall_10\": 0.16042201220989227,\n",
            "    \"recall_20\": 0.2278287410736084,\n",
            "    \"recall_30\": 0.26098087430000305,\n",
            "    \"recall_40\": 0.28846660256385803\n",
            "}\n"
          ],
          "name": "stdout"
        },
        {
          "output_type": "stream",
          "text": [
            "train epoch: 91, train loss: 0.007113256517590748: 100%|██████████| 108/108 [02:35<00:00,  1.44s/it]\n"
          ],
          "name": "stderr"
        },
        {
          "output_type": "stream",
          "text": [
            "train metric ...\n"
          ],
          "name": "stdout"
        },
        {
          "output_type": "stream",
          "text": [
            "\r  0%|          | 0/16 [00:00<?, ?it/s]"
          ],
          "name": "stderr"
        },
        {
          "output_type": "stream",
          "text": [
            "{\n",
            "    \"PHR_10\": 0.5570557491289199,\n",
            "    \"PHR_20\": 0.6418408826945412,\n",
            "    \"PHR_30\": 0.6843786295005807,\n",
            "    \"PHR_40\": 0.7094947735191638,\n",
            "    \"ndcg_10\": 0.20643272995948792,\n",
            "    \"ndcg_20\": 0.22417336702346802,\n",
            "    \"ndcg_30\": 0.23508599400520325,\n",
            "    \"ndcg_40\": 0.24256712198257446,\n",
            "    \"recall_10\": 0.22642526030540466,\n",
            "    \"recall_20\": 0.2890946865081787,\n",
            "    \"recall_30\": 0.32382047176361084,\n",
            "    \"recall_40\": 0.3481594920158386\n",
            "}\n"
          ],
          "name": "stdout"
        },
        {
          "output_type": "stream",
          "text": [
            "validate epoch: 91, validate loss: 0.00777598941931501: 100%|██████████| 16/16 [00:12<00:00,  1.33it/s]\n"
          ],
          "name": "stderr"
        },
        {
          "output_type": "stream",
          "text": [
            "validate metric ...\n"
          ],
          "name": "stdout"
        },
        {
          "output_type": "stream",
          "text": [
            "\r  0%|          | 0/108 [00:00<?, ?it/s]"
          ],
          "name": "stderr"
        },
        {
          "output_type": "stream",
          "text": [
            "{\n",
            "    \"PHR_10\": 0.4491869918699187,\n",
            "    \"PHR_20\": 0.568089430894309,\n",
            "    \"PHR_30\": 0.616869918699187,\n",
            "    \"PHR_40\": 0.6565040650406504,\n",
            "    \"ndcg_10\": 0.13917112350463867,\n",
            "    \"ndcg_20\": 0.1610809713602066,\n",
            "    \"ndcg_30\": 0.17146937549114227,\n",
            "    \"ndcg_40\": 0.17987433075904846,\n",
            "    \"recall_10\": 0.16122353076934814,\n",
            "    \"recall_20\": 0.22881343960762024,\n",
            "    \"recall_30\": 0.25986164808273315,\n",
            "    \"recall_40\": 0.2874482274055481\n",
            "}\n"
          ],
          "name": "stdout"
        },
        {
          "output_type": "stream",
          "text": [
            "train epoch: 92, train loss: 0.007110993977187684: 100%|██████████| 108/108 [02:35<00:00,  1.44s/it]\n"
          ],
          "name": "stderr"
        },
        {
          "output_type": "stream",
          "text": [
            "train metric ...\n"
          ],
          "name": "stdout"
        },
        {
          "output_type": "stream",
          "text": [
            "\r  0%|          | 0/16 [00:00<?, ?it/s]"
          ],
          "name": "stderr"
        },
        {
          "output_type": "stream",
          "text": [
            "{\n",
            "    \"PHR_10\": 0.561411149825784,\n",
            "    \"PHR_20\": 0.6424216027874564,\n",
            "    \"PHR_30\": 0.6849593495934959,\n",
            "    \"PHR_40\": 0.7087688734030198,\n",
            "    \"ndcg_10\": 0.20751221477985382,\n",
            "    \"ndcg_20\": 0.22514134645462036,\n",
            "    \"ndcg_30\": 0.23598425090312958,\n",
            "    \"ndcg_40\": 0.24326471984386444,\n",
            "    \"recall_10\": 0.22735439240932465,\n",
            "    \"recall_20\": 0.2898584306240082,\n",
            "    \"recall_30\": 0.32430824637413025,\n",
            "    \"recall_40\": 0.3479613959789276\n",
            "}\n"
          ],
          "name": "stdout"
        },
        {
          "output_type": "stream",
          "text": [
            "validate epoch: 92, validate loss: 0.007761287357425317: 100%|██████████| 16/16 [00:12<00:00,  1.33it/s]\n"
          ],
          "name": "stderr"
        },
        {
          "output_type": "stream",
          "text": [
            "validate metric ...\n"
          ],
          "name": "stdout"
        },
        {
          "output_type": "stream",
          "text": [
            "\r  0%|          | 0/108 [00:00<?, ?it/s]"
          ],
          "name": "stderr"
        },
        {
          "output_type": "stream",
          "text": [
            "{\n",
            "    \"PHR_10\": 0.4491869918699187,\n",
            "    \"PHR_20\": 0.5660569105691057,\n",
            "    \"PHR_30\": 0.6128048780487805,\n",
            "    \"PHR_40\": 0.6554878048780488,\n",
            "    \"ndcg_10\": 0.14038436114788055,\n",
            "    \"ndcg_20\": 0.1620132327079773,\n",
            "    \"ndcg_30\": 0.17250114679336548,\n",
            "    \"ndcg_40\": 0.1813497096300125,\n",
            "    \"recall_10\": 0.161689892411232,\n",
            "    \"recall_20\": 0.22676852345466614,\n",
            "    \"recall_30\": 0.2587415874004364,\n",
            "    \"recall_40\": 0.2878161668777466\n",
            "}\n"
          ],
          "name": "stdout"
        },
        {
          "output_type": "stream",
          "text": [
            "train epoch: 93, train loss: 0.007107541422118191: 100%|██████████| 108/108 [02:35<00:00,  1.44s/it]\n"
          ],
          "name": "stderr"
        },
        {
          "output_type": "stream",
          "text": [
            "train metric ...\n"
          ],
          "name": "stdout"
        },
        {
          "output_type": "stream",
          "text": [
            "\r  0%|          | 0/16 [00:00<?, ?it/s]"
          ],
          "name": "stderr"
        },
        {
          "output_type": "stream",
          "text": [
            "{\n",
            "    \"PHR_10\": 0.56068524970964,\n",
            "    \"PHR_20\": 0.6431475029036005,\n",
            "    \"PHR_30\": 0.6858304297328688,\n",
            "    \"PHR_40\": 0.7092044134727061,\n",
            "    \"ndcg_10\": 0.2081281691789627,\n",
            "    \"ndcg_20\": 0.22570723295211792,\n",
            "    \"ndcg_30\": 0.23649346828460693,\n",
            "    \"ndcg_40\": 0.2436882108449936,\n",
            "    \"recall_10\": 0.2276940941810608,\n",
            "    \"recall_20\": 0.29004785418510437,\n",
            "    \"recall_30\": 0.3243168294429779,\n",
            "    \"recall_40\": 0.3476719558238983\n",
            "}\n"
          ],
          "name": "stdout"
        },
        {
          "output_type": "stream",
          "text": [
            "validate epoch: 93, validate loss: 0.007786839239997789: 100%|██████████| 16/16 [00:12<00:00,  1.33it/s]\n"
          ],
          "name": "stderr"
        },
        {
          "output_type": "stream",
          "text": [
            "validate metric ...\n"
          ],
          "name": "stdout"
        },
        {
          "output_type": "stream",
          "text": [
            "\r  0%|          | 0/108 [00:00<?, ?it/s]"
          ],
          "name": "stderr"
        },
        {
          "output_type": "stream",
          "text": [
            "{\n",
            "    \"PHR_10\": 0.44613821138211385,\n",
            "    \"PHR_20\": 0.568089430894309,\n",
            "    \"PHR_30\": 0.6148373983739838,\n",
            "    \"PHR_40\": 0.657520325203252,\n",
            "    \"ndcg_10\": 0.13979636132717133,\n",
            "    \"ndcg_20\": 0.16176198422908783,\n",
            "    \"ndcg_30\": 0.17243358492851257,\n",
            "    \"ndcg_40\": 0.18079032003879547,\n",
            "    \"recall_10\": 0.16062672436237335,\n",
            "    \"recall_20\": 0.22791530191898346,\n",
            "    \"recall_30\": 0.26013919711112976,\n",
            "    \"recall_40\": 0.28794965147972107\n",
            "}\n"
          ],
          "name": "stdout"
        },
        {
          "output_type": "stream",
          "text": [
            "train epoch: 94, train loss: 0.007104859075129584: 100%|██████████| 108/108 [02:35<00:00,  1.44s/it]\n"
          ],
          "name": "stderr"
        },
        {
          "output_type": "stream",
          "text": [
            "train metric ...\n"
          ],
          "name": "stdout"
        },
        {
          "output_type": "stream",
          "text": [
            "\r  0%|          | 0/16 [00:00<?, ?it/s]"
          ],
          "name": "stderr"
        },
        {
          "output_type": "stream",
          "text": [
            "{\n",
            "    \"PHR_10\": 0.5640243902439024,\n",
            "    \"PHR_20\": 0.644163763066202,\n",
            "    \"PHR_30\": 0.6843786295005807,\n",
            "    \"PHR_40\": 0.7102206736353078,\n",
            "    \"ndcg_10\": 0.20903615653514862,\n",
            "    \"ndcg_20\": 0.22647878527641296,\n",
            "    \"ndcg_30\": 0.23714612424373627,\n",
            "    \"ndcg_40\": 0.24458366632461548,\n",
            "    \"recall_10\": 0.22850416600704193,\n",
            "    \"recall_20\": 0.290506511926651,\n",
            "    \"recall_30\": 0.3245859742164612,\n",
            "    \"recall_40\": 0.34878307580947876\n",
            "}\n"
          ],
          "name": "stdout"
        },
        {
          "output_type": "stream",
          "text": [
            "validate epoch: 94, validate loss: 0.0077847104403190315: 100%|██████████| 16/16 [00:12<00:00,  1.31it/s]\n"
          ],
          "name": "stderr"
        },
        {
          "output_type": "stream",
          "text": [
            "validate metric ...\n"
          ],
          "name": "stdout"
        },
        {
          "output_type": "stream",
          "text": [
            "\r  0%|          | 0/108 [00:00<?, ?it/s]"
          ],
          "name": "stderr"
        },
        {
          "output_type": "stream",
          "text": [
            "{\n",
            "    \"PHR_10\": 0.45121951219512196,\n",
            "    \"PHR_20\": 0.5660569105691057,\n",
            "    \"PHR_30\": 0.6138211382113821,\n",
            "    \"PHR_40\": 0.657520325203252,\n",
            "    \"ndcg_10\": 0.14052456617355347,\n",
            "    \"ndcg_20\": 0.16142453253269196,\n",
            "    \"ndcg_30\": 0.17174933850765228,\n",
            "    \"ndcg_40\": 0.18028989434242249,\n",
            "    \"recall_10\": 0.16328610479831696,\n",
            "    \"recall_20\": 0.22809627652168274,\n",
            "    \"recall_30\": 0.2594423294067383,\n",
            "    \"recall_40\": 0.2879975140094757\n",
            "}\n"
          ],
          "name": "stdout"
        },
        {
          "output_type": "stream",
          "text": [
            "train epoch: 95, train loss: 0.00710597371303097: 100%|██████████| 108/108 [02:35<00:00,  1.44s/it]\n"
          ],
          "name": "stderr"
        },
        {
          "output_type": "stream",
          "text": [
            "train metric ...\n"
          ],
          "name": "stdout"
        },
        {
          "output_type": "stream",
          "text": [
            "\r  0%|          | 0/16 [00:00<?, ?it/s]"
          ],
          "name": "stderr"
        },
        {
          "output_type": "stream",
          "text": [
            "{\n",
            "    \"PHR_10\": 0.5622822299651568,\n",
            "    \"PHR_20\": 0.6443089430894309,\n",
            "    \"PHR_30\": 0.6867015098722415,\n",
            "    \"PHR_40\": 0.7097851335656213,\n",
            "    \"ndcg_10\": 0.20888164639472961,\n",
            "    \"ndcg_20\": 0.22631444036960602,\n",
            "    \"ndcg_30\": 0.23708289861679077,\n",
            "    \"ndcg_40\": 0.24435952305793762,\n",
            "    \"recall_10\": 0.22815078496932983,\n",
            "    \"recall_20\": 0.2900867760181427,\n",
            "    \"recall_30\": 0.3241567015647888,\n",
            "    \"recall_40\": 0.3480924963951111\n",
            "}\n"
          ],
          "name": "stdout"
        },
        {
          "output_type": "stream",
          "text": [
            "validate epoch: 95, validate loss: 0.007796767604304478: 100%|██████████| 16/16 [00:12<00:00,  1.33it/s]\n"
          ],
          "name": "stderr"
        },
        {
          "output_type": "stream",
          "text": [
            "validate metric ...\n"
          ],
          "name": "stdout"
        },
        {
          "output_type": "stream",
          "text": [
            "\r  0%|          | 0/108 [00:00<?, ?it/s]"
          ],
          "name": "stderr"
        },
        {
          "output_type": "stream",
          "text": [
            "{\n",
            "    \"PHR_10\": 0.44715447154471544,\n",
            "    \"PHR_20\": 0.5670731707317073,\n",
            "    \"PHR_30\": 0.6107723577235772,\n",
            "    \"PHR_40\": 0.6565040650406504,\n",
            "    \"ndcg_10\": 0.1412832885980606,\n",
            "    \"ndcg_20\": 0.1628081202507019,\n",
            "    \"ndcg_30\": 0.1726960986852646,\n",
            "    \"ndcg_40\": 0.181581050157547,\n",
            "    \"recall_10\": 0.16189928352832794,\n",
            "    \"recall_20\": 0.22836561501026154,\n",
            "    \"recall_30\": 0.2587515115737915,\n",
            "    \"recall_40\": 0.2884059250354767\n",
            "}\n"
          ],
          "name": "stdout"
        },
        {
          "output_type": "stream",
          "text": [
            "train epoch: 96, train loss: 0.007101577491051069: 100%|██████████| 108/108 [02:35<00:00,  1.44s/it]\n"
          ],
          "name": "stderr"
        },
        {
          "output_type": "stream",
          "text": [
            "train metric ...\n"
          ],
          "name": "stdout"
        },
        {
          "output_type": "stream",
          "text": [
            "\r  0%|          | 0/16 [00:00<?, ?it/s]"
          ],
          "name": "stderr"
        },
        {
          "output_type": "stream",
          "text": [
            "{\n",
            "    \"PHR_10\": 0.56431475029036,\n",
            "    \"PHR_20\": 0.6443089430894309,\n",
            "    \"PHR_30\": 0.686411149825784,\n",
            "    \"PHR_40\": 0.7103658536585366,\n",
            "    \"ndcg_10\": 0.2100244015455246,\n",
            "    \"ndcg_20\": 0.22740377485752106,\n",
            "    \"ndcg_30\": 0.2380755990743637,\n",
            "    \"ndcg_40\": 0.24541200697422028,\n",
            "    \"recall_10\": 0.22887194156646729,\n",
            "    \"recall_20\": 0.29066774249076843,\n",
            "    \"recall_30\": 0.3248322308063507,\n",
            "    \"recall_40\": 0.34870225191116333\n",
            "}\n"
          ],
          "name": "stdout"
        },
        {
          "output_type": "stream",
          "text": [
            "validate epoch: 96, validate loss: 0.007761677756207064: 100%|██████████| 16/16 [00:12<00:00,  1.32it/s]\n"
          ],
          "name": "stderr"
        },
        {
          "output_type": "stream",
          "text": [
            "validate metric ...\n"
          ],
          "name": "stdout"
        },
        {
          "output_type": "stream",
          "text": [
            "\r  0%|          | 0/108 [00:00<?, ?it/s]"
          ],
          "name": "stderr"
        },
        {
          "output_type": "stream",
          "text": [
            "{\n",
            "    \"PHR_10\": 0.44715447154471544,\n",
            "    \"PHR_20\": 0.5650406504065041,\n",
            "    \"PHR_30\": 0.6138211382113821,\n",
            "    \"PHR_40\": 0.6554878048780488,\n",
            "    \"ndcg_10\": 0.14132380485534668,\n",
            "    \"ndcg_20\": 0.16187867522239685,\n",
            "    \"ndcg_30\": 0.17256797850131989,\n",
            "    \"ndcg_40\": 0.18099433183670044,\n",
            "    \"recall_10\": 0.1654440015554428,\n",
            "    \"recall_20\": 0.227107971906662,\n",
            "    \"recall_30\": 0.2596384584903717,\n",
            "    \"recall_40\": 0.28750839829444885\n",
            "}\n"
          ],
          "name": "stdout"
        },
        {
          "output_type": "stream",
          "text": [
            "train epoch: 97, train loss: 0.007124723405232308: 100%|██████████| 108/108 [02:35<00:00,  1.44s/it]\n"
          ],
          "name": "stderr"
        },
        {
          "output_type": "stream",
          "text": [
            "train metric ...\n"
          ],
          "name": "stdout"
        },
        {
          "output_type": "stream",
          "text": [
            "\r  0%|          | 0/16 [00:00<?, ?it/s]"
          ],
          "name": "stderr"
        },
        {
          "output_type": "stream",
          "text": [
            "{\n",
            "    \"PHR_10\": 0.5580720092915215,\n",
            "    \"PHR_20\": 0.6416957026713124,\n",
            "    \"PHR_30\": 0.6823461091753774,\n",
            "    \"PHR_40\": 0.7076074332171893,\n",
            "    \"ndcg_10\": 0.20665177702903748,\n",
            "    \"ndcg_20\": 0.22417372465133667,\n",
            "    \"ndcg_30\": 0.23522458970546722,\n",
            "    \"ndcg_40\": 0.24266153573989868,\n",
            "    \"recall_10\": 0.2260478138923645,\n",
            "    \"recall_20\": 0.28789275884628296,\n",
            "    \"recall_30\": 0.32292187213897705,\n",
            "    \"recall_40\": 0.3469995856285095\n",
            "}\n"
          ],
          "name": "stdout"
        },
        {
          "output_type": "stream",
          "text": [
            "validate epoch: 97, validate loss: 0.007761957036564127: 100%|██████████| 16/16 [00:12<00:00,  1.32it/s]\n"
          ],
          "name": "stderr"
        },
        {
          "output_type": "stream",
          "text": [
            "validate metric ...\n"
          ],
          "name": "stdout"
        },
        {
          "output_type": "stream",
          "text": [
            "\r  0%|          | 0/108 [00:00<?, ?it/s]"
          ],
          "name": "stderr"
        },
        {
          "output_type": "stream",
          "text": [
            "{\n",
            "    \"PHR_10\": 0.45528455284552843,\n",
            "    \"PHR_20\": 0.5670731707317073,\n",
            "    \"PHR_30\": 0.6209349593495935,\n",
            "    \"PHR_40\": 0.6585365853658537,\n",
            "    \"ndcg_10\": 0.14110979437828064,\n",
            "    \"ndcg_20\": 0.16216252744197845,\n",
            "    \"ndcg_30\": 0.17305371165275574,\n",
            "    \"ndcg_40\": 0.18110941350460052,\n",
            "    \"recall_10\": 0.1642751544713974,\n",
            "    \"recall_20\": 0.22779351472854614,\n",
            "    \"recall_30\": 0.2611396312713623,\n",
            "    \"recall_40\": 0.28668197989463806\n",
            "}\n"
          ],
          "name": "stdout"
        },
        {
          "output_type": "stream",
          "text": [
            "train epoch: 98, train loss: 0.007116490849983637: 100%|██████████| 108/108 [02:35<00:00,  1.44s/it]\n"
          ],
          "name": "stderr"
        },
        {
          "output_type": "stream",
          "text": [
            "train metric ...\n"
          ],
          "name": "stdout"
        },
        {
          "output_type": "stream",
          "text": [
            "\r  0%|          | 0/16 [00:00<?, ?it/s]"
          ],
          "name": "stderr"
        },
        {
          "output_type": "stream",
          "text": [
            "{\n",
            "    \"PHR_10\": 0.5570557491289199,\n",
            "    \"PHR_20\": 0.6437282229965157,\n",
            "    \"PHR_30\": 0.6833623693379791,\n",
            "    \"PHR_40\": 0.7092044134727061,\n",
            "    \"ndcg_10\": 0.20599113404750824,\n",
            "    \"ndcg_20\": 0.22430363297462463,\n",
            "    \"ndcg_30\": 0.23496277630329132,\n",
            "    \"ndcg_40\": 0.24245573580265045,\n",
            "    \"recall_10\": 0.22585716843605042,\n",
            "    \"recall_20\": 0.2896980941295624,\n",
            "    \"recall_30\": 0.3234598934650421,\n",
            "    \"recall_40\": 0.347879022359848\n",
            "}\n"
          ],
          "name": "stdout"
        },
        {
          "output_type": "stream",
          "text": [
            "validate epoch: 98, validate loss: 0.007760933745885268: 100%|██████████| 16/16 [00:12<00:00,  1.33it/s]\n"
          ],
          "name": "stderr"
        },
        {
          "output_type": "stream",
          "text": [
            "validate metric ...\n"
          ],
          "name": "stdout"
        },
        {
          "output_type": "stream",
          "text": [
            "\r  0%|          | 0/108 [00:00<?, ?it/s]"
          ],
          "name": "stderr"
        },
        {
          "output_type": "stream",
          "text": [
            "{\n",
            "    \"PHR_10\": 0.4400406504065041,\n",
            "    \"PHR_20\": 0.5660569105691057,\n",
            "    \"PHR_30\": 0.6117886178861789,\n",
            "    \"PHR_40\": 0.6565040650406504,\n",
            "    \"ndcg_10\": 0.13941706717014313,\n",
            "    \"ndcg_20\": 0.16136179864406586,\n",
            "    \"ndcg_30\": 0.1717311143875122,\n",
            "    \"ndcg_40\": 0.180436372756958,\n",
            "    \"recall_10\": 0.16031837463378906,\n",
            "    \"recall_20\": 0.22653138637542725,\n",
            "    \"recall_30\": 0.2573492228984833,\n",
            "    \"recall_40\": 0.2859709858894348\n",
            "}\n"
          ],
          "name": "stdout"
        },
        {
          "output_type": "stream",
          "text": [
            "train epoch: 99, train loss: 0.0071048294625210544: 100%|██████████| 108/108 [02:35<00:00,  1.44s/it]\n"
          ],
          "name": "stderr"
        },
        {
          "output_type": "stream",
          "text": [
            "train metric ...\n"
          ],
          "name": "stdout"
        },
        {
          "output_type": "stream",
          "text": [
            "\r  0%|          | 0/16 [00:00<?, ?it/s]"
          ],
          "name": "stderr"
        },
        {
          "output_type": "stream",
          "text": [
            "{\n",
            "    \"PHR_10\": 0.562862950058072,\n",
            "    \"PHR_20\": 0.6443089430894309,\n",
            "    \"PHR_30\": 0.6853948896631823,\n",
            "    \"PHR_40\": 0.7106562137049942,\n",
            "    \"ndcg_10\": 0.20943857729434967,\n",
            "    \"ndcg_20\": 0.22663076221942902,\n",
            "    \"ndcg_30\": 0.23727838695049286,\n",
            "    \"ndcg_40\": 0.24482594430446625,\n",
            "    \"recall_10\": 0.22915621101856232,\n",
            "    \"recall_20\": 0.29058578610420227,\n",
            "    \"recall_30\": 0.32442182302474976,\n",
            "    \"recall_40\": 0.34928926825523376\n",
            "}\n"
          ],
          "name": "stdout"
        },
        {
          "output_type": "stream",
          "text": [
            "validate epoch: 99, validate loss: 0.0077771150099579245: 100%|██████████| 16/16 [00:12<00:00,  1.33it/s]\n"
          ],
          "name": "stderr"
        },
        {
          "output_type": "stream",
          "text": [
            "validate metric ...\n",
            "{\n",
            "    \"PHR_10\": 0.44715447154471544,\n",
            "    \"PHR_20\": 0.5640243902439024,\n",
            "    \"PHR_30\": 0.6148373983739838,\n",
            "    \"PHR_40\": 0.657520325203252,\n",
            "    \"ndcg_10\": 0.1393987387418747,\n",
            "    \"ndcg_20\": 0.16048966348171234,\n",
            "    \"ndcg_30\": 0.17169684171676636,\n",
            "    \"ndcg_40\": 0.18014846742153168,\n",
            "    \"recall_10\": 0.1616867482662201,\n",
            "    \"recall_20\": 0.22584471106529236,\n",
            "    \"recall_30\": 0.26045796275138855,\n",
            "    \"recall_40\": 0.2878376841545105\n",
            "}\n",
            "cost 17415 seconds\n"
          ],
          "name": "stdout"
        }
      ]
    },
    {
      "cell_type": "code",
      "metadata": {
        "id": "ydEktYOddO93"
      },
      "source": [
        ""
      ],
      "execution_count": null,
      "outputs": []
    },
    {
      "cell_type": "code",
      "metadata": {
        "colab": {
          "base_uri": "https://localhost:8080/"
        },
        "id": "5sLAKP48a5xd",
        "outputId": "305f37ce-fcf8-4ee3-aba4-e7cfeb0088fa"
      },
      "source": [
        "ls"
      ],
      "execution_count": null,
      "outputs": [
        {
          "output_type": "stream",
          "text": [
            "\u001b[0m\u001b[01;34mdata\u001b[0m/    \u001b[01;34mmodel\u001b[0m/      \u001b[01;34mresults\u001b[0m/  \u001b[01;34msave_model_folder\u001b[0m/  \u001b[01;34mtrain\u001b[0m/\n",
            "\u001b[01;34mgdrive\u001b[0m/  \u001b[01;32mREADME.md\u001b[0m*  \u001b[01;34mruns\u001b[0m/     \u001b[01;34mtest\u001b[0m/               \u001b[01;34mutils\u001b[0m/\n"
          ],
          "name": "stdout"
        }
      ]
    },
    {
      "cell_type": "code",
      "metadata": {
        "colab": {
          "base_uri": "https://localhost:8080/"
        },
        "id": "PXGs6FWtbKqX",
        "outputId": "b57d5c51-3643-451b-bdbf-0cce20b313ee"
      },
      "source": [
        "cat test/testing_model.py"
      ],
      "execution_count": null,
      "outputs": [
        {
          "output_type": "stream",
          "text": [
            "import json\n",
            "import sys\n",
            "import os\n",
            "\n",
            "from utils.metric import evaluate\n",
            "from utils.data_container import get_data_loader\n",
            "from utils.load_config import get_attribute\n",
            "from utils.util import convert_to_gpu\n",
            "from train.train_main import create_model\n",
            "from utils.util import load_model\n",
            "\n",
            "\n",
            "if __name__ == '__main__':\n",
            "    model_path = f\"../save_model_folder/{get_attribute('data')}/{get_attribute('save_model_folder')}\" \\\n",
            "        f\"/model_epoch_19.pkl\"\n",
            "    print(f'model path -> {model_path}')\n",
            "\n",
            "    model = create_model()\n",
            "    model = load_model(model, model_path)\n",
            "    model = convert_to_gpu(model)\n",
            "    print(model)\n",
            "\n",
            "    test_data_loader = get_data_loader(data_path=get_attribute('data_path'),\n",
            "                                       data_type='test',\n",
            "                                       batch_size=get_attribute('batch_size'),\n",
            "                                       item_embedding_matrix=model.item_embedding)\n",
            "\n",
            "    print('===== Test predict result =====')\n",
            "    scores = evaluate(model,\n",
            "                      test_data_loader)\n",
            "\n",
            "    scores = sorted(scores.items(), key=lambda item: item[0], reverse=False)\n",
            "    scores = {item[0]: item[1] for item in scores}\n",
            "\n",
            "    scores_str = json.dumps(scores, indent=4)\n",
            "    print(f'scores -> {scores_str}')\n",
            "\n",
            "    model_folder = f\"../results/{get_attribute('data')}\"\n",
            "    if not os.path.exists(model_folder):\n",
            "        os.makedirs(model_folder, exist_ok=True)\n",
            "\n",
            "    save_path = f\"{model_folder}/{get_attribute('save_model_folder')}_result.json\"\n",
            "    print(f'save path is {save_path}')\n",
            "\n",
            "    with open(save_path, 'w') as file:\n",
            "        file.write(scores_str)\n",
            "    sys.exit()\n"
          ],
          "name": "stdout"
        }
      ]
    },
    {
      "cell_type": "code",
      "metadata": {
        "id": "hGNOK3R4dTwQ"
      },
      "source": [
        ""
      ],
      "execution_count": null,
      "outputs": []
    },
    {
      "cell_type": "code",
      "metadata": {
        "colab": {
          "base_uri": "https://localhost:8080/"
        },
        "id": "ylMWVCdXmlZ1",
        "outputId": "3b530090-23f1-4c46-9e7b-7c0e2208ab97"
      },
      "source": [
        "import json\n",
        "import sys\n",
        "import os\n",
        "\n",
        "from utils.metric import evaluate\n",
        "from utils.data_container import get_data_loader\n",
        "from utils.load_config import get_attribute\n",
        "from utils.util import convert_to_gpu\n",
        "from train.train_main import create_model\n",
        "from utils.util import load_model\n",
        "\n",
        "\n",
        "if __name__ == '__main__':\n",
        "    model_path = \"/content/gdrive/MyDrive/DNNTSP-master/save_model_folder/model_epoch_1.pkl\"  \n",
        "  \n",
        "    print(f'model path -> {model_path}')\n",
        "\n",
        "    model = create_model()\n",
        "    model = load_model(model, model_path)\n",
        "    model = convert_to_gpu(model)\n",
        "    print(model)\n",
        "\n",
        "    test_data_loader = get_data_loader(data_path=get_attribute('data_path'),\n",
        "                                       data_type='test',\n",
        "                                       batch_size=get_attribute('batch_size'),\n",
        "                                       item_embedding_matrix=model.item_embedding)\n",
        "\n",
        "    print('===== Test predict result =====')\n",
        "    scores = evaluate(model,\n",
        "                      test_data_loader)\n",
        "\n",
        "    scores = sorted(scores.items(), key=lambda item: item[0], reverse=False)\n",
        "    scores = {item[0]: item[1] for item in scores}\n",
        "\n",
        "    scores_str = json.dumps(scores, indent=4)\n",
        "    print(f'scores -> {scores_str}')\n",
        "\n",
        "    model_folder = f\"../results/{get_attribute('data')}\"\n",
        "    if not os.path.exists(model_folder):\n",
        "        os.makedirs(model_folder, exist_ok=True)\n",
        "\n",
        "    #save_path = f\"{model_folder}/{get_attribute('save_model_folder')}_result.json\"\n",
        "    #print(f'save path is {save_path}')\n",
        "\n",
        "    with open(\"results.json\", 'w') as file:\n",
        "        file.write(scores_str)\n",
        " "
      ],
      "execution_count": null,
      "outputs": [
        {
          "output_type": "stream",
          "text": [
            "model path -> /content/gdrive/MyDrive/DNNTSP-master/save_model_folder/model_epoch_1.pkl\n",
            "TaFeng/DNNTSP\n",
            "temporal_set_prediction(\n",
            "  (item_embedding): Embedding(4935, 32)\n",
            "  (stacked_gcn): stacked_weighted_GCN_blocks(\n",
            "    (0): weighted_GCN(\n",
            "      (gcns): ModuleList(\n",
            "        (0): weighted_graph_conv(\n",
            "          (linear): Linear(in_features=32, out_features=32, bias=True)\n",
            "        )\n",
            "        (1): weighted_graph_conv(\n",
            "          (linear): Linear(in_features=32, out_features=32, bias=True)\n",
            "        )\n",
            "      )\n",
            "      (relus): ModuleList(\n",
            "        (0): ReLU()\n",
            "        (1): ReLU()\n",
            "      )\n",
            "      (bns): ModuleList(\n",
            "        (0): BatchNorm1d(32, eps=1e-05, momentum=0.1, affine=True, track_running_stats=True)\n",
            "        (1): BatchNorm1d(32, eps=1e-05, momentum=0.1, affine=True, track_running_stats=True)\n",
            "      )\n",
            "    )\n",
            "  )\n",
            "  (masked_self_attention): masked_self_attention(\n",
            "    (Wq): Linear(in_features=32, out_features=32, bias=False)\n",
            "    (Wk): Linear(in_features=32, out_features=32, bias=False)\n",
            "    (Wv): Linear(in_features=32, out_features=32, bias=False)\n",
            "  )\n",
            "  (aggregate_nodes_temporal_feature): aggregate_nodes_temporal_feature(\n",
            "    (Wq): Linear(in_features=32, out_features=1, bias=False)\n",
            "  )\n",
            "  (global_gated_update): global_gated_update(\n",
            "    (item_embedding): Embedding(4935, 32)\n",
            "  )\n",
            "  (fc_output): Linear(in_features=32, out_features=1, bias=True)\n",
            ")\n"
          ],
          "name": "stdout"
        },
        {
          "output_type": "stream",
          "text": [
            "\r  0%|          | 0/31 [00:00<?, ?it/s]"
          ],
          "name": "stderr"
        },
        {
          "output_type": "stream",
          "text": [
            "test data length -> 1969\n",
            "===== Test predict result =====\n"
          ],
          "name": "stdout"
        },
        {
          "output_type": "stream",
          "text": [
            "100%|██████████| 31/31 [00:22<00:00,  1.38it/s]\n"
          ],
          "name": "stderr"
        },
        {
          "output_type": "stream",
          "text": [
            "scores -> {\n",
            "    \"PHR_10\": 0.015236160487557136,\n",
            "    \"PHR_20\": 0.02437785678009142,\n",
            "    \"PHR_30\": 0.029964448958862366,\n",
            "    \"PHR_40\": 0.041137633316404264,\n",
            "    \"ndcg_10\": 0.002009330317378044,\n",
            "    \"ndcg_20\": 0.0025547598488628864,\n",
            "    \"ndcg_30\": 0.0029573296196758747,\n",
            "    \"ndcg_40\": 0.0035013165324926376,\n",
            "    \"recall_10\": 0.0031192232854664326,\n",
            "    \"recall_20\": 0.004659412894397974,\n",
            "    \"recall_30\": 0.006085589528083801,\n",
            "    \"recall_40\": 0.0075263530015945435\n",
            "}\n"
          ],
          "name": "stdout"
        }
      ]
    },
    {
      "cell_type": "code",
      "metadata": {
        "colab": {
          "base_uri": "https://localhost:8080/"
        },
        "id": "iyN1EeBKgWjB",
        "outputId": "312e9776-3da3-43cd-c3ca-672e62c9816f"
      },
      "source": [
        "ls"
      ],
      "execution_count": null,
      "outputs": [
        {
          "output_type": "stream",
          "text": [
            "\u001b[0m\u001b[01;34mdata\u001b[0m/    \u001b[01;34mmodel\u001b[0m/      \u001b[01;34mresults\u001b[0m/      \u001b[01;34mruns\u001b[0m/               \u001b[01;34mtest\u001b[0m/   \u001b[01;34mutils\u001b[0m/\n",
            "\u001b[01;34mgdrive\u001b[0m/  \u001b[01;32mREADME.md\u001b[0m*  results.json  \u001b[01;34msave_model_folder\u001b[0m/  \u001b[01;34mtrain\u001b[0m/\n"
          ],
          "name": "stdout"
        }
      ]
    },
    {
      "cell_type": "markdown",
      "metadata": {
        "id": "Ag85y-0HeEjC"
      },
      "source": [
        "# New Section"
      ]
    },
    {
      "cell_type": "code",
      "metadata": {
        "colab": {
          "base_uri": "https://localhost:8080/"
        },
        "id": "yvPpKV1zolmW",
        "outputId": "b2195c87-33e5-4630-aab9-e6b891224887"
      },
      "source": [
        " ls /content/gdrive/MyDrive/DNNTSP-master/save_model_folder/"
      ],
      "execution_count": null,
      "outputs": [
        {
          "output_type": "stream",
          "text": [
            "model_epoch_0.pkl  model_epoch_1.pkl\n"
          ],
          "name": "stdout"
        }
      ]
    },
    {
      "cell_type": "code",
      "metadata": {
        "colab": {
          "base_uri": "https://localhost:8080/"
        },
        "id": "w6TlDvP6o28S",
        "outputId": "fe9c1374-6611-4a4b-e222-995cd7795c1b"
      },
      "source": [
        "ls"
      ],
      "execution_count": null,
      "outputs": [
        {
          "output_type": "stream",
          "text": [
            "\u001b[0m\u001b[01;34mdata\u001b[0m/    \u001b[01;34mmodel\u001b[0m/      \u001b[01;34mresults\u001b[0m/  \u001b[01;34msave_model_folder\u001b[0m/  \u001b[01;34mtrain\u001b[0m/\n",
            "\u001b[01;34mgdrive\u001b[0m/  \u001b[01;32mREADME.md\u001b[0m*  \u001b[01;34mruns\u001b[0m/     \u001b[01;34mtest\u001b[0m/               \u001b[01;34mutils\u001b[0m/\n"
          ],
          "name": "stdout"
        }
      ]
    },
    {
      "cell_type": "code",
      "metadata": {
        "colab": {
          "base_uri": "https://localhost:8080/"
        },
        "id": "pUDnA8EcJ-rA",
        "outputId": "f55ab59e-65a2-4d91-b24a-53cc827ce698"
      },
      "source": [
        "cat results.json"
      ],
      "execution_count": null,
      "outputs": [
        {
          "output_type": "stream",
          "text": [
            "{\n",
            "    \"PHR_10\": 0.015236160487557136,\n",
            "    \"PHR_20\": 0.02437785678009142,\n",
            "    \"PHR_30\": 0.029964448958862366,\n",
            "    \"PHR_40\": 0.041137633316404264,\n",
            "    \"ndcg_10\": 0.002009330317378044,\n",
            "    \"ndcg_20\": 0.0025547598488628864,\n",
            "    \"ndcg_30\": 0.0029573296196758747,\n",
            "    \"ndcg_40\": 0.0035013165324926376,\n",
            "    \"recall_10\": 0.0031192232854664326,\n",
            "    \"recall_20\": 0.004659412894397974,\n",
            "    \"recall_30\": 0.006085589528083801,\n",
            "    \"recall_40\": 0.0075263530015945435\n",
            "}"
          ],
          "name": "stdout"
        }
      ]
    }
  ]
}